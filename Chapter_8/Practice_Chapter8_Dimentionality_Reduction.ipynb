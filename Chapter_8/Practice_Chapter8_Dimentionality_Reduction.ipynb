{
  "nbformat": 4,
  "nbformat_minor": 0,
  "metadata": {
    "colab": {
      "name": "Practice_Chapter8_Dimentionality_Reduction.ipynb",
      "provenance": [],
      "authorship_tag": "ABX9TyNQsn5Jy61eOMLBlAitPBQH",
      "include_colab_link": true
    },
    "kernelspec": {
      "name": "python3",
      "display_name": "Python 3"
    },
    "language_info": {
      "name": "python"
    }
  },
  "cells": [
    {
      "cell_type": "markdown",
      "metadata": {
        "id": "view-in-github",
        "colab_type": "text"
      },
      "source": [
        "<a href=\"https://colab.research.google.com/github/yashveersinghsohi/Hands_On_ML_Book_Practice/blob/master/Chapter_8/Practice_Chapter8_Dimentionality_Reduction.ipynb\" target=\"_parent\"><img src=\"https://colab.research.google.com/assets/colab-badge.svg\" alt=\"Open In Colab\"/></a>"
      ]
    },
    {
      "cell_type": "markdown",
      "metadata": {
        "id": "Or7pz6kBOUcs"
      },
      "source": [
        "# Importing Packages"
      ]
    },
    {
      "cell_type": "code",
      "metadata": {
        "id": "MhP1pn0gQ5ZN"
      },
      "source": [
        ""
      ],
      "execution_count": null,
      "outputs": []
    },
    {
      "cell_type": "markdown",
      "source": [
        "# PCA (Projection)"
      ],
      "metadata": {
        "id": "9ozLnlufng11"
      }
    },
    {
      "cell_type": "markdown",
      "source": [
        "## Manually"
      ],
      "metadata": {
        "id": "8Te1XMPeniM9"
      }
    },
    {
      "cell_type": "markdown",
      "source": [
        "- Use SVD\n",
        "- Report Components\n",
        "- Show Projections\n",
        "- Show Inverse Transformation"
      ],
      "metadata": {
        "id": "f2j_RVk9nokl"
      }
    },
    {
      "cell_type": "code",
      "source": [
        ""
      ],
      "metadata": {
        "id": "XvHtJ0zjnh69"
      },
      "execution_count": null,
      "outputs": []
    },
    {
      "cell_type": "markdown",
      "source": [
        "## SKlearn"
      ],
      "metadata": {
        "id": "UkB5Dnnynjne"
      }
    },
    {
      "cell_type": "markdown",
      "source": [
        "- Project\n",
        "- Explained Variance Ratio\n",
        "- Choosing no. of components that explain x% variance\n",
        "- Show Inverse Transformation\n",
        "- Randomized PCA (a bit of theory)"
      ],
      "metadata": {
        "id": "V23_PIP4nvG-"
      }
    },
    {
      "cell_type": "markdown",
      "source": [
        "## Incremental PCA"
      ],
      "metadata": {
        "id": "na8MXiVQpYd3"
      }
    },
    {
      "cell_type": "markdown",
      "source": [
        "- Using np.array_split\n",
        "- Using np.memmap"
      ],
      "metadata": {
        "id": "BFHBCxCypaBs"
      }
    },
    {
      "cell_type": "markdown",
      "source": [
        "## Kernel PCA"
      ],
      "metadata": {
        "id": "R0AeudelqSk9"
      }
    },
    {
      "cell_type": "markdown",
      "source": [
        "- Use Pipelines and GridSearchCV\n",
        "- Understand why does reconstruction not work in case of Kernel PCA"
      ],
      "metadata": {
        "id": "hSRLUVViqd_6"
      }
    },
    {
      "cell_type": "markdown",
      "source": [
        "# LLE (Manifold)"
      ],
      "metadata": {
        "id": "_bLBS7S5swAT"
      }
    },
    {
      "cell_type": "markdown",
      "source": [
        "- Use sklearn and show one example"
      ],
      "metadata": {
        "id": "4pv3nxjpybqo"
      }
    },
    {
      "cell_type": "code",
      "source": [
        ""
      ],
      "metadata": {
        "id": "6y6RXWn_nk8T"
      },
      "execution_count": null,
      "outputs": []
    },
    {
      "cell_type": "markdown",
      "source": [
        "# Other Dimensionality Reduction Techniques"
      ],
      "metadata": {
        "id": "_-2mwNVzyeMe"
      }
    },
    {
      "cell_type": "markdown",
      "source": [
        "- Random Projections\n",
        "- Multidimensional Scaling (MDS) (keep distances similar)\n",
        "- Isomap (Creates NN graph, and keeps geo-dist similar)\n",
        "- t-Distributed Stochastic Neighbor Embedding (t-SNE) (similar points close, and vice versa - used in visualization mostly)\n",
        "- Linear Discriminant Analysis (LDA) (Classification algo, and has dimensionality reduction as an intermediary step. Can be used for dimensionality reduction before classification algos)"
      ],
      "metadata": {
        "id": "JFvnefILyqUm"
      }
    },
    {
      "cell_type": "code",
      "source": [
        ""
      ],
      "metadata": {
        "id": "BsgBoO2FzWzv"
      },
      "execution_count": null,
      "outputs": []
    }
  ]
}