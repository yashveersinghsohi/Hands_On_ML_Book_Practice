{
  "nbformat": 4,
  "nbformat_minor": 0,
  "metadata": {
    "colab": {
      "name": "Chapter7_Ensembling_Random_Forest.ipynb",
      "provenance": [],
      "toc_visible": true,
      "authorship_tag": "ABX9TyN3QESEH2+VBBr6zkx1gH7f",
      "include_colab_link": true
    },
    "kernelspec": {
      "name": "python3",
      "display_name": "Python 3"
    },
    "language_info": {
      "name": "python"
    }
  },
  "cells": [
    {
      "cell_type": "markdown",
      "metadata": {
        "id": "view-in-github",
        "colab_type": "text"
      },
      "source": [
        "<a href=\"https://colab.research.google.com/github/yashveersinghsohi/Hands_On_ML_Book_Practice/blob/master/Chapter_7/Chapter7_Ensembling_Random_Forest.ipynb\" target=\"_parent\"><img src=\"https://colab.research.google.com/assets/colab-badge.svg\" alt=\"Open In Colab\"/></a>"
      ]
    },
    {
      "cell_type": "markdown",
      "metadata": {
        "id": "fsomjtmCLmlR"
      },
      "source": [
        "# Importing Packages"
      ]
    },
    {
      "cell_type": "code",
      "metadata": {
        "id": "Jwv03dZiLohF"
      },
      "source": [
        "import pandas as pd\n",
        "import numpy as np\n",
        "import matplotlib.pyplot as plt\n",
        "\n",
        "from sklearn.ensemble import (\n",
        "    VotingClassifier, \n",
        "    RandomForestClassifier, \n",
        "    BaggingClassifier, \n",
        "    AdaBoostClassifier, \n",
        "    GradientBoostingRegressor\n",
        "  )\n",
        "from sklearn.linear_model import LogisticRegression\n",
        "from sklearn.svm import SVC\n",
        "from sklearn.tree import DecisionTreeClassifier\n",
        "\n",
        "from sklearn.metrics import accuracy_score, mean_squared_error\n",
        "\n",
        "from sklearn.model_selection import train_test_split\n",
        "from sklearn.datasets import make_moons, load_iris\n",
        "\n",
        "import xgboost"
      ],
      "execution_count": 56,
      "outputs": []
    },
    {
      "cell_type": "markdown",
      "metadata": {
        "id": "Qm2vYBe3UoIm"
      },
      "source": [
        "# Data"
      ]
    },
    {
      "cell_type": "code",
      "metadata": {
        "id": "VAHDDAYHLu87"
      },
      "source": [
        "X, y = make_moons(n_samples=500, noise=0.30, random_state=42)\n",
        "X_train, X_test, y_train, y_test = train_test_split(X, y, random_state=42)"
      ],
      "execution_count": 15,
      "outputs": []
    },
    {
      "cell_type": "markdown",
      "metadata": {
        "id": "_BEoh2wzUpiK"
      },
      "source": [
        "# Voting Classifier"
      ]
    },
    {
      "cell_type": "markdown",
      "metadata": {
        "id": "T54POi24V8iz"
      },
      "source": [
        "## Hard Voting"
      ]
    },
    {
      "cell_type": "markdown",
      "metadata": {
        "id": "K5-RXJH8U_uq"
      },
      "source": [
        "**Base estimators**"
      ]
    },
    {
      "cell_type": "code",
      "metadata": {
        "id": "RQizJNnZUpJN"
      },
      "source": [
        "log_clf = LogisticRegression(random_state=42, solver=\"lbfgs\")\n",
        "rf_clf = RandomForestClassifier(random_state=42, n_estimators=100)\n",
        "svm_clf = SVC(random_state=42, gamma=\"scale\")"
      ],
      "execution_count": 16,
      "outputs": []
    },
    {
      "cell_type": "markdown",
      "metadata": {
        "id": "xOXsmKJ8WH7h"
      },
      "source": [
        "**Ensemble**"
      ]
    },
    {
      "cell_type": "code",
      "metadata": {
        "id": "28si78qLVEZ-"
      },
      "source": [
        "voting_clf = VotingClassifier(\n",
        "    estimators=[\n",
        "                (\"lr\", log_clf), \n",
        "                (\"rf\", rf_clf), \n",
        "                (\"svm\", svm_clf)\n",
        "              ], \n",
        "    voting=\"hard\"\n",
        "   )"
      ],
      "execution_count": 17,
      "outputs": []
    },
    {
      "cell_type": "code",
      "metadata": {
        "colab": {
          "base_uri": "https://localhost:8080/"
        },
        "id": "-7c1lMF7Vfu1",
        "outputId": "f4130113-3c9e-488b-c26f-262fb512f506"
      },
      "source": [
        "voting_clf.fit(X_train, y_train)"
      ],
      "execution_count": 18,
      "outputs": [
        {
          "output_type": "execute_result",
          "data": {
            "text/plain": [
              "VotingClassifier(estimators=[('lr',\n",
              "                              LogisticRegression(C=1.0, class_weight=None,\n",
              "                                                 dual=False, fit_intercept=True,\n",
              "                                                 intercept_scaling=1,\n",
              "                                                 l1_ratio=None, max_iter=100,\n",
              "                                                 multi_class='auto',\n",
              "                                                 n_jobs=None, penalty='l2',\n",
              "                                                 random_state=42,\n",
              "                                                 solver='lbfgs', tol=0.0001,\n",
              "                                                 verbose=0, warm_start=False)),\n",
              "                             ('rf',\n",
              "                              RandomForestClassifier(bootstrap=True,\n",
              "                                                     ccp_alpha=0.0,\n",
              "                                                     class_weight=None,\n",
              "                                                     crit...\n",
              "                                                     oob_score=False,\n",
              "                                                     random_state=42, verbose=0,\n",
              "                                                     warm_start=False)),\n",
              "                             ('svm',\n",
              "                              SVC(C=1.0, break_ties=False, cache_size=200,\n",
              "                                  class_weight=None, coef0=0.0,\n",
              "                                  decision_function_shape='ovr', degree=3,\n",
              "                                  gamma='scale', kernel='rbf', max_iter=-1,\n",
              "                                  probability=False, random_state=42,\n",
              "                                  shrinking=True, tol=0.001, verbose=False))],\n",
              "                 flatten_transform=True, n_jobs=None, voting='hard',\n",
              "                 weights=None)"
            ]
          },
          "metadata": {
            "tags": []
          },
          "execution_count": 18
        }
      ]
    },
    {
      "cell_type": "markdown",
      "metadata": {
        "id": "VW2etPdQWJ3-"
      },
      "source": [
        "**Accuracy**"
      ]
    },
    {
      "cell_type": "code",
      "metadata": {
        "colab": {
          "base_uri": "https://localhost:8080/"
        },
        "id": "77tEnIddViCl",
        "outputId": "fee85840-750b-45f6-9a7f-623ed8d69753"
      },
      "source": [
        "for clf in (log_clf, rf_clf, svm_clf, voting_clf):\n",
        "  clf.fit(X_train, y_train)\n",
        "  y_pred = clf.predict(X_test)\n",
        "  print(clf.__class__.__name__, accuracy_score(y_test, y_pred))"
      ],
      "execution_count": 20,
      "outputs": [
        {
          "output_type": "stream",
          "text": [
            "LogisticRegression 0.864\n",
            "RandomForestClassifier 0.896\n",
            "SVC 0.896\n",
            "VotingClassifier 0.912\n"
          ],
          "name": "stdout"
        }
      ]
    },
    {
      "cell_type": "markdown",
      "metadata": {
        "id": "LI16gOIzWLRD"
      },
      "source": [
        "## Soft Voting"
      ]
    },
    {
      "cell_type": "markdown",
      "metadata": {
        "id": "Dq2vdu3mWOQc"
      },
      "source": [
        "**Base Estimators**"
      ]
    },
    {
      "cell_type": "code",
      "metadata": {
        "id": "5iWtUk8eWMgR"
      },
      "source": [
        "log_clf = LogisticRegression(random_state=42, solver=\"lbfgs\")\n",
        "rf_clf = RandomForestClassifier(random_state=42, n_estimators=100)\n",
        "svm_clf = SVC(random_state=42, gamma=\"scale\", probability=True)"
      ],
      "execution_count": 21,
      "outputs": []
    },
    {
      "cell_type": "markdown",
      "metadata": {
        "id": "ZpJNYNV8WUx4"
      },
      "source": [
        "**Ensemble**"
      ]
    },
    {
      "cell_type": "code",
      "metadata": {
        "id": "z8-FPZ3ZWWWN"
      },
      "source": [
        "voting_clf = VotingClassifier(\n",
        "    estimators=[\n",
        "                (\"lr\", log_clf), \n",
        "                (\"rf\", rf_clf), \n",
        "                (\"svm\", svm_clf)\n",
        "              ], \n",
        "    voting=\"hard\"\n",
        "   )"
      ],
      "execution_count": 22,
      "outputs": []
    },
    {
      "cell_type": "code",
      "metadata": {
        "colab": {
          "base_uri": "https://localhost:8080/"
        },
        "id": "UrMlKuXoWZpz",
        "outputId": "a440f47d-dfa2-41f7-d2e5-57bd4739dfde"
      },
      "source": [
        "voting_clf.fit(X_train, y_train)"
      ],
      "execution_count": 23,
      "outputs": [
        {
          "output_type": "execute_result",
          "data": {
            "text/plain": [
              "VotingClassifier(estimators=[('lr',\n",
              "                              LogisticRegression(C=1.0, class_weight=None,\n",
              "                                                 dual=False, fit_intercept=True,\n",
              "                                                 intercept_scaling=1,\n",
              "                                                 l1_ratio=None, max_iter=100,\n",
              "                                                 multi_class='auto',\n",
              "                                                 n_jobs=None, penalty='l2',\n",
              "                                                 random_state=42,\n",
              "                                                 solver='lbfgs', tol=0.0001,\n",
              "                                                 verbose=0, warm_start=False)),\n",
              "                             ('rf',\n",
              "                              RandomForestClassifier(bootstrap=True,\n",
              "                                                     ccp_alpha=0.0,\n",
              "                                                     class_weight=None,\n",
              "                                                     crit...\n",
              "                                                     oob_score=False,\n",
              "                                                     random_state=42, verbose=0,\n",
              "                                                     warm_start=False)),\n",
              "                             ('svm',\n",
              "                              SVC(C=1.0, break_ties=False, cache_size=200,\n",
              "                                  class_weight=None, coef0=0.0,\n",
              "                                  decision_function_shape='ovr', degree=3,\n",
              "                                  gamma='scale', kernel='rbf', max_iter=-1,\n",
              "                                  probability=True, random_state=42,\n",
              "                                  shrinking=True, tol=0.001, verbose=False))],\n",
              "                 flatten_transform=True, n_jobs=None, voting='hard',\n",
              "                 weights=None)"
            ]
          },
          "metadata": {
            "tags": []
          },
          "execution_count": 23
        }
      ]
    },
    {
      "cell_type": "markdown",
      "metadata": {
        "id": "awg15twxWaNe"
      },
      "source": [
        "**Accuracy**"
      ]
    },
    {
      "cell_type": "code",
      "metadata": {
        "colab": {
          "base_uri": "https://localhost:8080/"
        },
        "id": "kpoh4ul3WbBq",
        "outputId": "41b163b7-609e-45e7-e339-ded2f6ace7f9"
      },
      "source": [
        "for clf in (log_clf, rf_clf, svm_clf, voting_clf):\n",
        "  clf.fit(X_train, y_train)\n",
        "  y_pred = clf.predict(X_test)\n",
        "  print(clf.__class__.__name__, accuracy_score(y_test, y_pred))"
      ],
      "execution_count": 24,
      "outputs": [
        {
          "output_type": "stream",
          "text": [
            "LogisticRegression 0.864\n",
            "RandomForestClassifier 0.896\n",
            "SVC 0.896\n",
            "VotingClassifier 0.912\n"
          ],
          "name": "stdout"
        }
      ]
    },
    {
      "cell_type": "markdown",
      "metadata": {
        "id": "Ycot-CHSW4DO"
      },
      "source": [
        "# Bagging and Pasting"
      ]
    },
    {
      "cell_type": "code",
      "metadata": {
        "id": "lbqMvrB3WeRG"
      },
      "source": [
        "bag_clf = BaggingClassifier(\n",
        "    base_estimator=DecisionTreeClassifier(random_state=42), \n",
        "    n_estimators=500, \n",
        "    bootstrap=True, \n",
        "    n_jobs=-1, \n",
        "    random_state=42\n",
        "  )"
      ],
      "execution_count": 31,
      "outputs": []
    },
    {
      "cell_type": "code",
      "metadata": {
        "id": "Zb28XK7Tcz9Z"
      },
      "source": [
        "bag_clf.fit(X_train, y_train)\n",
        "y_pred = bag_clf.predict(X_test)"
      ],
      "execution_count": 32,
      "outputs": []
    },
    {
      "cell_type": "code",
      "metadata": {
        "colab": {
          "base_uri": "https://localhost:8080/"
        },
        "id": "wHeTsZlZdjNb",
        "outputId": "b766206e-fe41-40e7-a42b-3d70696488be"
      },
      "source": [
        "accuracy_score(y_test, y_pred)"
      ],
      "execution_count": 33,
      "outputs": [
        {
          "output_type": "execute_result",
          "data": {
            "text/plain": [
              "0.912"
            ]
          },
          "metadata": {
            "tags": []
          },
          "execution_count": 33
        }
      ]
    },
    {
      "cell_type": "markdown",
      "metadata": {
        "id": "Fe3qjYm2dQ5g"
      },
      "source": [
        "**OOB Score**"
      ]
    },
    {
      "cell_type": "code",
      "metadata": {
        "colab": {
          "base_uri": "https://localhost:8080/"
        },
        "id": "-CYOhiykc0js",
        "outputId": "f5c644ec-970a-494d-cd5b-594a44dabdec"
      },
      "source": [
        "bag_clf = BaggingClassifier(\n",
        "    base_estimator=DecisionTreeClassifier(random_state=42), \n",
        "    n_estimators=500, \n",
        "    bootstrap=True, \n",
        "    n_jobs=-1, \n",
        "    oob_score=True, \n",
        "    random_state=42\n",
        "  )\n",
        "bag_clf.fit(X_train, y_train)\n",
        "bag_clf.oob_score_"
      ],
      "execution_count": 34,
      "outputs": [
        {
          "output_type": "execute_result",
          "data": {
            "text/plain": [
              "0.8986666666666666"
            ]
          },
          "metadata": {
            "tags": []
          },
          "execution_count": 34
        }
      ]
    },
    {
      "cell_type": "code",
      "metadata": {
        "colab": {
          "base_uri": "https://localhost:8080/"
        },
        "id": "RBH9CmIsdatd",
        "outputId": "4141a5b8-f782-4096-e759-25c99f34a03c"
      },
      "source": [
        "y_pred = bag_clf.predict(X_test)\n",
        "accuracy_score(y_test, y_pred)"
      ],
      "execution_count": 35,
      "outputs": [
        {
          "output_type": "execute_result",
          "data": {
            "text/plain": [
              "0.912"
            ]
          },
          "metadata": {
            "tags": []
          },
          "execution_count": 35
        }
      ]
    },
    {
      "cell_type": "code",
      "metadata": {
        "colab": {
          "base_uri": "https://localhost:8080/"
        },
        "id": "cDdBhGtVdl-h",
        "outputId": "a2d9cd3e-608b-4e28-830f-9b0a5076f8cc"
      },
      "source": [
        "bag_clf.oob_decision_function_[:5]"
      ],
      "execution_count": 37,
      "outputs": [
        {
          "output_type": "execute_result",
          "data": {
            "text/plain": [
              "array([[0.32352941, 0.67647059],\n",
              "       [0.35625   , 0.64375   ],\n",
              "       [1.        , 0.        ],\n",
              "       [0.        , 1.        ],\n",
              "       [0.        , 1.        ]])"
            ]
          },
          "metadata": {
            "tags": []
          },
          "execution_count": 37
        }
      ]
    },
    {
      "cell_type": "markdown",
      "metadata": {
        "id": "UGIpxdivhaQB"
      },
      "source": [
        "# Random Forests"
      ]
    },
    {
      "cell_type": "code",
      "metadata": {
        "id": "Mh-tecIyhbRz"
      },
      "source": [
        "rnd_clf = RandomForestClassifier(\n",
        "    n_estimators=500, \n",
        "    max_leaf_nodes=16, \n",
        "    n_jobs=-1\n",
        "  )\n",
        "rnd_clf.fit(X_train, y_train)\n",
        "\n",
        "y_pred_rf = rnd_clf.predict(X_test)"
      ],
      "execution_count": 38,
      "outputs": []
    },
    {
      "cell_type": "markdown",
      "metadata": {
        "id": "gy7SMp74hxYQ"
      },
      "source": [
        "# Feature Importance"
      ]
    },
    {
      "cell_type": "code",
      "metadata": {
        "colab": {
          "base_uri": "https://localhost:8080/"
        },
        "id": "T7xM7ktjhene",
        "outputId": "30e0767f-876e-46e9-fd7b-86a5400bd9fd"
      },
      "source": [
        "iris = load_iris()\n",
        "\n",
        "rnd_clf = RandomForestClassifier(\n",
        "    random_state=42, \n",
        "    n_estimators=500, \n",
        "    n_jobs=-1\n",
        "  )\n",
        "rnd_clf.fit(iris[\"data\"], iris[\"target\"])\n",
        "\n",
        "for name, score in zip(iris[\"feature_names\"], rnd_clf.feature_importances_):\n",
        "  print(name, score)"
      ],
      "execution_count": 42,
      "outputs": [
        {
          "output_type": "stream",
          "text": [
            "sepal length (cm) 0.11249225099876375\n",
            "sepal width (cm) 0.02311928828251033\n",
            "petal length (cm) 0.4410304643639577\n",
            "petal width (cm) 0.4233579963547682\n"
          ],
          "name": "stdout"
        }
      ]
    },
    {
      "cell_type": "markdown",
      "metadata": {
        "id": "BHkcdBegttFc"
      },
      "source": [
        "# Boosting"
      ]
    },
    {
      "cell_type": "markdown",
      "metadata": {
        "id": "zFkzPtb8ywss"
      },
      "source": [
        "## Ada-Boost"
      ]
    },
    {
      "cell_type": "code",
      "metadata": {
        "colab": {
          "base_uri": "https://localhost:8080/"
        },
        "id": "pmSPsvvCiIpz",
        "outputId": "ba948646-0790-41e7-ca5f-685bd8b5a1c0"
      },
      "source": [
        "ada_clf = AdaBoostClassifier(\n",
        "    base_estimator=DecisionTreeClassifier(random_state=42, max_depth=1), \n",
        "    n_estimators=200, \n",
        "    algorithm=\"SAMME.R\", \n",
        "    learning_rate=0.5\n",
        "  )\n",
        "ada_clf.fit(X_train, y_train)"
      ],
      "execution_count": 44,
      "outputs": [
        {
          "output_type": "execute_result",
          "data": {
            "text/plain": [
              "AdaBoostClassifier(algorithm='SAMME.R',\n",
              "                   base_estimator=DecisionTreeClassifier(ccp_alpha=0.0,\n",
              "                                                         class_weight=None,\n",
              "                                                         criterion='gini',\n",
              "                                                         max_depth=1,\n",
              "                                                         max_features=None,\n",
              "                                                         max_leaf_nodes=None,\n",
              "                                                         min_impurity_decrease=0.0,\n",
              "                                                         min_impurity_split=None,\n",
              "                                                         min_samples_leaf=1,\n",
              "                                                         min_samples_split=2,\n",
              "                                                         min_weight_fraction_leaf=0.0,\n",
              "                                                         presort='deprecated',\n",
              "                                                         random_state=42,\n",
              "                                                         splitter='best'),\n",
              "                   learning_rate=0.5, n_estimators=200, random_state=None)"
            ]
          },
          "metadata": {
            "tags": []
          },
          "execution_count": 44
        }
      ]
    },
    {
      "cell_type": "code",
      "metadata": {
        "colab": {
          "base_uri": "https://localhost:8080/"
        },
        "id": "E4Uo2MN-y-_H",
        "outputId": "23ac1140-3cea-44e1-f4ff-91325866f3c9"
      },
      "source": [
        "accuracy_score(\n",
        "    y_true=y_test, \n",
        "    y_pred=ada_clf.predict(X_test)\n",
        "  )"
      ],
      "execution_count": 45,
      "outputs": [
        {
          "output_type": "execute_result",
          "data": {
            "text/plain": [
              "0.896"
            ]
          },
          "metadata": {
            "tags": []
          },
          "execution_count": 45
        }
      ]
    },
    {
      "cell_type": "markdown",
      "metadata": {
        "id": "bF8B-3S5zKUl"
      },
      "source": [
        "## Gradient Boosting"
      ]
    },
    {
      "cell_type": "code",
      "metadata": {
        "colab": {
          "base_uri": "https://localhost:8080/"
        },
        "id": "pYkSou2NzMH9",
        "outputId": "5c82e6f7-156a-4d56-cae0-effdcedbe3fd"
      },
      "source": [
        "np.random.seed(42)\n",
        "X = np.random.rand(100, 1) - 0.5\n",
        "y = 3*X[:, 0]**2 + 0.05 * np.random.randn(100)\n",
        "\n",
        "gbrt = GradientBoostingRegressor(max_depth=2, n_estimators=3, learning_rate=1.0)\n",
        "gbrt.fit(X, y)"
      ],
      "execution_count": 47,
      "outputs": [
        {
          "output_type": "execute_result",
          "data": {
            "text/plain": [
              "GradientBoostingRegressor(alpha=0.9, ccp_alpha=0.0, criterion='friedman_mse',\n",
              "                          init=None, learning_rate=1.0, loss='ls', max_depth=2,\n",
              "                          max_features=None, max_leaf_nodes=None,\n",
              "                          min_impurity_decrease=0.0, min_impurity_split=None,\n",
              "                          min_samples_leaf=1, min_samples_split=2,\n",
              "                          min_weight_fraction_leaf=0.0, n_estimators=3,\n",
              "                          n_iter_no_change=None, presort='deprecated',\n",
              "                          random_state=None, subsample=1.0, tol=0.0001,\n",
              "                          validation_fraction=0.1, verbose=0, warm_start=False)"
            ]
          },
          "metadata": {
            "tags": []
          },
          "execution_count": 47
        }
      ]
    },
    {
      "cell_type": "markdown",
      "metadata": {
        "id": "zWO-hCDj1FT6"
      },
      "source": [
        "**GBM with Early Stopping**"
      ]
    },
    {
      "cell_type": "code",
      "metadata": {
        "colab": {
          "base_uri": "https://localhost:8080/"
        },
        "id": "bhNotyny00Yh",
        "outputId": "99407997-8737-4707-aeb4-cc285dfddbad"
      },
      "source": [
        "X_train, X_val, y_train, y_val = train_test_split(X, y)\n",
        "\n",
        "gbrt = GradientBoostingRegressor(\n",
        "    random_state=42, \n",
        "    max_depth=2, \n",
        "    n_estimators=120\n",
        "  )\n",
        "gbrt.fit(X_train, y_train)"
      ],
      "execution_count": 49,
      "outputs": [
        {
          "output_type": "execute_result",
          "data": {
            "text/plain": [
              "GradientBoostingRegressor(alpha=0.9, ccp_alpha=0.0, criterion='friedman_mse',\n",
              "                          init=None, learning_rate=0.1, loss='ls', max_depth=2,\n",
              "                          max_features=None, max_leaf_nodes=None,\n",
              "                          min_impurity_decrease=0.0, min_impurity_split=None,\n",
              "                          min_samples_leaf=1, min_samples_split=2,\n",
              "                          min_weight_fraction_leaf=0.0, n_estimators=120,\n",
              "                          n_iter_no_change=None, presort='deprecated',\n",
              "                          random_state=42, subsample=1.0, tol=0.0001,\n",
              "                          validation_fraction=0.1, verbose=0, warm_start=False)"
            ]
          },
          "metadata": {
            "tags": []
          },
          "execution_count": 49
        }
      ]
    },
    {
      "cell_type": "code",
      "metadata": {
        "id": "eP9sKPBZ1MrN"
      },
      "source": [
        "errors = [mean_squared_error(y_true=y_val, y_pred=y_pred) \n",
        "          for y_pred in gbrt.staged_predict(X_val)]\n",
        "bst_n_estimators = np.argmin(errors) + 1"
      ],
      "execution_count": 52,
      "outputs": []
    },
    {
      "cell_type": "code",
      "metadata": {
        "colab": {
          "base_uri": "https://localhost:8080/"
        },
        "id": "JU_1PtNm1sMj",
        "outputId": "8a6ffcbb-9c67-46b5-a3c5-40623fbd50fb"
      },
      "source": [
        "gbrt_best = GradientBoostingRegressor(\n",
        "    random_state=42, \n",
        "    max_depth=2, \n",
        "    n_estimators=bst_n_estimators\n",
        "  )\n",
        "gbrt_best.fit(X_train, y_train)"
      ],
      "execution_count": 53,
      "outputs": [
        {
          "output_type": "execute_result",
          "data": {
            "text/plain": [
              "GradientBoostingRegressor(alpha=0.9, ccp_alpha=0.0, criterion='friedman_mse',\n",
              "                          init=None, learning_rate=0.1, loss='ls', max_depth=2,\n",
              "                          max_features=None, max_leaf_nodes=None,\n",
              "                          min_impurity_decrease=0.0, min_impurity_split=None,\n",
              "                          min_samples_leaf=1, min_samples_split=2,\n",
              "                          min_weight_fraction_leaf=0.0, n_estimators=53,\n",
              "                          n_iter_no_change=None, presort='deprecated',\n",
              "                          random_state=42, subsample=1.0, tol=0.0001,\n",
              "                          validation_fraction=0.1, verbose=0, warm_start=False)"
            ]
          },
          "metadata": {
            "tags": []
          },
          "execution_count": 53
        }
      ]
    },
    {
      "cell_type": "code",
      "metadata": {
        "id": "1XYcWGRw11tG"
      },
      "source": [
        "gbrt = GradientBoostingRegressor(\n",
        "    random_state=42, \n",
        "    max_depth=2, \n",
        "    warm_start=True\n",
        "  )\n",
        "\n",
        "min_val_error = float(\"inf\")\n",
        "error_going_up = 0\n",
        "for n_estimators in range(1, 120):\n",
        "  gbrt.n_estimators = n_estimators\n",
        "  gbrt.fit(X_train, y_train)\n",
        "  \n",
        "  y_pred = gbrt.predict(X_val)\n",
        "  val_error = mean_squared_error(y_val, y_pred)\n",
        "  \n",
        "  if val_error < min_val_error:\n",
        "    min_val_error = val_error\n",
        "    error_going_up = 0\n",
        "  else:\n",
        "    error_going_up += 1\n",
        "    if error_going_up == 5:\n",
        "      break # early stopping"
      ],
      "execution_count": 54,
      "outputs": []
    },
    {
      "cell_type": "code",
      "metadata": {
        "colab": {
          "base_uri": "https://localhost:8080/"
        },
        "id": "xBMUas8J2XU2",
        "outputId": "b03e6da7-bfe2-451d-ec42-56318875585c"
      },
      "source": [
        "gbrt"
      ],
      "execution_count": 55,
      "outputs": [
        {
          "output_type": "execute_result",
          "data": {
            "text/plain": [
              "GradientBoostingRegressor(alpha=0.9, ccp_alpha=0.0, criterion='friedman_mse',\n",
              "                          init=None, learning_rate=0.1, loss='ls', max_depth=2,\n",
              "                          max_features=None, max_leaf_nodes=None,\n",
              "                          min_impurity_decrease=0.0, min_impurity_split=None,\n",
              "                          min_samples_leaf=1, min_samples_split=2,\n",
              "                          min_weight_fraction_leaf=0.0, n_estimators=47,\n",
              "                          n_iter_no_change=None, presort='deprecated',\n",
              "                          random_state=42, subsample=1.0, tol=0.0001,\n",
              "                          validation_fraction=0.1, verbose=0, warm_start=True)"
            ]
          },
          "metadata": {
            "tags": []
          },
          "execution_count": 55
        }
      ]
    },
    {
      "cell_type": "markdown",
      "metadata": {
        "id": "iUc47rMM27Hz"
      },
      "source": [
        "## XGBoost"
      ]
    },
    {
      "cell_type": "code",
      "metadata": {
        "colab": {
          "base_uri": "https://localhost:8080/"
        },
        "id": "ElunrazN29DG",
        "outputId": "cc196a7f-cced-45d9-acc1-d6cffcc42eed"
      },
      "source": [
        "xgb_reg = xgboost.XGBRegressor()\n",
        "xgb_reg.fit(X_train, y_train)\n",
        "y_pred = xgb_reg.predict(X_val)"
      ],
      "execution_count": 57,
      "outputs": [
        {
          "output_type": "stream",
          "text": [
            "[10:55:42] WARNING: /workspace/src/objective/regression_obj.cu:152: reg:linear is now deprecated in favor of reg:squarederror.\n"
          ],
          "name": "stdout"
        }
      ]
    },
    {
      "cell_type": "code",
      "metadata": {
        "colab": {
          "base_uri": "https://localhost:8080/"
        },
        "id": "PiRnvXII3CYZ",
        "outputId": "42d480bc-9b6b-48b6-f29e-0ab0618762f0"
      },
      "source": [
        "xgb_reg.fit(\n",
        "    X_train, \n",
        "    y_train, \n",
        "    eval_set=[(X_val, y_val)], \n",
        "    early_stopping_rounds=2\n",
        "  )\n",
        "y_pred = xgb_reg.predict(X_val)"
      ],
      "execution_count": 58,
      "outputs": [
        {
          "output_type": "stream",
          "text": [
            "[10:56:07] WARNING: /workspace/src/objective/regression_obj.cu:152: reg:linear is now deprecated in favor of reg:squarederror.\n",
            "[0]\tvalidation_0-rmse:0.264628\n",
            "Will train until validation_0-rmse hasn't improved in 2 rounds.\n",
            "[1]\tvalidation_0-rmse:0.238158\n",
            "[2]\tvalidation_0-rmse:0.213671\n",
            "[3]\tvalidation_0-rmse:0.191839\n",
            "[4]\tvalidation_0-rmse:0.173536\n",
            "[5]\tvalidation_0-rmse:0.15676\n",
            "[6]\tvalidation_0-rmse:0.142701\n",
            "[7]\tvalidation_0-rmse:0.130993\n",
            "[8]\tvalidation_0-rmse:0.119751\n",
            "[9]\tvalidation_0-rmse:0.11102\n",
            "[10]\tvalidation_0-rmse:0.103301\n",
            "[11]\tvalidation_0-rmse:0.096759\n",
            "[12]\tvalidation_0-rmse:0.090696\n",
            "[13]\tvalidation_0-rmse:0.085071\n",
            "[14]\tvalidation_0-rmse:0.080967\n",
            "[15]\tvalidation_0-rmse:0.076923\n",
            "[16]\tvalidation_0-rmse:0.073651\n",
            "[17]\tvalidation_0-rmse:0.070516\n",
            "[18]\tvalidation_0-rmse:0.067908\n",
            "[19]\tvalidation_0-rmse:0.065979\n",
            "[20]\tvalidation_0-rmse:0.064584\n",
            "[21]\tvalidation_0-rmse:0.063215\n",
            "[22]\tvalidation_0-rmse:0.062086\n",
            "[23]\tvalidation_0-rmse:0.061187\n",
            "[24]\tvalidation_0-rmse:0.060842\n",
            "[25]\tvalidation_0-rmse:0.060447\n",
            "[26]\tvalidation_0-rmse:0.060134\n",
            "[27]\tvalidation_0-rmse:0.059679\n",
            "[28]\tvalidation_0-rmse:0.059234\n",
            "[29]\tvalidation_0-rmse:0.058956\n",
            "[30]\tvalidation_0-rmse:0.059107\n",
            "[31]\tvalidation_0-rmse:0.059167\n",
            "Stopping. Best iteration:\n",
            "[29]\tvalidation_0-rmse:0.058956\n",
            "\n"
          ],
          "name": "stdout"
        }
      ]
    }
  ]
}