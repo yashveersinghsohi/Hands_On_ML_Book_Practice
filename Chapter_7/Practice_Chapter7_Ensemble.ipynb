{
  "nbformat": 4,
  "nbformat_minor": 0,
  "metadata": {
    "colab": {
      "name": "Practice_Chapter7_Ensemble.ipynb",
      "provenance": [],
      "authorship_tag": "ABX9TyNYE2JaZw8nfY+TthnLh9Q8",
      "include_colab_link": true
    },
    "kernelspec": {
      "name": "python3",
      "display_name": "Python 3"
    },
    "language_info": {
      "name": "python"
    }
  },
  "cells": [
    {
      "cell_type": "markdown",
      "metadata": {
        "id": "view-in-github",
        "colab_type": "text"
      },
      "source": [
        "<a href=\"https://colab.research.google.com/github/yashveersinghsohi/Hands_On_ML_Book_Practice/blob/master/Chapter_7/Practice_Chapter7_Ensemble.ipynb\" target=\"_parent\"><img src=\"https://colab.research.google.com/assets/colab-badge.svg\" alt=\"Open In Colab\"/></a>"
      ]
    },
    {
      "cell_type": "markdown",
      "metadata": {
        "id": "Wy_FEoTJuKwC"
      },
      "source": [
        "# Importing Packages"
      ]
    },
    {
      "cell_type": "code",
      "metadata": {
        "id": "hk9ORouQuGhM"
      },
      "source": [
        "import pandas as pd\n",
        "import numpy as np\n",
        "import matplotlib.pyplot as plt\n",
        "import seaborn as sns\n",
        "\n",
        "from sklearn.model_selection import (\n",
        "    train_test_split, \n",
        "    RepeatedStratifiedKFold, \n",
        "    cross_val_score, \n",
        "    RepeatedKFold\n",
        "  )\n",
        "from sklearn.datasets import (\n",
        "    make_moons, \n",
        "    load_iris, \n",
        "    make_classification, \n",
        "    make_regression\n",
        "  )\n",
        "\n",
        "from sklearn.ensemble import (\n",
        "    RandomForestClassifier, \n",
        "    VotingClassifier, \n",
        "    BaggingClassifier, \n",
        "    RandomForestClassifier, \n",
        "    AdaBoostClassifier, \n",
        "    GradientBoostingRegressor, \n",
        "    StackingClassifier, \n",
        "    StackingRegressor\n",
        "  )\n",
        "from sklearn.linear_model import (\n",
        "    LogisticRegression, \n",
        "    LinearRegression\n",
        "  )\n",
        "from sklearn.neighbors import (\n",
        "    KNeighborsClassifier, \n",
        "    KNeighborsRegressor\n",
        "  )\n",
        "from sklearn.svm import (\n",
        "    SVC, \n",
        "    SVR\n",
        "  )\n",
        "from sklearn.tree import (\n",
        "    DecisionTreeClassifier, \n",
        "    DecisionTreeRegressor\n",
        "  )\n",
        "from sklearn.naive_bayes import GaussianNB\n",
        "\n",
        "from sklearn.metrics import (\n",
        "    accuracy_score, \n",
        "    mean_squared_error\n",
        "  )\n",
        "\n",
        "import xgboost"
      ],
      "execution_count": 60,
      "outputs": []
    },
    {
      "cell_type": "markdown",
      "metadata": {
        "id": "ZdIzJizecvvi"
      },
      "source": [
        "# Voting Classifier"
      ]
    },
    {
      "cell_type": "code",
      "metadata": {
        "id": "QYgBAhdLcyht"
      },
      "source": [
        "X, y = make_moons(n_samples=500, noise=0.30, random_state=42)\n",
        "X_train, X_test, y_train, y_test = train_test_split(X, y, random_state=42)"
      ],
      "execution_count": 2,
      "outputs": []
    },
    {
      "cell_type": "code",
      "metadata": {
        "id": "nYRwGNlRc8fd"
      },
      "source": [
        "log_clf = LogisticRegression()\n",
        "rnd_clf = RandomForestClassifier()\n",
        "svm_clf = SVC()"
      ],
      "execution_count": 3,
      "outputs": []
    },
    {
      "cell_type": "markdown",
      "metadata": {
        "id": "2KzR2cpXhAXo"
      },
      "source": [
        "Hard Voting"
      ]
    },
    {
      "cell_type": "code",
      "metadata": {
        "colab": {
          "base_uri": "https://localhost:8080/"
        },
        "id": "bnXWYbfdc8cM",
        "outputId": "7a80fb83-f0b2-4929-ff21-803110ae0a84"
      },
      "source": [
        "voting_clf = VotingClassifier(\n",
        "    estimators=[\n",
        "                (\"lr\", log_clf), \n",
        "                (\"rf\", rnd_clf), \n",
        "                (\"svc\", svm_clf)\n",
        "              ], \n",
        "    voting=\"hard\"\n",
        "  )\n",
        "voting_clf.fit(X_train, y_train)"
      ],
      "execution_count": 4,
      "outputs": [
        {
          "output_type": "execute_result",
          "data": {
            "text/plain": [
              "VotingClassifier(estimators=[('lr',\n",
              "                              LogisticRegression(C=1.0, class_weight=None,\n",
              "                                                 dual=False, fit_intercept=True,\n",
              "                                                 intercept_scaling=1,\n",
              "                                                 l1_ratio=None, max_iter=100,\n",
              "                                                 multi_class='auto',\n",
              "                                                 n_jobs=None, penalty='l2',\n",
              "                                                 random_state=None,\n",
              "                                                 solver='lbfgs', tol=0.0001,\n",
              "                                                 verbose=0, warm_start=False)),\n",
              "                             ('rf',\n",
              "                              RandomForestClassifier(bootstrap=True,\n",
              "                                                     ccp_alpha=0.0,\n",
              "                                                     class_weight=None,\n",
              "                                                     cr...\n",
              "                                                     oob_score=False,\n",
              "                                                     random_state=None,\n",
              "                                                     verbose=0,\n",
              "                                                     warm_start=False)),\n",
              "                             ('svc',\n",
              "                              SVC(C=1.0, break_ties=False, cache_size=200,\n",
              "                                  class_weight=None, coef0=0.0,\n",
              "                                  decision_function_shape='ovr', degree=3,\n",
              "                                  gamma='scale', kernel='rbf', max_iter=-1,\n",
              "                                  probability=False, random_state=None,\n",
              "                                  shrinking=True, tol=0.001, verbose=False))],\n",
              "                 flatten_transform=True, n_jobs=None, voting='hard',\n",
              "                 weights=None)"
            ]
          },
          "metadata": {
            "tags": []
          },
          "execution_count": 4
        }
      ]
    },
    {
      "cell_type": "code",
      "metadata": {
        "colab": {
          "base_uri": "https://localhost:8080/"
        },
        "id": "FRoVd99Ndhu0",
        "outputId": "cd31a14b-a189-4895-d250-d56b3aef35ab"
      },
      "source": [
        "for clf in (log_clf, rnd_clf, svm_clf, voting_clf):\n",
        "  clf.fit(X_train, y_train)\n",
        "  y_pred = clf.predict(X_test)\n",
        "  print(clf.__class__.__name__, accuracy_score(y_true=y_test, y_pred=y_pred))"
      ],
      "execution_count": 5,
      "outputs": [
        {
          "output_type": "stream",
          "text": [
            "LogisticRegression 0.864\n",
            "RandomForestClassifier 0.904\n",
            "SVC 0.896\n",
            "VotingClassifier 0.912\n"
          ],
          "name": "stdout"
        }
      ]
    },
    {
      "cell_type": "markdown",
      "metadata": {
        "id": "Vl7EqUbyhDAD"
      },
      "source": [
        "Soft voting"
      ]
    },
    {
      "cell_type": "code",
      "metadata": {
        "colab": {
          "base_uri": "https://localhost:8080/"
        },
        "id": "tOlS3Dn1d_cL",
        "outputId": "064cc46d-8548-419f-d157-60d45bdbbfdc"
      },
      "source": [
        "log_clf = LogisticRegression()\n",
        "rnd_clf = RandomForestClassifier()\n",
        "svm_clf = SVC(probability=True)\n",
        "\n",
        "voting_clf = VotingClassifier(\n",
        "    estimators=[\n",
        "                (\"lr\", log_clf), \n",
        "                (\"rf\", rnd_clf), \n",
        "                (\"svc\", svm_clf)\n",
        "              ], \n",
        "    voting=\"soft\"\n",
        "  )\n",
        "voting_clf.fit(X_train, y_train)"
      ],
      "execution_count": 6,
      "outputs": [
        {
          "output_type": "execute_result",
          "data": {
            "text/plain": [
              "VotingClassifier(estimators=[('lr',\n",
              "                              LogisticRegression(C=1.0, class_weight=None,\n",
              "                                                 dual=False, fit_intercept=True,\n",
              "                                                 intercept_scaling=1,\n",
              "                                                 l1_ratio=None, max_iter=100,\n",
              "                                                 multi_class='auto',\n",
              "                                                 n_jobs=None, penalty='l2',\n",
              "                                                 random_state=None,\n",
              "                                                 solver='lbfgs', tol=0.0001,\n",
              "                                                 verbose=0, warm_start=False)),\n",
              "                             ('rf',\n",
              "                              RandomForestClassifier(bootstrap=True,\n",
              "                                                     ccp_alpha=0.0,\n",
              "                                                     class_weight=None,\n",
              "                                                     cr...\n",
              "                                                     oob_score=False,\n",
              "                                                     random_state=None,\n",
              "                                                     verbose=0,\n",
              "                                                     warm_start=False)),\n",
              "                             ('svc',\n",
              "                              SVC(C=1.0, break_ties=False, cache_size=200,\n",
              "                                  class_weight=None, coef0=0.0,\n",
              "                                  decision_function_shape='ovr', degree=3,\n",
              "                                  gamma='scale', kernel='rbf', max_iter=-1,\n",
              "                                  probability=True, random_state=None,\n",
              "                                  shrinking=True, tol=0.001, verbose=False))],\n",
              "                 flatten_transform=True, n_jobs=None, voting='soft',\n",
              "                 weights=None)"
            ]
          },
          "metadata": {
            "tags": []
          },
          "execution_count": 6
        }
      ]
    },
    {
      "cell_type": "code",
      "metadata": {
        "colab": {
          "base_uri": "https://localhost:8080/"
        },
        "id": "35OuPHoehPP5",
        "outputId": "7e1d4415-61c8-465d-f5fa-25c4ead7590e"
      },
      "source": [
        "for clf in (log_clf, rnd_clf, svm_clf, voting_clf):\n",
        "  clf.fit(X_train, y_train)\n",
        "  y_pred = clf.predict(X_test)\n",
        "  print(clf.__class__.__name__, accuracy_score(y_true=y_test, y_pred=y_pred))"
      ],
      "execution_count": 7,
      "outputs": [
        {
          "output_type": "stream",
          "text": [
            "LogisticRegression 0.864\n",
            "RandomForestClassifier 0.896\n",
            "SVC 0.896\n",
            "VotingClassifier 0.904\n"
          ],
          "name": "stdout"
        }
      ]
    },
    {
      "cell_type": "markdown",
      "metadata": {
        "id": "8w4ndt6frzat"
      },
      "source": [
        "# Bagging "
      ]
    },
    {
      "cell_type": "code",
      "metadata": {
        "id": "qwUo-AyAtAvd"
      },
      "source": [
        "X, y = make_moons(n_samples=500, noise=0.30, random_state=42)\n",
        "X_train, X_test, y_train, y_test = train_test_split(X, y, random_state=42)"
      ],
      "execution_count": 8,
      "outputs": []
    },
    {
      "cell_type": "code",
      "metadata": {
        "id": "JZDai6Mgr0JA"
      },
      "source": [
        "bag_clf = BaggingClassifier(\n",
        "    base_estimator=DecisionTreeClassifier(), \n",
        "    n_estimators=500, \n",
        "    max_samples=100, \n",
        "    bootstrap=True, \n",
        "    n_jobs=-1, \n",
        "    oob_score=True\n",
        "  )\n",
        "bag_clf.fit(X_train, y_train)\n",
        "y_pred = bag_clf.predict(X_test)"
      ],
      "execution_count": 9,
      "outputs": []
    },
    {
      "cell_type": "code",
      "metadata": {
        "colab": {
          "base_uri": "https://localhost:8080/"
        },
        "id": "cT7UJEvjuiRT",
        "outputId": "b7fe41a8-d463-4d59-e1d0-ace5077df1e9"
      },
      "source": [
        "bag_clf.oob_score_, accuracy_score(y_true=y_test, y_pred=y_pred)"
      ],
      "execution_count": 10,
      "outputs": [
        {
          "output_type": "execute_result",
          "data": {
            "text/plain": [
              "(0.9226666666666666, 0.92)"
            ]
          },
          "metadata": {
            "tags": []
          },
          "execution_count": 10
        }
      ]
    },
    {
      "cell_type": "code",
      "metadata": {
        "colab": {
          "base_uri": "https://localhost:8080/"
        },
        "id": "H23TiGA0uuQw",
        "outputId": "2b10d92a-1c85-4ef6-bfa1-6bd801d24526"
      },
      "source": [
        "bag_clf.oob_decision_function_[:5]"
      ],
      "execution_count": 11,
      "outputs": [
        {
          "output_type": "execute_result",
          "data": {
            "text/plain": [
              "array([[0.28125   , 0.71875   ],\n",
              "       [0.42216359, 0.57783641],\n",
              "       [1.        , 0.        ],\n",
              "       [0.0025974 , 0.9974026 ],\n",
              "       [0.01333333, 0.98666667]])"
            ]
          },
          "metadata": {
            "tags": []
          },
          "execution_count": 11
        }
      ]
    },
    {
      "cell_type": "markdown",
      "metadata": {
        "id": "5E6t_HXRw8_i"
      },
      "source": [
        "# Random Forests"
      ]
    },
    {
      "cell_type": "code",
      "metadata": {
        "colab": {
          "base_uri": "https://localhost:8080/"
        },
        "id": "uMfhF0-Vw-D9",
        "outputId": "4079f23a-8a0a-4b43-8833-e1960554f0a8"
      },
      "source": [
        "X, y = make_moons(n_samples=500, noise=0.30, random_state=42)\n",
        "X_train, X_test, y_train, y_test = train_test_split(X, y, random_state=42)\n",
        "\n",
        "rnd_clf = RandomForestClassifier(\n",
        "    n_estimators=500, \n",
        "    max_leaf_nodes=16, \n",
        "    n_jobs=-1\n",
        "  )\n",
        "rnd_clf.fit(X_train, y_train)\n",
        "y_pred = rnd_clf.predict(X_test)\n",
        "accuracy_score(y_true=y_test, y_pred=y_pred)"
      ],
      "execution_count": 12,
      "outputs": [
        {
          "output_type": "execute_result",
          "data": {
            "text/plain": [
              "0.912"
            ]
          },
          "metadata": {
            "tags": []
          },
          "execution_count": 12
        }
      ]
    },
    {
      "cell_type": "markdown",
      "metadata": {
        "id": "Mm6cZKj-03vK"
      },
      "source": [
        "# Feature Importances"
      ]
    },
    {
      "cell_type": "code",
      "metadata": {
        "colab": {
          "base_uri": "https://localhost:8080/"
        },
        "id": "4RoKpijcxTqL",
        "outputId": "05056f2b-21ee-48d2-9a80-ae779f932710"
      },
      "source": [
        "iris = load_iris()\n",
        "X, y = iris.data, iris.target\n",
        "\n",
        "rnd_clf = RandomForestClassifier(n_estimators=500, n_jobs=-1)\n",
        "rnd_clf.fit(X, y)\n",
        "\n",
        "for name, score in zip(iris.feature_names, rnd_clf.feature_importances_):\n",
        "  print(name, round(score, 4))"
      ],
      "execution_count": 13,
      "outputs": [
        {
          "output_type": "stream",
          "text": [
            "sepal length (cm) 0.108\n",
            "sepal width (cm) 0.0225\n",
            "petal length (cm) 0.438\n",
            "petal width (cm) 0.4315\n"
          ],
          "name": "stdout"
        }
      ]
    },
    {
      "cell_type": "markdown",
      "metadata": {
        "id": "WX1pZkDO_ltX"
      },
      "source": [
        "# AdaBoost"
      ]
    },
    {
      "cell_type": "code",
      "metadata": {
        "colab": {
          "base_uri": "https://localhost:8080/"
        },
        "id": "JpJSwynP1MlM",
        "outputId": "55fe7f5f-9864-42dd-9e49-56e269acd5b5"
      },
      "source": [
        "X, y = make_moons(n_samples=500, noise=0.30, random_state=42)\n",
        "X_train, X_test, y_train, y_test = train_test_split(X, y, random_state=42)\n",
        "\n",
        "ada_clf = AdaBoostClassifier(\n",
        "    base_estimator=DecisionTreeClassifier(max_depth=1), \n",
        "    n_estimators=200, \n",
        "    algorithm=\"SAMME.R\", \n",
        "    learning_rate=0.5\n",
        "  )\n",
        "ada_clf.fit(X_train, y_train)\n",
        "\n",
        "y_pred = ada_clf.predict(X_test)\n",
        "accuracy_score(y_true=y_test, y_pred=y_pred)"
      ],
      "execution_count": 14,
      "outputs": [
        {
          "output_type": "execute_result",
          "data": {
            "text/plain": [
              "0.896"
            ]
          },
          "metadata": {
            "tags": []
          },
          "execution_count": 14
        }
      ]
    },
    {
      "cell_type": "markdown",
      "metadata": {
        "id": "4or28hX1HpzM"
      },
      "source": [
        "# Gradient Boosting"
      ]
    },
    {
      "cell_type": "code",
      "metadata": {
        "id": "TcbKvWBgAA1m"
      },
      "source": [
        "np.random.seed(42)\n",
        "X = np.random.rand(100, 1) - 0.5\n",
        "y = 3*X[:, 0]**2 + 0.05 * np.random.randn(100)"
      ],
      "execution_count": 15,
      "outputs": []
    },
    {
      "cell_type": "code",
      "metadata": {
        "colab": {
          "base_uri": "https://localhost:8080/"
        },
        "id": "99q0ZWplH0u_",
        "outputId": "dae0790c-b095-4f98-d0c2-9cfc5625235d"
      },
      "source": [
        "gbrt = GradientBoostingRegressor(\n",
        "    max_depth=2, \n",
        "    n_estimators=3, \n",
        "    learning_rate=1.0\n",
        "  )\n",
        "gbrt.fit(X, y)\n",
        "np.sqrt(mean_squared_error(y_true=y, y_pred=gbrt.predict(X)))"
      ],
      "execution_count": 16,
      "outputs": [
        {
          "output_type": "execute_result",
          "data": {
            "text/plain": [
              "0.07097928528094154"
            ]
          },
          "metadata": {
            "tags": []
          },
          "execution_count": 16
        }
      ]
    },
    {
      "cell_type": "markdown",
      "metadata": {
        "id": "c6U9XRVkMOoA"
      },
      "source": [
        "Gradient Boosting with early stopping"
      ]
    },
    {
      "cell_type": "code",
      "metadata": {
        "id": "JQBB1tS7MINa"
      },
      "source": [
        "np.random.seed(42)\n",
        "X = np.random.rand(100, 1) - 0.5\n",
        "y = 3*X[:, 0]**2 + 0.05 * np.random.randn(100)\n",
        "\n",
        "X_train, X_test, y_train, y_test = train_test_split(\n",
        "    X, y, \n",
        "    test_size=0.2, \n",
        "    random_state=42\n",
        "  )"
      ],
      "execution_count": 17,
      "outputs": []
    },
    {
      "cell_type": "code",
      "metadata": {
        "colab": {
          "base_uri": "https://localhost:8080/"
        },
        "id": "FiPaKdT7N_JP",
        "outputId": "f09ff796-decb-4cca-8700-3657611c0bc0"
      },
      "source": [
        "gbrt = GradientBoostingRegressor(\n",
        "    max_depth=2, \n",
        "    n_estimators=120, \n",
        "    random_state=42\n",
        "  )\n",
        "gbrt.fit(X_train, y_train)\n",
        "\n",
        "np.sqrt(\n",
        "    mean_squared_error(\n",
        "        y_true=y_test, \n",
        "        y_pred=gbrt.predict(X_test)\n",
        "      )\n",
        "  )"
      ],
      "execution_count": 18,
      "outputs": [
        {
          "output_type": "execute_result",
          "data": {
            "text/plain": [
              "0.04759227782421127"
            ]
          },
          "metadata": {
            "tags": []
          },
          "execution_count": 18
        }
      ]
    },
    {
      "cell_type": "code",
      "metadata": {
        "id": "1ejcs9BdOBBC"
      },
      "source": [
        "errors = [mean_squared_error(y_true=y_test, y_pred=y_pred) \\\n",
        "          for y_pred in gbrt.staged_predict(X_test)]\n",
        "best_n_estimators = np.argmin(errors) + 1"
      ],
      "execution_count": 19,
      "outputs": []
    },
    {
      "cell_type": "code",
      "metadata": {
        "colab": {
          "base_uri": "https://localhost:8080/"
        },
        "id": "Zdx8XMPKOdfI",
        "outputId": "74f069e9-33d5-412c-d10f-7698eacb9a5f"
      },
      "source": [
        "best_n_estimators"
      ],
      "execution_count": 20,
      "outputs": [
        {
          "output_type": "execute_result",
          "data": {
            "text/plain": [
              "94"
            ]
          },
          "metadata": {
            "tags": []
          },
          "execution_count": 20
        }
      ]
    },
    {
      "cell_type": "code",
      "metadata": {
        "colab": {
          "base_uri": "https://localhost:8080/"
        },
        "id": "vSd5FDKBOCng",
        "outputId": "23d4a21f-302c-40c6-da92-c93ea4d69667"
      },
      "source": [
        "gbrt = GradientBoostingRegressor(\n",
        "    max_depth=2, \n",
        "    n_estimators=best_n_estimators, \n",
        "    random_state=42\n",
        "  )\n",
        "gbrt.fit(X_train, y_train)\n",
        "\n",
        "np.sqrt(\n",
        "    mean_squared_error(\n",
        "        y_true=y_test, \n",
        "        y_pred=gbrt.predict(X_test)\n",
        "      )\n",
        "  )"
      ],
      "execution_count": 21,
      "outputs": [
        {
          "output_type": "execute_result",
          "data": {
            "text/plain": [
              "0.04740912595893978"
            ]
          },
          "metadata": {
            "tags": []
          },
          "execution_count": 21
        }
      ]
    },
    {
      "cell_type": "markdown",
      "metadata": {
        "id": "Zy81geVtO2CG"
      },
      "source": [
        "# XGBoost"
      ]
    },
    {
      "cell_type": "code",
      "metadata": {
        "id": "j6Hr6GCSOfCs"
      },
      "source": [
        "np.random.seed(42)\n",
        "X = np.random.rand(100, 1) - 0.5\n",
        "y = 3*X[:, 0]**2 + 0.05 * np.random.randn(100)\n",
        "\n",
        "X_train, X_test, y_train, y_test = train_test_split(\n",
        "    X, y, \n",
        "    test_size=0.2, \n",
        "    random_state=42\n",
        "  )"
      ],
      "execution_count": 22,
      "outputs": []
    },
    {
      "cell_type": "code",
      "metadata": {
        "colab": {
          "base_uri": "https://localhost:8080/"
        },
        "id": "y04vFFYXO_gi",
        "outputId": "e55f0986-5ab5-42cb-b4cd-93c013df40ea"
      },
      "source": [
        "xgb_reg = xgboost.XGBRegressor(random_state=42)\n",
        "xgb_reg.fit(\n",
        "    X_train, y_train, \n",
        "    eval_set=[(X_test, y_test)], \n",
        "    early_stopping_rounds=2\n",
        "  )\n",
        "\n",
        "y_pred = xgb_reg.predict(X_test)\n",
        "np.sqrt(mean_squared_error(y_true=y_test, y_pred=y_pred))"
      ],
      "execution_count": 23,
      "outputs": [
        {
          "output_type": "stream",
          "text": [
            "[07:15:04] WARNING: /workspace/src/objective/regression_obj.cu:152: reg:linear is now deprecated in favor of reg:squarederror.\n",
            "[0]\tvalidation_0-rmse:0.260696\n",
            "Will train until validation_0-rmse hasn't improved in 2 rounds.\n",
            "[1]\tvalidation_0-rmse:0.234901\n",
            "[2]\tvalidation_0-rmse:0.211825\n",
            "[3]\tvalidation_0-rmse:0.191044\n",
            "[4]\tvalidation_0-rmse:0.173044\n",
            "[5]\tvalidation_0-rmse:0.156515\n",
            "[6]\tvalidation_0-rmse:0.141707\n",
            "[7]\tvalidation_0-rmse:0.128399\n",
            "[8]\tvalidation_0-rmse:0.116099\n",
            "[9]\tvalidation_0-rmse:0.105241\n",
            "[10]\tvalidation_0-rmse:0.095796\n",
            "[11]\tvalidation_0-rmse:0.087486\n",
            "[12]\tvalidation_0-rmse:0.080175\n",
            "[13]\tvalidation_0-rmse:0.074239\n",
            "[14]\tvalidation_0-rmse:0.069596\n",
            "[15]\tvalidation_0-rmse:0.065375\n",
            "[16]\tvalidation_0-rmse:0.061101\n",
            "[17]\tvalidation_0-rmse:0.058473\n",
            "[18]\tvalidation_0-rmse:0.056363\n",
            "[19]\tvalidation_0-rmse:0.053959\n",
            "[20]\tvalidation_0-rmse:0.05253\n",
            "[21]\tvalidation_0-rmse:0.05154\n",
            "[22]\tvalidation_0-rmse:0.05064\n",
            "[23]\tvalidation_0-rmse:0.049467\n",
            "[24]\tvalidation_0-rmse:0.048814\n",
            "[25]\tvalidation_0-rmse:0.048431\n",
            "[26]\tvalidation_0-rmse:0.047989\n",
            "[27]\tvalidation_0-rmse:0.047679\n",
            "[28]\tvalidation_0-rmse:0.047529\n",
            "[29]\tvalidation_0-rmse:0.047237\n",
            "[30]\tvalidation_0-rmse:0.04706\n",
            "[31]\tvalidation_0-rmse:0.047029\n",
            "[32]\tvalidation_0-rmse:0.046857\n",
            "[33]\tvalidation_0-rmse:0.046965\n",
            "[34]\tvalidation_0-rmse:0.046971\n",
            "Stopping. Best iteration:\n",
            "[32]\tvalidation_0-rmse:0.046857\n",
            "\n"
          ],
          "name": "stdout"
        },
        {
          "output_type": "execute_result",
          "data": {
            "text/plain": [
              "0.046856680237859674"
            ]
          },
          "metadata": {
            "tags": []
          },
          "execution_count": 23
        }
      ]
    },
    {
      "cell_type": "markdown",
      "metadata": {
        "id": "bHvL_K_AXOdF"
      },
      "source": [
        "# Stacking Classifier"
      ]
    },
    {
      "cell_type": "code",
      "metadata": {
        "id": "2jvywv6rZZSh",
        "outputId": "0755f06e-68a2-4162-d21b-5c67f80665d9",
        "colab": {
          "base_uri": "https://localhost:8080/"
        }
      },
      "source": [
        "X, y = make_classification(\n",
        "    n_samples=1000, \n",
        "    n_features=20, \n",
        "    n_informative=15, \n",
        "    n_redundant=5, \n",
        "    random_state=1\n",
        "  )\n",
        "X.shape, y.shape"
      ],
      "execution_count": 32,
      "outputs": [
        {
          "output_type": "execute_result",
          "data": {
            "text/plain": [
              "((1000, 20), (1000,))"
            ]
          },
          "metadata": {
            "tags": []
          },
          "execution_count": 32
        }
      ]
    },
    {
      "cell_type": "code",
      "metadata": {
        "id": "Tbbg7QuVadEu"
      },
      "source": [
        "models = {\n",
        "  \"lr\": LogisticRegression(), \n",
        "  \"knn\": KNeighborsClassifier(), \n",
        "  \"cart\": DecisionTreeClassifier(), \n",
        "  \"svm\": SVC(), \n",
        "  \"bayes\": GaussianNB()\n",
        "}"
      ],
      "execution_count": 33,
      "outputs": []
    },
    {
      "cell_type": "code",
      "metadata": {
        "id": "QjkIUmZTeJ3i"
      },
      "source": [
        "results = {}\n",
        "for model_name, model in models.items():\n",
        "  cv = RepeatedStratifiedKFold(n_splits=10, n_repeats=3, random_state=1)\n",
        "  scores = cross_val_score(\n",
        "      estimator=model, \n",
        "      X=X, \n",
        "      y=y, \n",
        "      scoring=\"accuracy\", \n",
        "      cv=cv, \n",
        "      error_score=\"raise\", \n",
        "      n_jobs=-1\n",
        "    )\n",
        "  results[model_name] = scores"
      ],
      "execution_count": 34,
      "outputs": []
    },
    {
      "cell_type": "code",
      "metadata": {
        "id": "OB1PUZUZeYWz",
        "outputId": "0420356c-1c32-4151-cf33-733de3cb6f72",
        "colab": {
          "base_uri": "https://localhost:8080/"
        }
      },
      "source": [
        "for model_name, model_scores in results.items():\n",
        "  print(model_name, end=\"\\t\")\n",
        "  print(round(np.mean(model_scores), 3), end=\"\\t\")\n",
        "  print(round(np.std(model_scores), 3), end=\"\\n\")"
      ],
      "execution_count": 38,
      "outputs": [
        {
          "output_type": "stream",
          "text": [
            "lr\t0.866\t0.029\n",
            "knn\t0.931\t0.025\n",
            "cart\t0.82\t0.041\n",
            "svm\t0.957\t0.02\n",
            "bayes\t0.833\t0.031\n"
          ],
          "name": "stdout"
        }
      ]
    },
    {
      "cell_type": "code",
      "metadata": {
        "id": "-eBStDNEf0EX"
      },
      "source": [
        "level0_models = [\n",
        "  (\"lr\", LogisticRegression()), \n",
        "  (\"knn\", KNeighborsClassifier()), \n",
        "  (\"cart\", DecisionTreeClassifier()), \n",
        "  (\"svm\", SVC()), \n",
        "  (\"bayes\", GaussianNB())\n",
        "]\n",
        "\n",
        "level1_model = LogisticRegression()\n",
        "\n",
        "stacked_models = StackingClassifier(\n",
        "    estimators=level0_models, \n",
        "    final_estimator=level1_model, \n",
        "    cv=5\n",
        "  )"
      ],
      "execution_count": 40,
      "outputs": []
    },
    {
      "cell_type": "code",
      "metadata": {
        "id": "v3pmtxV7g1e5",
        "outputId": "de6ce51f-ba6f-41b2-eaa9-ab0cc528aaec",
        "colab": {
          "base_uri": "https://localhost:8080/"
        }
      },
      "source": [
        "cv = RepeatedStratifiedKFold(n_splits=10, n_repeats=3, random_state=1)\n",
        "scores = cross_val_score(\n",
        "    estimator=stacked_models, \n",
        "    X=X, \n",
        "    y=y, \n",
        "    scoring=\"accuracy\", \n",
        "    cv=cv, \n",
        "    error_score=\"raise\", \n",
        "    n_jobs=-1\n",
        "  )\n",
        "\n",
        "mean_scores = round(np.mean(scores), 3)\n",
        "std_scores = round(np.std(scores), 3)\n",
        "print(f\"Stacked Models: {mean_scores}\\t{std_scores}\")"
      ],
      "execution_count": 41,
      "outputs": [
        {
          "output_type": "stream",
          "text": [
            "Stacked Models: 0.963\t0.02\n"
          ],
          "name": "stdout"
        }
      ]
    },
    {
      "cell_type": "markdown",
      "metadata": {
        "id": "M5jUzGFghfeW"
      },
      "source": [
        "# Stacking Regression"
      ]
    },
    {
      "cell_type": "code",
      "metadata": {
        "id": "g5zw1ynQhQMY",
        "outputId": "54185cf0-9026-4031-c80b-8e7ed4871d60",
        "colab": {
          "base_uri": "https://localhost:8080/"
        }
      },
      "source": [
        "X, y = make_regression(\n",
        "    n_samples=1000, \n",
        "    n_features=20, \n",
        "    n_informative=15, \n",
        "    noise=0.1, \n",
        "    random_state=1\n",
        "  )\n",
        "X.shape, y.shape"
      ],
      "execution_count": 62,
      "outputs": [
        {
          "output_type": "execute_result",
          "data": {
            "text/plain": [
              "((1000, 20), (1000,))"
            ]
          },
          "metadata": {
            "tags": []
          },
          "execution_count": 62
        }
      ]
    },
    {
      "cell_type": "code",
      "metadata": {
        "id": "poShWUb6hsrG"
      },
      "source": [
        "models = {\n",
        "  \"knn\": KNeighborsRegressor(), \n",
        "  \"cart\": DecisionTreeRegressor(), \n",
        "  \"svm\": SVR()\n",
        "}"
      ],
      "execution_count": 63,
      "outputs": []
    },
    {
      "cell_type": "code",
      "metadata": {
        "id": "J8vFnos4nUxd"
      },
      "source": [
        "results = {}\n",
        "for model_name, model in models.items():\n",
        "  cv = RepeatedKFold(n_splits=10, n_repeats=3, random_state=1)\n",
        "  scores = cross_val_score(\n",
        "      estimator=model, \n",
        "      X=X, \n",
        "      y=y, \n",
        "      scoring=\"neg_mean_absolute_error\", \n",
        "      cv=cv, \n",
        "      error_score=\"raise\", \n",
        "      n_jobs=-1\n",
        "    )\n",
        "  results[model_name] = scores"
      ],
      "execution_count": 64,
      "outputs": []
    },
    {
      "cell_type": "code",
      "metadata": {
        "id": "2UUEg1Bgnc9i",
        "outputId": "224d7903-6af1-4e91-a36d-9e7782cc2217",
        "colab": {
          "base_uri": "https://localhost:8080/"
        }
      },
      "source": [
        "for model_name, model_scores in results.items():\n",
        "  print(model_name, end=\"\\t\")\n",
        "  print(round(np.mean(model_scores), 3), end=\"\\t\")\n",
        "  print(round(np.std(model_scores), 3), end=\"\\n\")"
      ],
      "execution_count": 65,
      "outputs": [
        {
          "output_type": "stream",
          "text": [
            "knn\t-101.019\t7.161\n",
            "cart\t-149.012\t11.73\n",
            "svm\t-162.419\t12.565\n"
          ],
          "name": "stdout"
        }
      ]
    },
    {
      "cell_type": "code",
      "metadata": {
        "id": "I31P5YlSng5S"
      },
      "source": [
        "level0_models = [ \n",
        "  (\"knn\", KNeighborsRegressor()), \n",
        "  (\"cart\", DecisionTreeRegressor()), \n",
        "  (\"svm\", SVR())\n",
        "]\n",
        "\n",
        "level1_model = LinearRegression()\n",
        "\n",
        "stacked_models = StackingRegressor(\n",
        "    estimators=level0_models, \n",
        "    final_estimator=level1_model, \n",
        "    cv=5\n",
        "  )"
      ],
      "execution_count": 66,
      "outputs": []
    },
    {
      "cell_type": "code",
      "metadata": {
        "id": "fWrBCo0yng14",
        "outputId": "84a40588-0694-4af4-99b3-3032fd59c062",
        "colab": {
          "base_uri": "https://localhost:8080/"
        }
      },
      "source": [
        "cv = RepeatedKFold(n_splits=10, n_repeats=3, random_state=1)\n",
        "scores = cross_val_score(\n",
        "    estimator=stacked_models, \n",
        "    X=X, \n",
        "    y=y, \n",
        "    scoring=\"neg_mean_absolute_error\", \n",
        "    cv=cv, \n",
        "    error_score=\"raise\", \n",
        "    n_jobs=-1\n",
        "  )\n",
        "\n",
        "mean_scores = round(np.mean(scores), 3)\n",
        "std_scores = round(np.std(scores), 3)\n",
        "print(f\"Stacked Models: {mean_scores}\\t{std_scores}\")"
      ],
      "execution_count": 67,
      "outputs": [
        {
          "output_type": "stream",
          "text": [
            "Stacked Models: -56.617\t5.388\n"
          ],
          "name": "stdout"
        }
      ]
    },
    {
      "cell_type": "code",
      "metadata": {
        "id": "BgcVxH17pR34"
      },
      "source": [
        ""
      ],
      "execution_count": null,
      "outputs": []
    }
  ]
}