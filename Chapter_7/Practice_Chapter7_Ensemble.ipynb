{
  "nbformat": 4,
  "nbformat_minor": 0,
  "metadata": {
    "colab": {
      "name": "Practice_Chapter7_Ensemble.ipynb",
      "provenance": [],
      "authorship_tag": "ABX9TyPN4IkJmaGHiRzeL2z30UsH",
      "include_colab_link": true
    },
    "kernelspec": {
      "name": "python3",
      "display_name": "Python 3"
    },
    "language_info": {
      "name": "python"
    }
  },
  "cells": [
    {
      "cell_type": "markdown",
      "metadata": {
        "id": "view-in-github",
        "colab_type": "text"
      },
      "source": [
        "<a href=\"https://colab.research.google.com/github/yashveersinghsohi/Hands_On_ML_Book_Practice/blob/master/Chapter_7/Practice_Chapter7_Ensemble.ipynb\" target=\"_parent\"><img src=\"https://colab.research.google.com/assets/colab-badge.svg\" alt=\"Open In Colab\"/></a>"
      ]
    },
    {
      "cell_type": "markdown",
      "metadata": {
        "id": "Wy_FEoTJuKwC"
      },
      "source": [
        "# Importing Packages"
      ]
    },
    {
      "cell_type": "code",
      "metadata": {
        "id": "hk9ORouQuGhM"
      },
      "source": [
        "import pandas as pd\n",
        "import numpy as np\n",
        "import matplotlib.pyplot as plt\n",
        "import seaborn as sns\n",
        "\n",
        "from sklearn.model_selection import train_test_split\n",
        "from sklearn.datasets import (\n",
        "    make_moons, \n",
        "    load_iris\n",
        "  )\n",
        "\n",
        "from sklearn.ensemble import (\n",
        "    RandomForestClassifier, \n",
        "    VotingClassifier, \n",
        "    BaggingClassifier, \n",
        "    RandomForestClassifier, \n",
        "    AdaBoostClassifier, \n",
        "    GradientBoostingRegressor\n",
        "  )\n",
        "from sklearn.linear_model import LogisticRegression\n",
        "from sklearn.svm import SVC\n",
        "from sklearn.tree import DecisionTreeClassifier\n",
        "\n",
        "from sklearn.metrics import (\n",
        "    accuracy_score, \n",
        "    mean_squared_error\n",
        "  )\n",
        "\n",
        "import xgboost"
      ],
      "execution_count": 26,
      "outputs": []
    },
    {
      "cell_type": "markdown",
      "metadata": {
        "id": "ZdIzJizecvvi"
      },
      "source": [
        "# Voting Classifier"
      ]
    },
    {
      "cell_type": "code",
      "metadata": {
        "id": "QYgBAhdLcyht"
      },
      "source": [
        "X, y = make_moons(n_samples=500, noise=0.30, random_state=42)\n",
        "X_train, X_test, y_train, y_test = train_test_split(X, y, random_state=42)"
      ],
      "execution_count": 2,
      "outputs": []
    },
    {
      "cell_type": "code",
      "metadata": {
        "id": "nYRwGNlRc8fd"
      },
      "source": [
        "log_clf = LogisticRegression()\n",
        "rnd_clf = RandomForestClassifier()\n",
        "svm_clf = SVC()"
      ],
      "execution_count": 3,
      "outputs": []
    },
    {
      "cell_type": "markdown",
      "metadata": {
        "id": "2KzR2cpXhAXo"
      },
      "source": [
        "Hard Voting"
      ]
    },
    {
      "cell_type": "code",
      "metadata": {
        "colab": {
          "base_uri": "https://localhost:8080/"
        },
        "id": "bnXWYbfdc8cM",
        "outputId": "a26ac532-54f9-4ef0-d415-fbdf053d8572"
      },
      "source": [
        "voting_clf = VotingClassifier(\n",
        "    estimators=[\n",
        "                (\"lr\", log_clf), \n",
        "                (\"rf\", rnd_clf), \n",
        "                (\"svc\", svm_clf)\n",
        "              ], \n",
        "    voting=\"hard\"\n",
        "  )\n",
        "voting_clf.fit(X_train, y_train)"
      ],
      "execution_count": 4,
      "outputs": [
        {
          "output_type": "execute_result",
          "data": {
            "text/plain": [
              "VotingClassifier(estimators=[('lr',\n",
              "                              LogisticRegression(C=1.0, class_weight=None,\n",
              "                                                 dual=False, fit_intercept=True,\n",
              "                                                 intercept_scaling=1,\n",
              "                                                 l1_ratio=None, max_iter=100,\n",
              "                                                 multi_class='auto',\n",
              "                                                 n_jobs=None, penalty='l2',\n",
              "                                                 random_state=None,\n",
              "                                                 solver='lbfgs', tol=0.0001,\n",
              "                                                 verbose=0, warm_start=False)),\n",
              "                             ('rf',\n",
              "                              RandomForestClassifier(bootstrap=True,\n",
              "                                                     ccp_alpha=0.0,\n",
              "                                                     class_weight=None,\n",
              "                                                     cr...\n",
              "                                                     oob_score=False,\n",
              "                                                     random_state=None,\n",
              "                                                     verbose=0,\n",
              "                                                     warm_start=False)),\n",
              "                             ('svc',\n",
              "                              SVC(C=1.0, break_ties=False, cache_size=200,\n",
              "                                  class_weight=None, coef0=0.0,\n",
              "                                  decision_function_shape='ovr', degree=3,\n",
              "                                  gamma='scale', kernel='rbf', max_iter=-1,\n",
              "                                  probability=False, random_state=None,\n",
              "                                  shrinking=True, tol=0.001, verbose=False))],\n",
              "                 flatten_transform=True, n_jobs=None, voting='hard',\n",
              "                 weights=None)"
            ]
          },
          "metadata": {
            "tags": []
          },
          "execution_count": 4
        }
      ]
    },
    {
      "cell_type": "code",
      "metadata": {
        "colab": {
          "base_uri": "https://localhost:8080/"
        },
        "id": "FRoVd99Ndhu0",
        "outputId": "83458527-afe6-4e8c-e342-31b0f121cf43"
      },
      "source": [
        "for clf in (log_clf, rnd_clf, svm_clf, voting_clf):\n",
        "  clf.fit(X_train, y_train)\n",
        "  y_pred = clf.predict(X_test)\n",
        "  print(clf.__class__.__name__, accuracy_score(y_true=y_test, y_pred=y_pred))"
      ],
      "execution_count": 5,
      "outputs": [
        {
          "output_type": "stream",
          "text": [
            "LogisticRegression 0.864\n",
            "RandomForestClassifier 0.888\n",
            "SVC 0.896\n",
            "VotingClassifier 0.896\n"
          ],
          "name": "stdout"
        }
      ]
    },
    {
      "cell_type": "markdown",
      "metadata": {
        "id": "Vl7EqUbyhDAD"
      },
      "source": [
        "Soft voting"
      ]
    },
    {
      "cell_type": "code",
      "metadata": {
        "colab": {
          "base_uri": "https://localhost:8080/"
        },
        "id": "tOlS3Dn1d_cL",
        "outputId": "6ba12507-8744-4317-a06a-024bc52c4cb4"
      },
      "source": [
        "log_clf = LogisticRegression()\n",
        "rnd_clf = RandomForestClassifier()\n",
        "svm_clf = SVC(probability=True)\n",
        "\n",
        "voting_clf = VotingClassifier(\n",
        "    estimators=[\n",
        "                (\"lr\", log_clf), \n",
        "                (\"rf\", rnd_clf), \n",
        "                (\"svc\", svm_clf)\n",
        "              ], \n",
        "    voting=\"soft\"\n",
        "  )\n",
        "voting_clf.fit(X_train, y_train)"
      ],
      "execution_count": 6,
      "outputs": [
        {
          "output_type": "execute_result",
          "data": {
            "text/plain": [
              "VotingClassifier(estimators=[('lr',\n",
              "                              LogisticRegression(C=1.0, class_weight=None,\n",
              "                                                 dual=False, fit_intercept=True,\n",
              "                                                 intercept_scaling=1,\n",
              "                                                 l1_ratio=None, max_iter=100,\n",
              "                                                 multi_class='auto',\n",
              "                                                 n_jobs=None, penalty='l2',\n",
              "                                                 random_state=None,\n",
              "                                                 solver='lbfgs', tol=0.0001,\n",
              "                                                 verbose=0, warm_start=False)),\n",
              "                             ('rf',\n",
              "                              RandomForestClassifier(bootstrap=True,\n",
              "                                                     ccp_alpha=0.0,\n",
              "                                                     class_weight=None,\n",
              "                                                     cr...\n",
              "                                                     oob_score=False,\n",
              "                                                     random_state=None,\n",
              "                                                     verbose=0,\n",
              "                                                     warm_start=False)),\n",
              "                             ('svc',\n",
              "                              SVC(C=1.0, break_ties=False, cache_size=200,\n",
              "                                  class_weight=None, coef0=0.0,\n",
              "                                  decision_function_shape='ovr', degree=3,\n",
              "                                  gamma='scale', kernel='rbf', max_iter=-1,\n",
              "                                  probability=True, random_state=None,\n",
              "                                  shrinking=True, tol=0.001, verbose=False))],\n",
              "                 flatten_transform=True, n_jobs=None, voting='soft',\n",
              "                 weights=None)"
            ]
          },
          "metadata": {
            "tags": []
          },
          "execution_count": 6
        }
      ]
    },
    {
      "cell_type": "code",
      "metadata": {
        "colab": {
          "base_uri": "https://localhost:8080/"
        },
        "id": "35OuPHoehPP5",
        "outputId": "209a9e44-dd89-47ec-fd15-2369d615789a"
      },
      "source": [
        "for clf in (log_clf, rnd_clf, svm_clf, voting_clf):\n",
        "  clf.fit(X_train, y_train)\n",
        "  y_pred = clf.predict(X_test)\n",
        "  print(clf.__class__.__name__, accuracy_score(y_true=y_test, y_pred=y_pred))"
      ],
      "execution_count": 7,
      "outputs": [
        {
          "output_type": "stream",
          "text": [
            "LogisticRegression 0.864\n",
            "RandomForestClassifier 0.896\n",
            "SVC 0.896\n",
            "VotingClassifier 0.896\n"
          ],
          "name": "stdout"
        }
      ]
    },
    {
      "cell_type": "markdown",
      "metadata": {
        "id": "8w4ndt6frzat"
      },
      "source": [
        "# Bagging "
      ]
    },
    {
      "cell_type": "code",
      "metadata": {
        "id": "qwUo-AyAtAvd"
      },
      "source": [
        "X, y = make_moons(n_samples=500, noise=0.30, random_state=42)\n",
        "X_train, X_test, y_train, y_test = train_test_split(X, y, random_state=42)"
      ],
      "execution_count": 8,
      "outputs": []
    },
    {
      "cell_type": "code",
      "metadata": {
        "id": "JZDai6Mgr0JA"
      },
      "source": [
        "bag_clf = BaggingClassifier(\n",
        "    base_estimator=DecisionTreeClassifier(), \n",
        "    n_estimators=500, \n",
        "    max_samples=100, \n",
        "    bootstrap=True, \n",
        "    n_jobs=-1, \n",
        "    oob_score=True\n",
        "  )\n",
        "bag_clf.fit(X_train, y_train)\n",
        "y_pred = bag_clf.predict(X_test)"
      ],
      "execution_count": 9,
      "outputs": []
    },
    {
      "cell_type": "code",
      "metadata": {
        "colab": {
          "base_uri": "https://localhost:8080/"
        },
        "id": "cT7UJEvjuiRT",
        "outputId": "864c6da5-a441-4b91-e367-787b005110cb"
      },
      "source": [
        "bag_clf.oob_score_, accuracy_score(y_true=y_test, y_pred=y_pred)"
      ],
      "execution_count": 10,
      "outputs": [
        {
          "output_type": "execute_result",
          "data": {
            "text/plain": [
              "(0.9253333333333333, 0.912)"
            ]
          },
          "metadata": {
            "tags": []
          },
          "execution_count": 10
        }
      ]
    },
    {
      "cell_type": "code",
      "metadata": {
        "colab": {
          "base_uri": "https://localhost:8080/"
        },
        "id": "H23TiGA0uuQw",
        "outputId": "12a21ed7-076c-4864-80e8-7e324a942a6f"
      },
      "source": [
        "bag_clf.oob_decision_function_[:5]"
      ],
      "execution_count": 11,
      "outputs": [
        {
          "output_type": "execute_result",
          "data": {
            "text/plain": [
              "array([[0.36031332, 0.63968668],\n",
              "       [0.40052356, 0.59947644],\n",
              "       [1.        , 0.        ],\n",
              "       [0.00755668, 0.99244332],\n",
              "       [0.0225    , 0.9775    ]])"
            ]
          },
          "metadata": {
            "tags": []
          },
          "execution_count": 11
        }
      ]
    },
    {
      "cell_type": "markdown",
      "metadata": {
        "id": "5E6t_HXRw8_i"
      },
      "source": [
        "# Random Forests"
      ]
    },
    {
      "cell_type": "code",
      "metadata": {
        "colab": {
          "base_uri": "https://localhost:8080/"
        },
        "id": "uMfhF0-Vw-D9",
        "outputId": "afb5ec24-041a-4ff6-dbe0-1019b2efe6d3"
      },
      "source": [
        "X, y = make_moons(n_samples=500, noise=0.30, random_state=42)\n",
        "X_train, X_test, y_train, y_test = train_test_split(X, y, random_state=42)\n",
        "\n",
        "rnd_clf = RandomForestClassifier(\n",
        "    n_estimators=500, \n",
        "    max_leaf_nodes=16, \n",
        "    n_jobs=-1\n",
        "  )\n",
        "rnd_clf.fit(X_train, y_train)\n",
        "y_pred = rnd_clf.predict(X_test)\n",
        "accuracy_score(y_true=y_test, y_pred=y_pred)"
      ],
      "execution_count": 12,
      "outputs": [
        {
          "output_type": "execute_result",
          "data": {
            "text/plain": [
              "0.92"
            ]
          },
          "metadata": {
            "tags": []
          },
          "execution_count": 12
        }
      ]
    },
    {
      "cell_type": "markdown",
      "metadata": {
        "id": "Mm6cZKj-03vK"
      },
      "source": [
        "# Feature Importances"
      ]
    },
    {
      "cell_type": "code",
      "metadata": {
        "colab": {
          "base_uri": "https://localhost:8080/"
        },
        "id": "4RoKpijcxTqL",
        "outputId": "60c12136-c65d-4d45-b11c-d38246129130"
      },
      "source": [
        "iris = load_iris()\n",
        "X, y = iris.data, iris.target\n",
        "\n",
        "rnd_clf = RandomForestClassifier(n_estimators=500, n_jobs=-1)\n",
        "rnd_clf.fit(X, y)\n",
        "\n",
        "for name, score in zip(iris.feature_names, rnd_clf.feature_importances_):\n",
        "  print(name, round(score, 4))"
      ],
      "execution_count": 13,
      "outputs": [
        {
          "output_type": "stream",
          "text": [
            "sepal length (cm) 0.1029\n",
            "sepal width (cm) 0.024\n",
            "petal length (cm) 0.4334\n",
            "petal width (cm) 0.4397\n"
          ],
          "name": "stdout"
        }
      ]
    },
    {
      "cell_type": "markdown",
      "metadata": {
        "id": "WX1pZkDO_ltX"
      },
      "source": [
        "# AdaBoost"
      ]
    },
    {
      "cell_type": "code",
      "metadata": {
        "colab": {
          "base_uri": "https://localhost:8080/"
        },
        "id": "JpJSwynP1MlM",
        "outputId": "f21b375f-05d9-4bed-d005-edc2496bf2fc"
      },
      "source": [
        "X, y = make_moons(n_samples=500, noise=0.30, random_state=42)\n",
        "X_train, X_test, y_train, y_test = train_test_split(X, y, random_state=42)\n",
        "\n",
        "ada_clf = AdaBoostClassifier(\n",
        "    base_estimator=DecisionTreeClassifier(max_depth=1), \n",
        "    n_estimators=200, \n",
        "    algorithm=\"SAMME.R\", \n",
        "    learning_rate=0.5\n",
        "  )\n",
        "ada_clf.fit(X_train, y_train)\n",
        "\n",
        "y_pred = ada_clf.predict(X_test)\n",
        "accuracy_score(y_true=y_test, y_pred=y_pred)"
      ],
      "execution_count": 14,
      "outputs": [
        {
          "output_type": "execute_result",
          "data": {
            "text/plain": [
              "0.896"
            ]
          },
          "metadata": {
            "tags": []
          },
          "execution_count": 14
        }
      ]
    },
    {
      "cell_type": "markdown",
      "metadata": {
        "id": "4or28hX1HpzM"
      },
      "source": [
        "# Gradient Boosting"
      ]
    },
    {
      "cell_type": "code",
      "metadata": {
        "id": "TcbKvWBgAA1m"
      },
      "source": [
        "np.random.seed(42)\n",
        "X = np.random.rand(100, 1) - 0.5\n",
        "y = 3*X[:, 0]**2 + 0.05 * np.random.randn(100)"
      ],
      "execution_count": 15,
      "outputs": []
    },
    {
      "cell_type": "code",
      "metadata": {
        "colab": {
          "base_uri": "https://localhost:8080/"
        },
        "id": "99q0ZWplH0u_",
        "outputId": "4da3bafb-a5eb-41ca-be26-8670da2ca5c3"
      },
      "source": [
        "gbrt = GradientBoostingRegressor(\n",
        "    max_depth=2, \n",
        "    n_estimators=3, \n",
        "    learning_rate=1.0\n",
        "  )\n",
        "gbrt.fit(X, y)\n",
        "np.sqrt(mean_squared_error(y_true=y, y_pred=gbrt.predict(X)))"
      ],
      "execution_count": 19,
      "outputs": [
        {
          "output_type": "execute_result",
          "data": {
            "text/plain": [
              "0.07097928528094154"
            ]
          },
          "metadata": {
            "tags": []
          },
          "execution_count": 19
        }
      ]
    },
    {
      "cell_type": "markdown",
      "metadata": {
        "id": "c6U9XRVkMOoA"
      },
      "source": [
        "Gradient Boosting with early stopping"
      ]
    },
    {
      "cell_type": "code",
      "metadata": {
        "id": "JQBB1tS7MINa"
      },
      "source": [
        "np.random.seed(42)\n",
        "X = np.random.rand(100, 1) - 0.5\n",
        "y = 3*X[:, 0]**2 + 0.05 * np.random.randn(100)\n",
        "\n",
        "X_train, X_test, y_train, y_test = train_test_split(\n",
        "    X, y, \n",
        "    test_size=0.2, \n",
        "    random_state=42\n",
        "  )"
      ],
      "execution_count": 20,
      "outputs": []
    },
    {
      "cell_type": "code",
      "metadata": {
        "colab": {
          "base_uri": "https://localhost:8080/"
        },
        "id": "FiPaKdT7N_JP",
        "outputId": "0ccc8f00-843e-4dbc-f933-beb4f1e5dbaa"
      },
      "source": [
        "gbrt = GradientBoostingRegressor(\n",
        "    max_depth=2, \n",
        "    n_estimators=120, \n",
        "    random_state=42\n",
        "  )\n",
        "gbrt.fit(X_train, y_train)\n",
        "\n",
        "np.sqrt(\n",
        "    mean_squared_error(\n",
        "        y_true=y_test, \n",
        "        y_pred=gbrt.predict(X_test)\n",
        "      )\n",
        "  )"
      ],
      "execution_count": 21,
      "outputs": [
        {
          "output_type": "execute_result",
          "data": {
            "text/plain": [
              "0.04759227782421127"
            ]
          },
          "metadata": {
            "tags": []
          },
          "execution_count": 21
        }
      ]
    },
    {
      "cell_type": "code",
      "metadata": {
        "id": "1ejcs9BdOBBC"
      },
      "source": [
        "errors = [mean_squared_error(y_true=y_test, y_pred=y_pred) \\\n",
        "          for y_pred in gbrt.staged_predict(X_test)]\n",
        "best_n_estimators = np.argmin(errors) + 1"
      ],
      "execution_count": 23,
      "outputs": []
    },
    {
      "cell_type": "code",
      "metadata": {
        "colab": {
          "base_uri": "https://localhost:8080/"
        },
        "id": "Zdx8XMPKOdfI",
        "outputId": "4f4c1f3e-7223-43be-9a60-93e31a91ad40"
      },
      "source": [
        "best_n_estimators"
      ],
      "execution_count": 24,
      "outputs": [
        {
          "output_type": "execute_result",
          "data": {
            "text/plain": [
              "94"
            ]
          },
          "metadata": {
            "tags": []
          },
          "execution_count": 24
        }
      ]
    },
    {
      "cell_type": "code",
      "metadata": {
        "colab": {
          "base_uri": "https://localhost:8080/"
        },
        "id": "vSd5FDKBOCng",
        "outputId": "c76ff142-4db3-4b3f-867a-b750fccb8e61"
      },
      "source": [
        "gbrt = GradientBoostingRegressor(\n",
        "    max_depth=2, \n",
        "    n_estimators=best_n_estimators, \n",
        "    random_state=42\n",
        "  )\n",
        "gbrt.fit(X_train, y_train)\n",
        "\n",
        "np.sqrt(\n",
        "    mean_squared_error(\n",
        "        y_true=y_test, \n",
        "        y_pred=gbrt.predict(X_test)\n",
        "      )\n",
        "  )"
      ],
      "execution_count": 25,
      "outputs": [
        {
          "output_type": "execute_result",
          "data": {
            "text/plain": [
              "0.04740912595893978"
            ]
          },
          "metadata": {
            "tags": []
          },
          "execution_count": 25
        }
      ]
    },
    {
      "cell_type": "markdown",
      "metadata": {
        "id": "Zy81geVtO2CG"
      },
      "source": [
        "# XGBoost"
      ]
    },
    {
      "cell_type": "code",
      "metadata": {
        "id": "j6Hr6GCSOfCs"
      },
      "source": [
        "np.random.seed(42)\n",
        "X = np.random.rand(100, 1) - 0.5\n",
        "y = 3*X[:, 0]**2 + 0.05 * np.random.randn(100)\n",
        "\n",
        "X_train, X_test, y_train, y_test = train_test_split(\n",
        "    X, y, \n",
        "    test_size=0.2, \n",
        "    random_state=42\n",
        "  )"
      ],
      "execution_count": 27,
      "outputs": []
    },
    {
      "cell_type": "code",
      "metadata": {
        "colab": {
          "base_uri": "https://localhost:8080/"
        },
        "id": "y04vFFYXO_gi",
        "outputId": "c12f594e-5894-4876-ac92-bdad0d44ac8d"
      },
      "source": [
        "xgb_reg = xgboost.XGBRegressor(random_state=42)\n",
        "xgb_reg.fit(\n",
        "    X_train, y_train, \n",
        "    eval_set=[(X_test, y_test)], \n",
        "    early_stopping_rounds=2\n",
        "  )\n",
        "\n",
        "y_pred = xgb_reg.predict(X_test)\n",
        "np.sqrt(mean_squared_error(y_true=y_test, y_pred=y_pred))"
      ],
      "execution_count": 28,
      "outputs": [
        {
          "output_type": "stream",
          "text": [
            "[06:41:15] WARNING: /workspace/src/objective/regression_obj.cu:152: reg:linear is now deprecated in favor of reg:squarederror.\n",
            "[0]\tvalidation_0-rmse:0.260696\n",
            "Will train until validation_0-rmse hasn't improved in 2 rounds.\n",
            "[1]\tvalidation_0-rmse:0.234901\n",
            "[2]\tvalidation_0-rmse:0.211825\n",
            "[3]\tvalidation_0-rmse:0.191044\n",
            "[4]\tvalidation_0-rmse:0.173044\n",
            "[5]\tvalidation_0-rmse:0.156515\n",
            "[6]\tvalidation_0-rmse:0.141707\n",
            "[7]\tvalidation_0-rmse:0.128399\n",
            "[8]\tvalidation_0-rmse:0.116099\n",
            "[9]\tvalidation_0-rmse:0.105241\n",
            "[10]\tvalidation_0-rmse:0.095796\n",
            "[11]\tvalidation_0-rmse:0.087486\n",
            "[12]\tvalidation_0-rmse:0.080175\n",
            "[13]\tvalidation_0-rmse:0.074239\n",
            "[14]\tvalidation_0-rmse:0.069596\n",
            "[15]\tvalidation_0-rmse:0.065375\n",
            "[16]\tvalidation_0-rmse:0.061101\n",
            "[17]\tvalidation_0-rmse:0.058473\n",
            "[18]\tvalidation_0-rmse:0.056363\n",
            "[19]\tvalidation_0-rmse:0.053959\n",
            "[20]\tvalidation_0-rmse:0.05253\n",
            "[21]\tvalidation_0-rmse:0.05154\n",
            "[22]\tvalidation_0-rmse:0.05064\n",
            "[23]\tvalidation_0-rmse:0.049467\n",
            "[24]\tvalidation_0-rmse:0.048814\n",
            "[25]\tvalidation_0-rmse:0.048431\n",
            "[26]\tvalidation_0-rmse:0.047989\n",
            "[27]\tvalidation_0-rmse:0.047679\n",
            "[28]\tvalidation_0-rmse:0.047529\n",
            "[29]\tvalidation_0-rmse:0.047237\n",
            "[30]\tvalidation_0-rmse:0.04706\n",
            "[31]\tvalidation_0-rmse:0.047029\n",
            "[32]\tvalidation_0-rmse:0.046857\n",
            "[33]\tvalidation_0-rmse:0.046965\n",
            "[34]\tvalidation_0-rmse:0.046971\n",
            "Stopping. Best iteration:\n",
            "[32]\tvalidation_0-rmse:0.046857\n",
            "\n"
          ],
          "name": "stdout"
        },
        {
          "output_type": "execute_result",
          "data": {
            "text/plain": [
              "0.046856680237859674"
            ]
          },
          "metadata": {
            "tags": []
          },
          "execution_count": 28
        }
      ]
    },
    {
      "cell_type": "code",
      "metadata": {
        "id": "N76BtpXrO_dB"
      },
      "source": [
        ""
      ],
      "execution_count": null,
      "outputs": []
    }
  ]
}