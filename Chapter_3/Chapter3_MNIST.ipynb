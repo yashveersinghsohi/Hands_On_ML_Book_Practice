{
  "nbformat": 4,
  "nbformat_minor": 0,
  "metadata": {
    "colab": {
      "name": "Chapter3_MNIST.ipynb",
      "provenance": [],
      "toc_visible": true,
      "authorship_tag": "ABX9TyOfZ8Mcrd3Zeo+vGCydHMfS",
      "include_colab_link": true
    },
    "kernelspec": {
      "name": "python3",
      "display_name": "Python 3"
    },
    "language_info": {
      "name": "python"
    }
  },
  "cells": [
    {
      "cell_type": "markdown",
      "metadata": {
        "id": "view-in-github",
        "colab_type": "text"
      },
      "source": [
        "<a href=\"https://colab.research.google.com/github/yashveersinghsohi/Hands_On_ML_Book_Practice/blob/master/Chapter_3/Chapter3_MNIST.ipynb\" target=\"_parent\"><img src=\"https://colab.research.google.com/assets/colab-badge.svg\" alt=\"Open In Colab\"/></a>"
      ]
    },
    {
      "cell_type": "markdown",
      "metadata": {
        "id": "oRsXHQqeNN-D"
      },
      "source": [
        "# Importing Packages"
      ]
    },
    {
      "cell_type": "code",
      "metadata": {
        "id": "PJCXZ5J4NS09"
      },
      "source": [
        "import numpy as np\n",
        "from sklearn.datasets import fetch_openml\n",
        "\n",
        "import matplotlib as mpl\n",
        "import matplotlib.pyplot as plt\n",
        "\n",
        "from sklearn.linear_model import SGDClassifier\n",
        "from sklearn.ensemble import RandomForestClassifier\n",
        "\n",
        "from sklearn.model_selection import (StratifiedKFold, \n",
        "                                     cross_val_score, \n",
        "                                     cross_val_predict)\n",
        "\n",
        "from sklearn.metrics import (confusion_matrix, \n",
        "                             precision_score, \n",
        "                             recall_score, \n",
        "                             f1_score, \n",
        "                             precision_recall_curve, \n",
        "                             roc_curve, \n",
        "                             roc_auc_score)\n",
        "\n",
        "from sklearn.svm import SVC\n",
        "\n",
        "from sklearn.preprocessing import StandardScaler\n",
        "\n",
        "from sklearn.neighbors import KNeighborsClassifier"
      ],
      "execution_count": 83,
      "outputs": []
    },
    {
      "cell_type": "markdown",
      "metadata": {
        "id": "mPRVNlqiNXuV"
      },
      "source": [
        "# Data"
      ]
    },
    {
      "cell_type": "code",
      "metadata": {
        "id": "NfgXtzIYNXOT"
      },
      "source": [
        "mnist = fetch_openml('mnist_784', version=1)"
      ],
      "execution_count": 2,
      "outputs": []
    },
    {
      "cell_type": "code",
      "metadata": {
        "colab": {
          "base_uri": "https://localhost:8080/"
        },
        "id": "LA-QQP3wNfx1",
        "outputId": "8101cff0-023d-40b0-e60d-70e742c9a7cf"
      },
      "source": [
        "type(mnist)"
      ],
      "execution_count": 4,
      "outputs": [
        {
          "output_type": "execute_result",
          "data": {
            "text/plain": [
              "sklearn.utils.Bunch"
            ]
          },
          "metadata": {
            "tags": []
          },
          "execution_count": 4
        }
      ]
    },
    {
      "cell_type": "code",
      "metadata": {
        "colab": {
          "base_uri": "https://localhost:8080/"
        },
        "id": "OenyddrONpVQ",
        "outputId": "fd79ec91-169b-493b-fc47-f7088f482a56"
      },
      "source": [
        "mnist.keys()"
      ],
      "execution_count": 6,
      "outputs": [
        {
          "output_type": "execute_result",
          "data": {
            "text/plain": [
              "dict_keys(['data', 'target', 'frame', 'feature_names', 'target_names', 'DESCR', 'details', 'categories', 'url'])"
            ]
          },
          "metadata": {
            "tags": []
          },
          "execution_count": 6
        }
      ]
    },
    {
      "cell_type": "code",
      "metadata": {
        "colab": {
          "base_uri": "https://localhost:8080/"
        },
        "id": "WNYod5_gNrQC",
        "outputId": "3016619f-554a-4c1f-e824-9023639e43f6"
      },
      "source": [
        "X, y = mnist[\"data\"], mnist[\"target\"]\n",
        "y = y.astype(np.uint8)\n",
        "X.shape, y.shape"
      ],
      "execution_count": 12,
      "outputs": [
        {
          "output_type": "execute_result",
          "data": {
            "text/plain": [
              "((70000, 784), (70000,))"
            ]
          },
          "metadata": {
            "tags": []
          },
          "execution_count": 12
        }
      ]
    },
    {
      "cell_type": "code",
      "metadata": {
        "colab": {
          "base_uri": "https://localhost:8080/",
          "height": 265
        },
        "id": "2geRejw0PWWU",
        "outputId": "40d6b9b1-8c5c-49e7-8ab3-297829d32b3b"
      },
      "source": [
        "some_idx = 0\n",
        "some_digit, some_label = X[some_idx], y[some_idx]\n",
        "some_digit_img = some_digit.reshape(28, 28)\n",
        "\n",
        "print(some_label)\n",
        "\n",
        "plt.imshow(some_digit_img, cmap=\"binary\")\n",
        "plt.axis(\"off\")\n",
        "plt.show()"
      ],
      "execution_count": 13,
      "outputs": [
        {
          "output_type": "stream",
          "text": [
            "5\n"
          ],
          "name": "stdout"
        },
        {
          "output_type": "display_data",
          "data": {
            "image/png": "[encoded data removed]",
            "text/plain": [
              "<Figure size 432x288 with 1 Axes>"
            ]
          },
          "metadata": {
            "tags": [],
            "needs_background": "light"
          }
        }
      ]
    },
    {
      "cell_type": "markdown",
      "metadata": {
        "id": "Ep6JMkacQ5Py"
      },
      "source": [
        "# Train Test Split"
      ]
    },
    {
      "cell_type": "markdown",
      "metadata": {
        "id": "mbORfWphRS7F"
      },
      "source": [
        "Data is shuffled already by sklearn"
      ]
    },
    {
      "cell_type": "code",
      "metadata": {
        "colab": {
          "base_uri": "https://localhost:8080/"
        },
        "id": "mnCi8MaDPm6w",
        "outputId": "621ea4d2-dbff-4d4e-f312-45ea7cb02bdf"
      },
      "source": [
        "X_train, X_test, y_train, y_test = X[:60_000], X[60_000:], y[:60_000], y[60_000:]\n",
        "X_train.shape, X_test.shape, y_train.shape, y_test.shape"
      ],
      "execution_count": 14,
      "outputs": [
        {
          "output_type": "execute_result",
          "data": {
            "text/plain": [
              "((60000, 784), (10000, 784), (60000,), (10000,))"
            ]
          },
          "metadata": {
            "tags": []
          },
          "execution_count": 14
        }
      ]
    },
    {
      "cell_type": "markdown",
      "metadata": {
        "id": "liklQWynRiVd"
      },
      "source": [
        "# Training a Binary Classifier"
      ]
    },
    {
      "cell_type": "markdown",
      "metadata": {
        "id": "8VoiwEIqRluG"
      },
      "source": [
        "This is a classifier for the digit 5"
      ]
    },
    {
      "cell_type": "code",
      "metadata": {
        "id": "qddW4SwxRMu8"
      },
      "source": [
        "y_train = (y_train == 5)\n",
        "y_test = (y_test == 5)"
      ],
      "execution_count": 16,
      "outputs": []
    },
    {
      "cell_type": "code",
      "metadata": {
        "colab": {
          "base_uri": "https://localhost:8080/"
        },
        "id": "2VZ9pZyhR2pC",
        "outputId": "498eee8f-aa1f-4087-f944-432e33ba6034"
      },
      "source": [
        "X_train.shape, y_train.shape, X_test.shape, y_test.shape"
      ],
      "execution_count": 17,
      "outputs": [
        {
          "output_type": "execute_result",
          "data": {
            "text/plain": [
              "((60000, 784), (60000,), (10000, 784), (10000,))"
            ]
          },
          "metadata": {
            "tags": []
          },
          "execution_count": 17
        }
      ]
    },
    {
      "cell_type": "code",
      "metadata": {
        "colab": {
          "base_uri": "https://localhost:8080/"
        },
        "id": "dxt10AllSAGk",
        "outputId": "8fd60bae-14c0-4e1b-976c-7864e6c3c961"
      },
      "source": [
        "sgd_clf = SGDClassifier(random_state=42)\n",
        "sgd_clf.fit(X_train, y_train)"
      ],
      "execution_count": 18,
      "outputs": [
        {
          "output_type": "execute_result",
          "data": {
            "text/plain": [
              "SGDClassifier(alpha=0.0001, average=False, class_weight=None,\n",
              "              early_stopping=False, epsilon=0.1, eta0=0.0, fit_intercept=True,\n",
              "              l1_ratio=0.15, learning_rate='optimal', loss='hinge',\n",
              "              max_iter=1000, n_iter_no_change=5, n_jobs=None, penalty='l2',\n",
              "              power_t=0.5, random_state=42, shuffle=True, tol=0.001,\n",
              "              validation_fraction=0.1, verbose=0, warm_start=False)"
            ]
          },
          "metadata": {
            "tags": []
          },
          "execution_count": 18
        }
      ]
    },
    {
      "cell_type": "code",
      "metadata": {
        "colab": {
          "base_uri": "https://localhost:8080/"
        },
        "id": "srjCXjcNSKHx",
        "outputId": "5b8b2f37-d6af-40a7-885f-2688d4750229"
      },
      "source": [
        "sgd_clf.predict([some_digit])"
      ],
      "execution_count": 19,
      "outputs": [
        {
          "output_type": "execute_result",
          "data": {
            "text/plain": [
              "array([ True])"
            ]
          },
          "metadata": {
            "tags": []
          },
          "execution_count": 19
        }
      ]
    },
    {
      "cell_type": "markdown",
      "metadata": {
        "id": "V7gcrqfwSW8O"
      },
      "source": [
        "## Performance Measures"
      ]
    },
    {
      "cell_type": "markdown",
      "metadata": {
        "id": "HyCc41zVTYLE"
      },
      "source": [
        "### Stratified K-Fold Cross Validation"
      ]
    },
    {
      "cell_type": "markdown",
      "metadata": {
        "id": "cCZj-8VkX3rD"
      },
      "source": [
        "**Manually**"
      ]
    },
    {
      "cell_type": "code",
      "metadata": {
        "colab": {
          "base_uri": "https://localhost:8080/"
        },
        "id": "otJwP0-WSpIi",
        "outputId": "065456bb-e956-4bce-d9c8-d35cd627257a"
      },
      "source": [
        "skfolds = StratifiedKFold(n_splits=3, random_state=42)\n",
        "\n",
        "fold_no = 0\n",
        "for train_idx, test_idx in skfolds.split(X_train, y_train):\n",
        "  fold_no = fold_no + 1\n",
        "\n",
        "  X_train_fold = X_train[train_idx]\n",
        "  y_train_fold = y_train[train_idx]\n",
        "\n",
        "  X_test_fold = X_train[test_idx]\n",
        "  y_test_fold = y_train[test_idx]\n",
        "  \n",
        "  sgd_clf = SGDClassifier(random_state=42).fit(X_train_fold, y_train_fold)\n",
        "  y_pred_fold = sgd_clf.predict(X_test_fold)\n",
        "  fold_acc = (y_test_fold == y_pred_fold).sum() / y_test_fold.shape[0]\n",
        "  \n",
        "  print(f\"Fold {fold_no} accuracy = {round(fold_acc*100, 3)}%\")"
      ],
      "execution_count": 24,
      "outputs": [
        {
          "output_type": "stream",
          "text": [
            "/usr/local/lib/python3.7/dist-packages/sklearn/model_selection/_split.py:296: FutureWarning: Setting a random_state has no effect since shuffle is False. This will raise an error in 0.24. You should leave random_state to its default (None), or set shuffle=True.\n",
            "  FutureWarning\n"
          ],
          "name": "stderr"
        },
        {
          "output_type": "stream",
          "text": [
            "Fold 1 accuracy = 95.035%\n",
            "Fold 2 accuracy = 96.035%\n",
            "Fold 3 accuracy = 96.04%\n"
          ],
          "name": "stdout"
        }
      ]
    },
    {
      "cell_type": "markdown",
      "metadata": {
        "id": "LVtvYM8CX5PE"
      },
      "source": [
        "**Using Sklearn**"
      ]
    },
    {
      "cell_type": "code",
      "metadata": {
        "colab": {
          "base_uri": "https://localhost:8080/"
        },
        "id": "9z54legHWOKO",
        "outputId": "cbacd901-4c59-48d6-fbfd-d683a981ea88"
      },
      "source": [
        "sgd_clf = SGDClassifier(random_state=42)\n",
        "sgd_clf.fit(X_train, y_train)\n",
        "\n",
        "cross_val_score(sgd_clf, X=X_train, y=y_train, scoring=\"accuracy\", cv=3)"
      ],
      "execution_count": 26,
      "outputs": [
        {
          "output_type": "execute_result",
          "data": {
            "text/plain": [
              "array([0.95035, 0.96035, 0.9604 ])"
            ]
          },
          "metadata": {
            "tags": []
          },
          "execution_count": 26
        }
      ]
    },
    {
      "cell_type": "markdown",
      "metadata": {
        "id": "2DrzMgVHZF-8"
      },
      "source": [
        "### Confusion Matrix"
      ]
    },
    {
      "cell_type": "code",
      "metadata": {
        "colab": {
          "base_uri": "https://localhost:8080/"
        },
        "id": "MK99qMrXYq1U",
        "outputId": "cdb7b9bb-6f58-4ef3-ceb1-b34b61958233"
      },
      "source": [
        "sgd_clf = SGDClassifier(random_state=42)\n",
        "sgd_clf.fit(X_train, y_train)\n",
        "\n",
        "y_pred_cross_val = cross_val_predict(sgd_clf, X=X_train, y=y_train, cv=3)\n",
        "\n",
        "confusion_matrix(y_true=y_train, y_pred=y_pred_cross_val)"
      ],
      "execution_count": 29,
      "outputs": [
        {
          "output_type": "execute_result",
          "data": {
            "text/plain": [
              "array([[53892,   687],\n",
              "       [ 1891,  3530]])"
            ]
          },
          "metadata": {
            "tags": []
          },
          "execution_count": 29
        }
      ]
    },
    {
      "cell_type": "markdown",
      "metadata": {
        "id": "Q3hCz0nsphb7"
      },
      "source": [
        "### Precision, Recall and F1-Score"
      ]
    },
    {
      "cell_type": "code",
      "metadata": {
        "colab": {
          "base_uri": "https://localhost:8080/"
        },
        "id": "gqOilvEfowqV",
        "outputId": "defc525d-afb1-40e9-e1fb-947cf64d1d77"
      },
      "source": [
        "precision_score(y_true=y_train, y_pred=y_pred_cross_val)"
      ],
      "execution_count": 31,
      "outputs": [
        {
          "output_type": "execute_result",
          "data": {
            "text/plain": [
              "0.8370879772350012"
            ]
          },
          "metadata": {
            "tags": []
          },
          "execution_count": 31
        }
      ]
    },
    {
      "cell_type": "code",
      "metadata": {
        "colab": {
          "base_uri": "https://localhost:8080/"
        },
        "id": "b0ErbDpvptSx",
        "outputId": "bcc17e0d-515f-404e-a47a-18b97efd77d0"
      },
      "source": [
        "recall_score(y_true=y_train, y_pred=y_pred_cross_val)"
      ],
      "execution_count": 32,
      "outputs": [
        {
          "output_type": "execute_result",
          "data": {
            "text/plain": [
              "0.6511713705958311"
            ]
          },
          "metadata": {
            "tags": []
          },
          "execution_count": 32
        }
      ]
    },
    {
      "cell_type": "code",
      "metadata": {
        "colab": {
          "base_uri": "https://localhost:8080/"
        },
        "id": "9wKLHx_LpvBt",
        "outputId": "208bdf6e-0238-453b-b869-06fbd1336601"
      },
      "source": [
        "f1_score(y_true=y_train, y_pred=y_pred_cross_val)"
      ],
      "execution_count": 34,
      "outputs": [
        {
          "output_type": "execute_result",
          "data": {
            "text/plain": [
              "0.7325171197343846"
            ]
          },
          "metadata": {
            "tags": []
          },
          "execution_count": 34
        }
      ]
    },
    {
      "cell_type": "code",
      "metadata": {
        "id": "kFMxywm8tFMI"
      },
      "source": [
        "def plot_precision_recall_vs_threshold(precisions, recalls, thresholds):\n",
        "  plt.figure(figsize=(8, 5))\n",
        "  \n",
        "  plt.plot(thresholds, precisions[:-1], \"b--\", label=\"Precision\")\n",
        "  plt.plot(thresholds, recalls[:-1], \"g-\", label=\"Recall\")\n",
        "  \n",
        "  plt.xlabel(\"Thresholds\", size=15)\n",
        "  plt.title(\"Precision, Recall for different Thresholds\", size=20)\n",
        "\n",
        "  plt.legend()\n",
        "  plt.show()"
      ],
      "execution_count": 39,
      "outputs": []
    },
    {
      "cell_type": "code",
      "metadata": {
        "colab": {
          "base_uri": "https://localhost:8080/",
          "height": 360
        },
        "id": "VGhvNhCAqF6L",
        "outputId": "ec0d1836-9807-4167-ba22-a03a379d7da9"
      },
      "source": [
        "y_scores = cross_val_predict(sgd_clf, \n",
        "                             X=X_train, y=y_train, \n",
        "                             cv=3, method=\"decision_function\")\n",
        "precisions, recalls, thresholds = precision_recall_curve(y_true=y_train, \n",
        "                                                         probas_pred=y_scores)\n",
        "\n",
        "plot_precision_recall_vs_threshold(precisions, recalls, thresholds)"
      ],
      "execution_count": 40,
      "outputs": [
        {
          "output_type": "display_data",
          "data": {
            "image/png": "[encoded data removed]",
            "text/plain": [
              "<Figure size 576x360 with 1 Axes>"
            ]
          },
          "metadata": {
            "tags": [],
            "needs_background": "light"
          }
        }
      ]
    },
    {
      "cell_type": "code",
      "metadata": {
        "colab": {
          "base_uri": "https://localhost:8080/",
          "height": 360
        },
        "id": "BkNyxblGs7Ww",
        "outputId": "46641603-c2bc-48df-cdad-7d696c2bf00f"
      },
      "source": [
        "plt.figure(figsize=(8, 5))\n",
        "  \n",
        "plt.plot(recalls[:-1], precisions[:-1], \"b--\", label=\"Precision\")\n",
        "  \n",
        "plt.ylabel(\"Precision\", size=15)\n",
        "plt.xlabel(\"Recall\", size=15)\n",
        "plt.title(\"Precision vs Recall\", size=20)\n",
        "\n",
        "plt.legend()\n",
        "plt.show()"
      ],
      "execution_count": 41,
      "outputs": [
        {
          "output_type": "display_data",
          "data": {
            "image/png": "[encoded data removed]",
            "text/plain": [
              "<Figure size 576x360 with 1 Axes>"
            ]
          },
          "metadata": {
            "tags": [],
            "needs_background": "light"
          }
        }
      ]
    },
    {
      "cell_type": "code",
      "metadata": {
        "colab": {
          "base_uri": "https://localhost:8080/"
        },
        "id": "eR4wbj94uImr",
        "outputId": "e3d8d325-59fa-489a-8f54-579f0a3b122f"
      },
      "source": [
        "threshold_90_precision = thresholds[np.argmax(precisions >= 0.90)]\n",
        "threshold_90_precision"
      ],
      "execution_count": 44,
      "outputs": [
        {
          "output_type": "execute_result",
          "data": {
            "text/plain": [
              "3370.0194991439557"
            ]
          },
          "metadata": {
            "tags": []
          },
          "execution_count": 44
        }
      ]
    },
    {
      "cell_type": "code",
      "metadata": {
        "colab": {
          "base_uri": "https://localhost:8080/"
        },
        "id": "0A1IcmE4vF3O",
        "outputId": "44db9b9a-0168-46f6-eb02-ee4a73702f26"
      },
      "source": [
        "y_train_pred_90 = (y_scores >= threshold_90_precision)\n",
        "y_train_pred_90"
      ],
      "execution_count": 45,
      "outputs": [
        {
          "output_type": "execute_result",
          "data": {
            "text/plain": [
              "array([False, False, False, ...,  True, False, False])"
            ]
          },
          "metadata": {
            "tags": []
          },
          "execution_count": 45
        }
      ]
    },
    {
      "cell_type": "code",
      "metadata": {
        "colab": {
          "base_uri": "https://localhost:8080/"
        },
        "id": "g9LfRlcCvQFu",
        "outputId": "9c04a74b-be6f-4b78-d20c-53f95569fa4d"
      },
      "source": [
        "precision_score(y_true=y_train, y_pred=y_train_pred_90)"
      ],
      "execution_count": 46,
      "outputs": [
        {
          "output_type": "execute_result",
          "data": {
            "text/plain": [
              "0.9000345901072293"
            ]
          },
          "metadata": {
            "tags": []
          },
          "execution_count": 46
        }
      ]
    },
    {
      "cell_type": "code",
      "metadata": {
        "colab": {
          "base_uri": "https://localhost:8080/"
        },
        "id": "PNv41qOQvax7",
        "outputId": "471f77cd-18f0-48a1-a1a9-5ad3eee79234"
      },
      "source": [
        "recall_score(y_true=y_train, y_pred=y_train_pred_90)"
      ],
      "execution_count": 47,
      "outputs": [
        {
          "output_type": "execute_result",
          "data": {
            "text/plain": [
              "0.4799852425751706"
            ]
          },
          "metadata": {
            "tags": []
          },
          "execution_count": 47
        }
      ]
    },
    {
      "cell_type": "markdown",
      "metadata": {
        "id": "Fjhgq--f7a31"
      },
      "source": [
        "### Receiver Operating Characteristics (ROC) Curve"
      ]
    },
    {
      "cell_type": "code",
      "metadata": {
        "id": "rILMpfsn8PA1"
      },
      "source": [
        "def plot_roc_curve(fpr, tpr, label=None):\n",
        "  plt.figure(figsize=(8, 5))\n",
        "  \n",
        "  plt.plot(fpr, tpr, \"b\")\n",
        "  plt.plot([0, 1], [0, 1], \"k--\", label=\"Model with random predictions\")\n",
        "\n",
        "  plt.xlabel(\"False Positive Rate (1-Specificity)\", size=15)\n",
        "  plt.ylabel(\"True Positive Rate (Recall/Sensitivity)\", size=15)\n",
        "  plt.title(\"ROC Curve\", size=20)\n",
        "\n",
        "  plt.legend()\n",
        "  plt.show()"
      ],
      "execution_count": 55,
      "outputs": []
    },
    {
      "cell_type": "code",
      "metadata": {
        "colab": {
          "base_uri": "https://localhost:8080/",
          "height": 360
        },
        "id": "bv7Ed7vyvc5d",
        "outputId": "2fbe0cce-a8cf-46e8-8214-547671a5c78d"
      },
      "source": [
        "fpr, tpr, thresholds = roc_curve(y_true=y_train, y_score=y_scores)\n",
        "\n",
        "plot_roc_curve(fpr, tpr, label=None)"
      ],
      "execution_count": 57,
      "outputs": [
        {
          "output_type": "display_data",
          "data": {
            "image/png": "[encoded data removed]",
            "text/plain": [
              "<Figure size 576x360 with 1 Axes>"
            ]
          },
          "metadata": {
            "tags": [],
            "needs_background": "light"
          }
        }
      ]
    },
    {
      "cell_type": "code",
      "metadata": {
        "colab": {
          "base_uri": "https://localhost:8080/"
        },
        "id": "0SC3Vll28jAo",
        "outputId": "d60b28ab-a8ba-44e4-8514-bcac704af822"
      },
      "source": [
        "roc_auc_score(y_true=y_train, y_score=y_scores)"
      ],
      "execution_count": 59,
      "outputs": [
        {
          "output_type": "execute_result",
          "data": {
            "text/plain": [
              "0.9604938554008616"
            ]
          },
          "metadata": {
            "tags": []
          },
          "execution_count": 59
        }
      ]
    },
    {
      "cell_type": "markdown",
      "metadata": {
        "id": "JGINOAOL9xvs"
      },
      "source": [
        "### Training Random Forest Classifier and Comparing Metrics"
      ]
    },
    {
      "cell_type": "code",
      "metadata": {
        "colab": {
          "base_uri": "https://localhost:8080/"
        },
        "id": "6gC_rhrJ-Ihm",
        "outputId": "eb146148-a054-43f9-9fdd-6612c8d01346"
      },
      "source": [
        "forest_clf = RandomForestClassifier(random_state=42)\n",
        "y_probas_forest = cross_val_predict(forest_clf, \n",
        "                                    X=X_train, y=y_train, \n",
        "                                    cv=3, method=\"predict_proba\")\n",
        "y_probas_forest[:5]"
      ],
      "execution_count": 62,
      "outputs": [
        {
          "output_type": "execute_result",
          "data": {
            "text/plain": [
              "array([[0.11, 0.89],\n",
              "       [0.99, 0.01],\n",
              "       [0.96, 0.04],\n",
              "       [1.  , 0.  ],\n",
              "       [0.99, 0.01]])"
            ]
          },
          "metadata": {
            "tags": []
          },
          "execution_count": 62
        }
      ]
    },
    {
      "cell_type": "code",
      "metadata": {
        "colab": {
          "base_uri": "https://localhost:8080/",
          "height": 360
        },
        "id": "YSi7aAJoJd_O",
        "outputId": "63fb5d31-f313-4be3-febd-7f8ca9099254"
      },
      "source": [
        "y_scores_forest = y_probas_forest[:, 1]\n",
        "\n",
        "fpr_forest, tpr_forest, thresholds_forest = roc_curve(y_true=y_train, \n",
        "                                                      y_score=y_scores_forest)\n",
        "\n",
        "\n",
        "fig, ax = plt.subplots(figsize=(8, 5))\n",
        "\n",
        "ax.plot(fpr_forest, tpr_forest, \"b\", label=\"Random Forest\")\n",
        "ax.plot(fpr, tpr, \"g--\", label=\"SGD\")\n",
        "ax.plot([0, 1], [0, 1], \"k--\", label=\"Model with random predictions\")\n",
        "\n",
        "ax.set_xlabel(\"False Positive Rate (1-Specificity)\", size=15)\n",
        "ax.set_ylabel(\"True Positive Rate (Recall/Sensitivity)\", size=15)\n",
        "ax.set_title(\"ROC Curve\", size=20)\n",
        "\n",
        "ax.legend()\n",
        "plt.show()"
      ],
      "execution_count": 65,
      "outputs": [
        {
          "output_type": "display_data",
          "data": {
            "image/png": "[encoded data removed]",
            "text/plain": [
              "<Figure size 576x360 with 1 Axes>"
            ]
          },
          "metadata": {
            "tags": [],
            "needs_background": "light"
          }
        }
      ]
    },
    {
      "cell_type": "code",
      "metadata": {
        "colab": {
          "base_uri": "https://localhost:8080/"
        },
        "id": "MxFge8noKr_l",
        "outputId": "1b07ced0-18ea-4e97-801c-efd27df24b95"
      },
      "source": [
        "roc_auc_score(y_true=y_train, y_score=y_scores_forest)"
      ],
      "execution_count": 66,
      "outputs": [
        {
          "output_type": "execute_result",
          "data": {
            "text/plain": [
              "0.9983436731328145"
            ]
          },
          "metadata": {
            "tags": []
          },
          "execution_count": 66
        }
      ]
    },
    {
      "cell_type": "markdown",
      "metadata": {
        "id": "9osGfNjfK5Rk"
      },
      "source": [
        "# Multiclass Classification"
      ]
    },
    {
      "cell_type": "markdown",
      "metadata": {
        "id": "pVYRgGxQMgNU"
      },
      "source": [
        "**Data**"
      ]
    },
    {
      "cell_type": "code",
      "metadata": {
        "colab": {
          "base_uri": "https://localhost:8080/"
        },
        "id": "D4zhMoXJLHs0",
        "outputId": "1702c855-7d58-4a34-93c4-5f540724e0e1"
      },
      "source": [
        "X, y = mnist[\"data\"], mnist[\"target\"]\n",
        "y = y.astype(np.uint8)\n",
        "\n",
        "X_train, X_test, y_train, y_test = X[:60_000], X[60_000:], y[:60_000], y[60_000:]\n",
        "X_train.shape, X_test.shape, y_train.shape, y_test.shape"
      ],
      "execution_count": 69,
      "outputs": [
        {
          "output_type": "execute_result",
          "data": {
            "text/plain": [
              "((60000, 784), (10000, 784), (60000,), (10000,))"
            ]
          },
          "metadata": {
            "tags": []
          },
          "execution_count": 69
        }
      ]
    },
    {
      "cell_type": "markdown",
      "metadata": {
        "id": "mKdIGOxlMipU"
      },
      "source": [
        "## SVM Classifier"
      ]
    },
    {
      "cell_type": "markdown",
      "metadata": {
        "id": "LQTzEOSSNk_t"
      },
      "source": [
        "**Uses One-vs-One (OvO) natively**"
      ]
    },
    {
      "cell_type": "code",
      "metadata": {
        "colab": {
          "base_uri": "https://localhost:8080/"
        },
        "id": "tfvsCgaVMeoS",
        "outputId": "07ee897c-9a34-4580-e59f-aef183812aa5"
      },
      "source": [
        "svm_clf = SVC()\n",
        "svm_clf.fit(X_train, y_train)\n",
        "svm_clf.predict([some_digit])"
      ],
      "execution_count": 70,
      "outputs": [
        {
          "output_type": "execute_result",
          "data": {
            "text/plain": [
              "array([5], dtype=uint8)"
            ]
          },
          "metadata": {
            "tags": []
          },
          "execution_count": 70
        }
      ]
    },
    {
      "cell_type": "code",
      "metadata": {
        "colab": {
          "base_uri": "https://localhost:8080/"
        },
        "id": "xmeU-gnIMu6o",
        "outputId": "18c0edec-bc61-426d-98ef-1654ae7bd155"
      },
      "source": [
        "svm_clf.decision_function([some_digit])"
      ],
      "execution_count": 72,
      "outputs": [
        {
          "output_type": "execute_result",
          "data": {
            "text/plain": [
              "array([[ 1.72501977,  2.72809088,  7.2510018 ,  8.3076379 , -0.31087254,\n",
              "         9.3132482 ,  1.70975103,  2.76765202,  6.23049537,  4.84771048]])"
            ]
          },
          "metadata": {
            "tags": []
          },
          "execution_count": 72
        }
      ]
    },
    {
      "cell_type": "code",
      "metadata": {
        "colab": {
          "base_uri": "https://localhost:8080/"
        },
        "id": "EwomW2ktNEkX",
        "outputId": "13c1063a-270e-426e-b165-3149f708176f"
      },
      "source": [
        "np.argmax(svm_clf.decision_function([some_digit]))"
      ],
      "execution_count": 73,
      "outputs": [
        {
          "output_type": "execute_result",
          "data": {
            "text/plain": [
              "5"
            ]
          },
          "metadata": {
            "tags": []
          },
          "execution_count": 73
        }
      ]
    },
    {
      "cell_type": "code",
      "metadata": {
        "colab": {
          "base_uri": "https://localhost:8080/"
        },
        "id": "Y03sGW7yM_uI",
        "outputId": "09cae631-cdb1-4191-86aa-7266e997dc45"
      },
      "source": [
        "svm_clf.classes_"
      ],
      "execution_count": 74,
      "outputs": [
        {
          "output_type": "execute_result",
          "data": {
            "text/plain": [
              "array([0, 1, 2, 3, 4, 5, 6, 7, 8, 9], dtype=uint8)"
            ]
          },
          "metadata": {
            "tags": []
          },
          "execution_count": 74
        }
      ]
    },
    {
      "cell_type": "code",
      "metadata": {
        "colab": {
          "base_uri": "https://localhost:8080/"
        },
        "id": "nKg8GNKqNCIm",
        "outputId": "5ff21c17-1dc9-4d91-ceaf-fe7cec2003cb"
      },
      "source": [
        "svm_clf.classes_[np.argmax(svm_clf.decision_function([some_digit]))]"
      ],
      "execution_count": 75,
      "outputs": [
        {
          "output_type": "execute_result",
          "data": {
            "text/plain": [
              "5"
            ]
          },
          "metadata": {
            "tags": []
          },
          "execution_count": 75
        }
      ]
    },
    {
      "cell_type": "markdown",
      "metadata": {
        "id": "if13VKH_NuLk"
      },
      "source": [
        "**If want to use One-vs-Rest (OvR)**\n",
        "\n",
        "Will take time"
      ]
    },
    {
      "cell_type": "code",
      "metadata": {
        "id": "jV_WN-CRNt5n"
      },
      "source": [
        "# from sklearn.multiclass import OneVsRestClassifier\n",
        "# ovr_clf = OneVsRestClassifier(SVC())\n",
        "# ovr_clf.fit(X_train, y_train)\n",
        "# ovr_clf.predict([some_digit])"
      ],
      "execution_count": 76,
      "outputs": []
    },
    {
      "cell_type": "code",
      "metadata": {
        "id": "Mx8XMbKuN8Ax"
      },
      "source": [
        "# len(ovr_clf.estimators_)"
      ],
      "execution_count": 77,
      "outputs": []
    },
    {
      "cell_type": "code",
      "metadata": {
        "id": "DEriShCbOGiW"
      },
      "source": [
        "## SGD Multiclass Classifier"
      ],
      "execution_count": 78,
      "outputs": []
    },
    {
      "cell_type": "markdown",
      "metadata": {
        "id": "aaZJsaM5OJCR"
      },
      "source": [
        "## SGD Multiclass Classifier"
      ]
    },
    {
      "cell_type": "code",
      "metadata": {
        "colab": {
          "base_uri": "https://localhost:8080/"
        },
        "id": "llW1P72HONry",
        "outputId": "14f9fd63-efe3-4a65-e0be-03304c42d044"
      },
      "source": [
        "sgc_clf = SGDClassifier(random_state=42)\n",
        "sgd_clf.fit(X_train, y_train)\n",
        "sgd_clf.predict([some_digit])"
      ],
      "execution_count": 79,
      "outputs": [
        {
          "output_type": "execute_result",
          "data": {
            "text/plain": [
              "array([3], dtype=uint8)"
            ]
          },
          "metadata": {
            "tags": []
          },
          "execution_count": 79
        }
      ]
    },
    {
      "cell_type": "code",
      "metadata": {
        "colab": {
          "base_uri": "https://localhost:8080/"
        },
        "id": "V5jN4rMrOaPb",
        "outputId": "777aa731-3604-4bd5-de3b-4cb06155e7fb"
      },
      "source": [
        "sgd_clf.decision_function([some_digit])"
      ],
      "execution_count": 80,
      "outputs": [
        {
          "output_type": "execute_result",
          "data": {
            "text/plain": [
              "array([[-31893.03095419, -34419.69069632,  -9530.63950739,\n",
              "          1823.73154031, -22320.14822878,  -1385.80478895,\n",
              "        -26188.91070951, -16147.51323997,  -4604.35491274,\n",
              "        -12050.767298  ]])"
            ]
          },
          "metadata": {
            "tags": []
          },
          "execution_count": 80
        }
      ]
    },
    {
      "cell_type": "code",
      "metadata": {
        "colab": {
          "base_uri": "https://localhost:8080/"
        },
        "id": "rMMkRbmZOvG1",
        "outputId": "34beddf1-c4ac-4fb3-b861-e235d7561d07"
      },
      "source": [
        "cross_val_score(sgd_clf, \n",
        "                X=X_train, y=y_train, \n",
        "                cv=3, scoring=\"accuracy\")"
      ],
      "execution_count": 81,
      "outputs": [
        {
          "output_type": "execute_result",
          "data": {
            "text/plain": [
              "array([0.87365, 0.85835, 0.8689 ])"
            ]
          },
          "metadata": {
            "tags": []
          },
          "execution_count": 81
        }
      ]
    },
    {
      "cell_type": "markdown",
      "metadata": {
        "id": "B7Lj9GSkO4Cl"
      },
      "source": [
        "**Cross Val Score with Scaling**"
      ]
    },
    {
      "cell_type": "code",
      "metadata": {
        "colab": {
          "base_uri": "https://localhost:8080/"
        },
        "id": "oMhPIupsO3n0",
        "outputId": "2dc11469-bf05-463d-ea75-2d979e317c1c"
      },
      "source": [
        "scaler = StandardScaler()\n",
        "X_train_scaled = scaler.fit_transform(X_train.astype(np.float64))\n",
        "cross_val_score(sgd_clf, \n",
        "                X=X_train_scaled, y=y_train, \n",
        "                cv=3, scoring=\"accuracy\")"
      ],
      "execution_count": 85,
      "outputs": [
        {
          "output_type": "execute_result",
          "data": {
            "text/plain": [
              "array([0.8983, 0.891 , 0.9018])"
            ]
          },
          "metadata": {
            "tags": []
          },
          "execution_count": 85
        }
      ]
    },
    {
      "cell_type": "markdown",
      "metadata": {
        "id": "66a5ivJXQSLR"
      },
      "source": [
        "# Error Analysis"
      ]
    },
    {
      "cell_type": "code",
      "metadata": {
        "colab": {
          "base_uri": "https://localhost:8080/"
        },
        "id": "tQ_3XxrbQJZh",
        "outputId": "9cf6bee5-4162-4d59-eaea-072a73951bdb"
      },
      "source": [
        "y_train_predict = cross_val_predict(sgd_clf, \n",
        "                                    X=X_train, y=y_train, \n",
        "                                    cv=3)\n",
        "conf_mx = confusion_matrix(y_true=y_train, y_pred=y_train_predict)\n",
        "conf_mx"
      ],
      "execution_count": 86,
      "outputs": [
        {
          "output_type": "execute_result",
          "data": {
            "text/plain": [
              "array([[5635,    0,   61,   10,   16,   50,   46,    7,   66,   32],\n",
              "       [   3, 6393,   95,   21,   16,   47,   15,   27,  109,   16],\n",
              "       [  72,   56, 5174,   89,   69,   39,  163,   66,  212,   18],\n",
              "       [  58,   32,  217, 4941,   23,  441,   32,   56,  216,  115],\n",
              "       [  11,   26,   46,    6, 5298,   26,   73,   32,   87,  237],\n",
              "       [  68,   23,   58,  150,   83, 4606,  174,   26,  152,   81],\n",
              "       [  40,   13,   56,    6,   22,  113, 5625,    5,   36,    2],\n",
              "       [  23,   24,  103,   36,  124,   40,   10, 5228,   75,  602],\n",
              "       [  40,  101,  158,  122,   49,  457,   77,   35, 4666,  146],\n",
              "       [  33,   18,   66,   83,  515,  127,    4,  485,  166, 4452]])"
            ]
          },
          "metadata": {
            "tags": []
          },
          "execution_count": 86
        }
      ]
    },
    {
      "cell_type": "code",
      "metadata": {
        "colab": {
          "base_uri": "https://localhost:8080/",
          "height": 275
        },
        "id": "21Ew2OCWQxJd",
        "outputId": "848a2e5f-fb3e-442f-863b-3b3869278353"
      },
      "source": [
        "plt.matshow(conf_mx, cmap=plt.cm.gray)\n",
        "plt.show()"
      ],
      "execution_count": 87,
      "outputs": [
        {
          "output_type": "display_data",
          "data": {
            "image/png": "[encoded data removed]",
            "text/plain": [
              "<Figure size 288x288 with 1 Axes>"
            ]
          },
          "metadata": {
            "tags": [],
            "needs_background": "light"
          }
        }
      ]
    },
    {
      "cell_type": "code",
      "metadata": {
        "colab": {
          "base_uri": "https://localhost:8080/",
          "height": 275
        },
        "id": "48QbGlSmQyZf",
        "outputId": "aee6fb64-1d34-48cd-b598-a7ffafbb1397"
      },
      "source": [
        "norm_conf_mx = conf_mx / conf_mx.sum(axis=1, keepdims=True)\n",
        "\n",
        "np.fill_diagonal(norm_conf_mx, 0)\n",
        "plt.matshow(norm_conf_mx, cmap=plt.cm.gray)\n",
        "plt.show()"
      ],
      "execution_count": 88,
      "outputs": [
        {
          "output_type": "display_data",
          "data": {
            "image/png": "[encoded data removed]",
            "text/plain": [
              "<Figure size 288x288 with 1 Axes>"
            ]
          },
          "metadata": {
            "tags": [],
            "needs_background": "light"
          }
        }
      ]
    },
    {
      "cell_type": "markdown",
      "metadata": {
        "id": "1Sl6irLQSuir"
      },
      "source": [
        "# Multilabel Classification"
      ]
    },
    {
      "cell_type": "code",
      "metadata": {
        "id": "_o1Ta2OXSuOY"
      },
      "source": [
        ""
      ],
      "execution_count": null,
      "outputs": []
    },
    {
      "cell_type": "markdown",
      "metadata": {
        "id": "iL2NID6YSvzt"
      },
      "source": [
        "# Multioutput Classification"
      ]
    },
    {
      "cell_type": "code",
      "metadata": {
        "id": "i4HnthabSx7-"
      },
      "source": [
        ""
      ],
      "execution_count": null,
      "outputs": []
    }
  ]
}