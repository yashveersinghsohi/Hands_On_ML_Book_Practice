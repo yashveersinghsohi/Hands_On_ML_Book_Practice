{
  "nbformat": 4,
  "nbformat_minor": 0,
  "metadata": {
    "colab": {
      "name": "Practice_Chapter3_Classification.ipynb",
      "provenance": [],
      "toc_visible": true,
      "authorship_tag": "ABX9TyMjs+deBryW98ELHzcvCh7v",
      "include_colab_link": true
    },
    "kernelspec": {
      "name": "python3",
      "display_name": "Python 3"
    },
    "language_info": {
      "name": "python"
    }
  },
  "cells": [
    {
      "cell_type": "markdown",
      "metadata": {
        "id": "view-in-github",
        "colab_type": "text"
      },
      "source": [
        "<a href=\"https://colab.research.google.com/github/yashveersinghsohi/Hands_On_ML_Book_Practice/blob/master/Chapter_3/Practice_Chapter3_Classification.ipynb\" target=\"_parent\"><img src=\"https://colab.research.google.com/assets/colab-badge.svg\" alt=\"Open In Colab\"/></a>"
      ]
    },
    {
      "cell_type": "markdown",
      "metadata": {
        "id": "sajX29DwR-Y4"
      },
      "source": [
        "# Importing Packages"
      ]
    },
    {
      "cell_type": "code",
      "metadata": {
        "id": "XWxEPf-FRrhN"
      },
      "source": [
        "import numpy as np\n",
        "import pandas as pd\n",
        "import matplotlib.pyplot as plt\n",
        "import seaborn as sns\n",
        "\n",
        "from sklearn import datasets\n",
        "from sklearn.model_selection import (\n",
        "    train_test_split, \n",
        "    StratifiedKFold, \n",
        "    cross_val_score, \n",
        "    cross_val_predict\n",
        "  )\n",
        "from sklearn.linear_model import SGDClassifier\n",
        "from sklearn.base import clone\n",
        "\n",
        "from sklearn.metrics import (\n",
        "    accuracy_score, \n",
        "    confusion_matrix, \n",
        "    precision_score, \n",
        "    recall_score, \n",
        "    f1_score, \n",
        "    precision_recall_curve, \n",
        "    roc_curve, \n",
        "    roc_auc_score\n",
        "  )\n",
        "\n",
        "from sklearn.ensemble import RandomForestClassifier"
      ],
      "execution_count": 41,
      "outputs": []
    },
    {
      "cell_type": "markdown",
      "metadata": {
        "id": "OWOR3II-UjIi"
      },
      "source": [
        "# Data"
      ]
    },
    {
      "cell_type": "code",
      "metadata": {
        "colab": {
          "base_uri": "https://localhost:8080/"
        },
        "id": "OAozJ6NhUiwl",
        "outputId": "80edcf62-d5b7-4bbf-e96a-20dd753a47e5"
      },
      "source": [
        "iris = datasets.load_iris()\n",
        "X = iris.data\n",
        "y = iris.target\n",
        "\n",
        "X.shape, y.shape"
      ],
      "execution_count": 2,
      "outputs": [
        {
          "output_type": "execute_result",
          "data": {
            "text/plain": [
              "((150, 4), (150,))"
            ]
          },
          "metadata": {
            "tags": []
          },
          "execution_count": 2
        }
      ]
    },
    {
      "cell_type": "code",
      "metadata": {
        "id": "NTAx4yWXUrHE",
        "colab": {
          "base_uri": "https://localhost:8080/"
        },
        "outputId": "58ede44e-5180-46a7-e914-6d9f864fff0a"
      },
      "source": [
        "X_train, X_test, y_train, y_test = train_test_split(\n",
        "    X, y, \n",
        "    test_size=0.2, \n",
        "    random_state=42\n",
        "  )\n",
        "X_train.shape, X_test.shape, y_train.shape, y_test.shape"
      ],
      "execution_count": 3,
      "outputs": [
        {
          "output_type": "execute_result",
          "data": {
            "text/plain": [
              "((120, 4), (30, 4), (120,), (30,))"
            ]
          },
          "metadata": {
            "tags": []
          },
          "execution_count": 3
        }
      ]
    },
    {
      "cell_type": "markdown",
      "metadata": {
        "id": "-EopooaTW31R"
      },
      "source": [
        "# Stochastic Gradient Descent (SGD)"
      ]
    },
    {
      "cell_type": "code",
      "metadata": {
        "colab": {
          "base_uri": "https://localhost:8080/"
        },
        "id": "tqO01anyWp6M",
        "outputId": "5ed5f387-6f7f-40f8-eea3-e8618b109b6b"
      },
      "source": [
        "sgd = SGDClassifier(random_state=42)\n",
        "sgd.fit(X_train, y_train)"
      ],
      "execution_count": 4,
      "outputs": [
        {
          "output_type": "execute_result",
          "data": {
            "text/plain": [
              "SGDClassifier(alpha=0.0001, average=False, class_weight=None,\n",
              "              early_stopping=False, epsilon=0.1, eta0=0.0, fit_intercept=True,\n",
              "              l1_ratio=0.15, learning_rate='optimal', loss='hinge',\n",
              "              max_iter=1000, n_iter_no_change=5, n_jobs=None, penalty='l2',\n",
              "              power_t=0.5, random_state=42, shuffle=True, tol=0.001,\n",
              "              validation_fraction=0.1, verbose=0, warm_start=False)"
            ]
          },
          "metadata": {
            "tags": []
          },
          "execution_count": 4
        }
      ]
    },
    {
      "cell_type": "code",
      "metadata": {
        "colab": {
          "base_uri": "https://localhost:8080/"
        },
        "id": "y4xUbp4EcesS",
        "outputId": "6d839054-461d-4874-d1e1-de818482a72c"
      },
      "source": [
        "sgd_train_preds = sgd.predict(X_train)\n",
        "accuracy_score(y_true=y_train, y_pred=sgd_train_preds)"
      ],
      "execution_count": 5,
      "outputs": [
        {
          "output_type": "execute_result",
          "data": {
            "text/plain": [
              "0.675"
            ]
          },
          "metadata": {
            "tags": []
          },
          "execution_count": 5
        }
      ]
    },
    {
      "cell_type": "code",
      "metadata": {
        "colab": {
          "base_uri": "https://localhost:8080/"
        },
        "id": "fVctVfqKbbBw",
        "outputId": "48ffd701-fdba-4805-a371-4c147017d47d"
      },
      "source": [
        "sgd_preds = sgd.predict(X_test)\n",
        "accuracy_score(y_true=y_test, y_pred=sgd_preds)"
      ],
      "execution_count": 6,
      "outputs": [
        {
          "output_type": "execute_result",
          "data": {
            "text/plain": [
              "0.6"
            ]
          },
          "metadata": {
            "tags": []
          },
          "execution_count": 6
        }
      ]
    },
    {
      "cell_type": "markdown",
      "metadata": {
        "id": "sLgwvqsDY9gM"
      },
      "source": [
        "# Implementing K-Fold Cross-Validation from scratch"
      ]
    },
    {
      "cell_type": "code",
      "metadata": {
        "colab": {
          "base_uri": "https://localhost:8080/"
        },
        "id": "OcDU81lcXqUQ",
        "outputId": "17ed8bdf-f5bc-4e5e-e201-8740282925eb"
      },
      "source": [
        "skfolds = StratifiedKFold(n_splits=3)\n",
        "\n",
        "sgd_clf = SGDClassifier(random_state=42)\n",
        "\n",
        "for train_idx, test_idx in skfolds.split(X_train, y_train):\n",
        "  X_train_fold = X_train[train_idx]\n",
        "  X_test_fold = X_train[test_idx]\n",
        "  \n",
        "  y_train_fold = y_train[train_idx]\n",
        "  y_test_fold = y_train[test_idx]\n",
        "  \n",
        "  clone_clf = clone(sgd_clf)\n",
        "  clone_clf.fit(X_train_fold, y_train_fold)\n",
        "\n",
        "  fold_preds = clone_clf.predict(X_test_fold)\n",
        "  fold_accuracy = accuracy_score(\n",
        "      y_true=y_test_fold, \n",
        "      y_pred=fold_preds\n",
        "    )\n",
        "  \n",
        "  print(fold_accuracy)"
      ],
      "execution_count": 7,
      "outputs": [
        {
          "output_type": "stream",
          "text": [
            "0.95\n",
            "0.9\n",
            "0.825\n"
          ],
          "name": "stdout"
        }
      ]
    },
    {
      "cell_type": "markdown",
      "metadata": {
        "id": "k0PBPbM3b4I8"
      },
      "source": [
        "# K-Fold Cross-Validation using sklearn"
      ]
    },
    {
      "cell_type": "code",
      "metadata": {
        "colab": {
          "base_uri": "https://localhost:8080/"
        },
        "id": "bMlx6b8XbYR3",
        "outputId": "cc15f85a-f9a7-4a86-c78c-5ddb9d944b73"
      },
      "source": [
        "sgd_clf = SGDClassifier(random_state=42)\n",
        "cross_val_score(\n",
        "    estimator=sgd_clf, \n",
        "    X=X_train, \n",
        "    y=y_train, \n",
        "    cv=3, \n",
        "    scoring=\"accuracy\"\n",
        "  )"
      ],
      "execution_count": 8,
      "outputs": [
        {
          "output_type": "execute_result",
          "data": {
            "text/plain": [
              "array([0.95 , 0.9  , 0.825])"
            ]
          },
          "metadata": {
            "tags": []
          },
          "execution_count": 8
        }
      ]
    },
    {
      "cell_type": "markdown",
      "metadata": {
        "id": "D-uR3PL3dIQn"
      },
      "source": [
        "# Confusion Matrix"
      ]
    },
    {
      "cell_type": "code",
      "metadata": {
        "id": "Ng3zb6y7cOm9"
      },
      "source": [
        "y_train_preds = cross_val_predict(\n",
        "    estimator=sgd_clf, \n",
        "    X=X_train, \n",
        "    y=y_train, \n",
        "    cv=3\n",
        "  )"
      ],
      "execution_count": 9,
      "outputs": []
    },
    {
      "cell_type": "code",
      "metadata": {
        "colab": {
          "base_uri": "https://localhost:8080/"
        },
        "id": "1O7BXugVd_y8",
        "outputId": "e9203466-a3f0-4459-9a1b-b7dc4e25774e"
      },
      "source": [
        "confusion_matrix(y_true=y_train, y_pred=y_train_preds)"
      ],
      "execution_count": 10,
      "outputs": [
        {
          "output_type": "execute_result",
          "data": {
            "text/plain": [
              "array([[40,  0,  0],\n",
              "       [ 0, 30, 11],\n",
              "       [ 0,  2, 37]])"
            ]
          },
          "metadata": {
            "tags": []
          },
          "execution_count": 10
        }
      ]
    },
    {
      "cell_type": "code",
      "metadata": {
        "colab": {
          "base_uri": "https://localhost:8080/",
          "height": 143
        },
        "id": "Xl5PHCgBeZ-6",
        "outputId": "c5a57da7-f380-4162-d364-ea5b2e3d2da7"
      },
      "source": [
        "pd.DataFrame(\n",
        "    data=confusion_matrix(y_true=y_train, y_pred=y_train_preds), \n",
        "    index=[\"Actual: 0\", \"Actual: 1\", \"Actual: 2\"], \n",
        "    columns=[\"Pred: 0\", \"Pred: 1\", \"Pred: 2\"]\n",
        "  )"
      ],
      "execution_count": 11,
      "outputs": [
        {
          "output_type": "execute_result",
          "data": {
            "text/html": [
              "<div>\n",
              "<style scoped>\n",
              "    .dataframe tbody tr th:only-of-type {\n",
              "        vertical-align: middle;\n",
              "    }\n",
              "\n",
              "    .dataframe tbody tr th {\n",
              "        vertical-align: top;\n",
              "    }\n",
              "\n",
              "    .dataframe thead th {\n",
              "        text-align: right;\n",
              "    }\n",
              "</style>\n",
              "<table border=\"1\" class=\"dataframe\">\n",
              "  <thead>\n",
              "    <tr style=\"text-align: right;\">\n",
              "      <th></th>\n",
              "      <th>Pred: 0</th>\n",
              "      <th>Pred: 1</th>\n",
              "      <th>Pred: 2</th>\n",
              "    </tr>\n",
              "  </thead>\n",
              "  <tbody>\n",
              "    <tr>\n",
              "      <th>Actual: 0</th>\n",
              "      <td>40</td>\n",
              "      <td>0</td>\n",
              "      <td>0</td>\n",
              "    </tr>\n",
              "    <tr>\n",
              "      <th>Actual: 1</th>\n",
              "      <td>0</td>\n",
              "      <td>30</td>\n",
              "      <td>11</td>\n",
              "    </tr>\n",
              "    <tr>\n",
              "      <th>Actual: 2</th>\n",
              "      <td>0</td>\n",
              "      <td>2</td>\n",
              "      <td>37</td>\n",
              "    </tr>\n",
              "  </tbody>\n",
              "</table>\n",
              "</div>"
            ],
            "text/plain": [
              "           Pred: 0  Pred: 1  Pred: 2\n",
              "Actual: 0       40        0        0\n",
              "Actual: 1        0       30       11\n",
              "Actual: 2        0        2       37"
            ]
          },
          "metadata": {
            "tags": []
          },
          "execution_count": 11
        }
      ]
    },
    {
      "cell_type": "markdown",
      "metadata": {
        "id": "e0QAZmGcjeEC"
      },
      "source": [
        "# Precision, Recall & F1"
      ]
    },
    {
      "cell_type": "markdown",
      "metadata": {
        "id": "d94zatt3juL1"
      },
      "source": [
        "Precision for each class (class 0, class 1, class 2)"
      ]
    },
    {
      "cell_type": "code",
      "metadata": {
        "colab": {
          "base_uri": "https://localhost:8080/"
        },
        "id": "2w1sxIDojhPQ",
        "outputId": "00e5724a-5110-40eb-a0d8-1d8bbcd22a9f"
      },
      "source": [
        "precision_score(y_true=y_train, y_pred=y_train_preds, average=None)"
      ],
      "execution_count": 12,
      "outputs": [
        {
          "output_type": "execute_result",
          "data": {
            "text/plain": [
              "array([1.        , 0.9375    , 0.77083333])"
            ]
          },
          "metadata": {
            "tags": []
          },
          "execution_count": 12
        }
      ]
    },
    {
      "cell_type": "markdown",
      "metadata": {
        "id": "1CbGetRFjyet"
      },
      "source": [
        "Recall for each class (class 0, class 1, class 2)"
      ]
    },
    {
      "cell_type": "code",
      "metadata": {
        "colab": {
          "base_uri": "https://localhost:8080/"
        },
        "id": "vvEdVKKNjmkx",
        "outputId": "3e90739f-6118-4daf-9d34-7cd5bd5e1326"
      },
      "source": [
        "recall_score(y_true=y_train, y_pred=y_train_preds, average=None)"
      ],
      "execution_count": 13,
      "outputs": [
        {
          "output_type": "execute_result",
          "data": {
            "text/plain": [
              "array([1.        , 0.73170732, 0.94871795])"
            ]
          },
          "metadata": {
            "tags": []
          },
          "execution_count": 13
        }
      ]
    },
    {
      "cell_type": "markdown",
      "metadata": {
        "id": "vEuZb6SVnIWJ"
      },
      "source": [
        "F1 for each class (class 0, class 1, class 2)"
      ]
    },
    {
      "cell_type": "code",
      "metadata": {
        "colab": {
          "base_uri": "https://localhost:8080/"
        },
        "id": "oid9nfhPnEe_",
        "outputId": "b517c371-57fb-4831-b46d-e2fdd5eae0e3"
      },
      "source": [
        "f1_score(y_true=y_train, y_pred=y_train_preds, average=None)"
      ],
      "execution_count": 14,
      "outputs": [
        {
          "output_type": "execute_result",
          "data": {
            "text/plain": [
              "array([1.        , 0.82191781, 0.85057471])"
            ]
          },
          "metadata": {
            "tags": []
          },
          "execution_count": 14
        }
      ]
    },
    {
      "cell_type": "markdown",
      "metadata": {
        "id": "f2AoV16UrgGK"
      },
      "source": [
        "## Precision-Recall Tradeoff"
      ]
    },
    {
      "cell_type": "markdown",
      "metadata": {
        "id": "sMQlAJTWr3DC"
      },
      "source": [
        "**For one instance**"
      ]
    },
    {
      "cell_type": "code",
      "metadata": {
        "colab": {
          "base_uri": "https://localhost:8080/"
        },
        "id": "xwJKwQ5bnJfq",
        "outputId": "6e3f27e6-4629-4f38-9508-c65a6c22eb8c"
      },
      "source": [
        "sgd.decision_function([X_train[0]])"
      ],
      "execution_count": 15,
      "outputs": [
        {
          "output_type": "execute_result",
          "data": {
            "text/plain": [
              "array([[ 175.36402533, -130.69451   , -924.1974237 ]])"
            ]
          },
          "metadata": {
            "tags": []
          },
          "execution_count": 15
        }
      ]
    },
    {
      "cell_type": "code",
      "metadata": {
        "colab": {
          "base_uri": "https://localhost:8080/"
        },
        "id": "5dH2faKrrjID",
        "outputId": "2166a88f-e05c-4419-ee75-3cb6e5c205c4"
      },
      "source": [
        "threshold = 0\n",
        "sgd.decision_function([X_train[0]]) > threshold"
      ],
      "execution_count": 16,
      "outputs": [
        {
          "output_type": "execute_result",
          "data": {
            "text/plain": [
              "array([[ True, False, False]])"
            ]
          },
          "metadata": {
            "tags": []
          },
          "execution_count": 16
        }
      ]
    },
    {
      "cell_type": "code",
      "metadata": {
        "colab": {
          "base_uri": "https://localhost:8080/"
        },
        "id": "DQQNOuA2rjEk",
        "outputId": "a73ab58f-3631-4b8c-9cb6-25f94c443867"
      },
      "source": [
        "y_train[0]"
      ],
      "execution_count": 17,
      "outputs": [
        {
          "output_type": "execute_result",
          "data": {
            "text/plain": [
              "0"
            ]
          },
          "metadata": {
            "tags": []
          },
          "execution_count": 17
        }
      ]
    },
    {
      "cell_type": "markdown",
      "metadata": {
        "id": "MT6sW1gNr7_Q"
      },
      "source": [
        "**For all instances**"
      ]
    },
    {
      "cell_type": "code",
      "metadata": {
        "id": "NG7uqBCPr9YP"
      },
      "source": [
        "sgd_clf = SGDClassifier(random_state=42)\n",
        "\n",
        "y_train_scores = cross_val_predict(\n",
        "    estimator=sgd_clf, \n",
        "    X=X_train, \n",
        "    y=y_train, \n",
        "    cv=3, \n",
        "    method=\"decision_function\"\n",
        "  )"
      ],
      "execution_count": 18,
      "outputs": []
    },
    {
      "cell_type": "markdown",
      "metadata": {
        "id": "W6w5lZ0IsntB"
      },
      "source": [
        "Precision Recall Curve for class 1"
      ]
    },
    {
      "cell_type": "code",
      "metadata": {
        "id": "K9ZWv8W4sadz"
      },
      "source": [
        "precisions, recalls, thresholds = precision_recall_curve(\n",
        "    y_true=np.where(y_train==1, 1, 0), \n",
        "    probas_pred=y_train_scores[:, 1]\n",
        "  )"
      ],
      "execution_count": 19,
      "outputs": []
    },
    {
      "cell_type": "code",
      "metadata": {
        "colab": {
          "base_uri": "https://localhost:8080/",
          "height": 346
        },
        "id": "Apmao4bttQoZ",
        "outputId": "e445c5ee-c4eb-417d-d569-a6dfab7e3c95"
      },
      "source": [
        "fig, ax = plt.subplots(1, 2, figsize=(16, 5))\n",
        "\n",
        "ax[0].plot(thresholds, precisions[:-1], \"b--\", label=\"Precision\")\n",
        "ax[0].plot(thresholds, recalls[:-1], \"g-\", label=\"Recall\")\n",
        "ax[0].set_xlabel(\"Thresholds\", size=12)\n",
        "ax[0].set_title(\"Precision Recall Curves\", size=15)\n",
        "ax[0].legend()\n",
        "ax[0].grid()\n",
        "\n",
        "ax[1].plot(precisions, recalls, \"b-\")\n",
        "ax[1].set_xlabel(\"Precisions\", size=12)\n",
        "ax[1].set_ylabel(\"Recalls\", size=12)\n",
        "ax[1].set_title(\"Precision vs Recall Curves\", size=15)\n",
        "ax[1].legend()\n",
        "ax[1].grid()\n",
        "\n",
        "plt.show()"
      ],
      "execution_count": 20,
      "outputs": [
        {
          "output_type": "stream",
          "text": [
            "No handles with labels found to put in legend.\n"
          ],
          "name": "stderr"
        },
        {
          "output_type": "display_data",
          "data": {
            "image/png": "[encoded data removed]",
            "text/plain": [
              "<Figure size 1152x360 with 2 Axes>"
            ]
          },
          "metadata": {
            "tags": [],
            "needs_background": "light"
          }
        }
      ]
    },
    {
      "cell_type": "code",
      "metadata": {
        "colab": {
          "base_uri": "https://localhost:8080/"
        },
        "id": "jk-r0gzWwE1T",
        "outputId": "9afc781c-b059-44e7-81af-138c03f8e236"
      },
      "source": [
        "thresholds[np.argmax(precisions>0.60)], precisions[np.argmax(precisions>0.60)], recalls[np.argmax(precisions>0.60)]"
      ],
      "execution_count": 21,
      "outputs": [
        {
          "output_type": "execute_result",
          "data": {
            "text/plain": [
              "(-2.432327646413391, 0.6052631578947368, 0.5609756097560976)"
            ]
          },
          "metadata": {
            "tags": []
          },
          "execution_count": 21
        }
      ]
    },
    {
      "cell_type": "markdown",
      "metadata": {
        "id": "zu03xG4ad4gN"
      },
      "source": [
        "# The ROC Curve"
      ]
    },
    {
      "cell_type": "markdown",
      "metadata": {
        "id": "Ujwt5mGMgJgz"
      },
      "source": [
        "ROC Curve for class 1"
      ]
    },
    {
      "cell_type": "code",
      "metadata": {
        "id": "MbtrRboMd5KT"
      },
      "source": [
        "fpr, tpr, thresholds = roc_curve(\n",
        "    y_true=np.where(y_train==1, 1, 0), \n",
        "    y_score=y_train_scores[:, 1]\n",
        "  )"
      ],
      "execution_count": 24,
      "outputs": []
    },
    {
      "cell_type": "code",
      "metadata": {
        "colab": {
          "base_uri": "https://localhost:8080/",
          "height": 362
        },
        "id": "5JtUnGJPgKYE",
        "outputId": "f9fe6715-6d5a-45e0-8da4-d5b733c54bfd"
      },
      "source": [
        "fig, ax = plt.subplots(figsize=(8, 5))\n",
        "\n",
        "ax.plot(fpr, tpr, \"b-\")\n",
        "ax.plot([0, 1], [0, 1], \"g--\", label=\"Random Classifier\")\n",
        "\n",
        "ax.grid()\n",
        "ax.set_xlabel(r\"$TPR$/$Recall$\", size=15)\n",
        "ax.set_ylabel(r\"$FPR$/$1-Specificity$\", size=15)\n",
        "ax.set_title(\"ROC Curve\", size=20)\n",
        "\n",
        "ax.legend()\n",
        "plt.show()"
      ],
      "execution_count": 38,
      "outputs": [
        {
          "output_type": "display_data",
          "data": {
            "image/png": "[encoded data removed]",
            "text/plain": [
              "<Figure size 576x360 with 1 Axes>"
            ]
          },
          "metadata": {
            "tags": [],
            "needs_background": "light"
          }
        }
      ]
    },
    {
      "cell_type": "markdown",
      "metadata": {
        "id": "8KtnlCyNk_MI"
      },
      "source": [
        "Area under ROC"
      ]
    },
    {
      "cell_type": "code",
      "metadata": {
        "colab": {
          "base_uri": "https://localhost:8080/"
        },
        "id": "-aSU6Q5ck-RZ",
        "outputId": "a31fd72a-84a4-42d0-a566-4041d660e991"
      },
      "source": [
        "roc_auc_score(\n",
        "  y_true=np.where(y_train==1, 1, 0), \n",
        "  y_score=y_train_scores[:, 1]\n",
        ")"
      ],
      "execution_count": 40,
      "outputs": [
        {
          "output_type": "execute_result",
          "data": {
            "text/plain": [
              "0.7699907378820623"
            ]
          },
          "metadata": {
            "tags": []
          },
          "execution_count": 40
        }
      ]
    },
    {
      "cell_type": "markdown",
      "metadata": {
        "id": "ssSBf4ftpHB5"
      },
      "source": [
        "## Using Random Forest to compare performance"
      ]
    },
    {
      "cell_type": "code",
      "metadata": {
        "id": "-cgOaPyuk-N2"
      },
      "source": [
        "forest_clf = RandomForestClassifier(random_state=42)\n",
        "y_forest_proba = cross_val_predict(\n",
        "    estimator=forest_clf, \n",
        "    X=X_train, \n",
        "    y=y_train, \n",
        "    method=\"predict_proba\"\n",
        "  )"
      ],
      "execution_count": 42,
      "outputs": []
    },
    {
      "cell_type": "code",
      "metadata": {
        "id": "YeHL-B3Wk-MU"
      },
      "source": [
        "fpr_forest, tpr_forest, thresholds_forest = roc_curve(\n",
        "    y_true=np.where(y_train==1, 1, 0), \n",
        "    y_score=y_forest_proba[:, 1]\n",
        "  )"
      ],
      "execution_count": 44,
      "outputs": []
    },
    {
      "cell_type": "code",
      "metadata": {
        "colab": {
          "base_uri": "https://localhost:8080/",
          "height": 362
        },
        "id": "NXgFNQ3RsJV-",
        "outputId": "58f8af58-4427-44fa-b0a8-6fd120a417a8"
      },
      "source": [
        "fig, ax = plt.subplots(figsize=(8, 5))\n",
        "\n",
        "ax.plot(fpr_forest, tpr_forest, \"b-\")\n",
        "ax.plot([0, 1], [0, 1], \"g--\", label=\"Random Classifier\")\n",
        "\n",
        "ax.grid()\n",
        "ax.set_xlabel(r\"$TPR$/$Recall$\", size=15)\n",
        "ax.set_ylabel(r\"$FPR$/$1-Specificity$\", size=15)\n",
        "ax.set_title(\"ROC Curve\", size=20)\n",
        "\n",
        "ax.legend()\n",
        "plt.show()"
      ],
      "execution_count": 45,
      "outputs": [
        {
          "output_type": "display_data",
          "data": {
            "image/png": "[encoded data removed]",
            "text/plain": [
              "<Figure size 576x360 with 1 Axes>"
            ]
          },
          "metadata": {
            "tags": [],
            "needs_background": "light"
          }
        }
      ]
    },
    {
      "cell_type": "code",
      "metadata": {
        "colab": {
          "base_uri": "https://localhost:8080/"
        },
        "id": "f2d4j0ocsQNt",
        "outputId": "bac4a5dc-5ea3-4084-a37d-40c3b1c1f1c9"
      },
      "source": [
        "roc_auc_score(\n",
        "  y_true=np.where(y_train==1, 1, 0), \n",
        "  y_score=y_forest_proba[:, 1]\n",
        ")"
      ],
      "execution_count": 46,
      "outputs": [
        {
          "output_type": "execute_result",
          "data": {
            "text/plain": [
              "0.9844087681383142"
            ]
          },
          "metadata": {
            "tags": []
          },
          "execution_count": 46
        }
      ]
    },
    {
      "cell_type": "markdown",
      "metadata": {
        "id": "EPiLREdFs8Uc"
      },
      "source": [
        "# Error Analysis"
      ]
    },
    {
      "cell_type": "code",
      "metadata": {
        "colab": {
          "base_uri": "https://localhost:8080/",
          "height": 143
        },
        "id": "m60N99USs8xI",
        "outputId": "c22cd875-93b7-43c3-e7e8-18103e4ae124"
      },
      "source": [
        "y_train_preds = cross_val_predict(\n",
        "    estimator=sgd_clf, \n",
        "    X=X_train, \n",
        "    y=y_train, \n",
        "    cv=3\n",
        "  )\n",
        "\n",
        "pd.DataFrame(\n",
        "    data=confusion_matrix(y_true=y_train, y_pred=y_train_preds), \n",
        "    index=[\"Actual: 0\", \"Actual: 1\", \"Actual: 2\"], \n",
        "    columns=[\"Pred: 0\", \"Pred: 1\", \"Pred: 2\"]\n",
        "  )"
      ],
      "execution_count": 47,
      "outputs": [
        {
          "output_type": "execute_result",
          "data": {
            "text/html": [
              "<div>\n",
              "<style scoped>\n",
              "    .dataframe tbody tr th:only-of-type {\n",
              "        vertical-align: middle;\n",
              "    }\n",
              "\n",
              "    .dataframe tbody tr th {\n",
              "        vertical-align: top;\n",
              "    }\n",
              "\n",
              "    .dataframe thead th {\n",
              "        text-align: right;\n",
              "    }\n",
              "</style>\n",
              "<table border=\"1\" class=\"dataframe\">\n",
              "  <thead>\n",
              "    <tr style=\"text-align: right;\">\n",
              "      <th></th>\n",
              "      <th>Pred: 0</th>\n",
              "      <th>Pred: 1</th>\n",
              "      <th>Pred: 2</th>\n",
              "    </tr>\n",
              "  </thead>\n",
              "  <tbody>\n",
              "    <tr>\n",
              "      <th>Actual: 0</th>\n",
              "      <td>40</td>\n",
              "      <td>0</td>\n",
              "      <td>0</td>\n",
              "    </tr>\n",
              "    <tr>\n",
              "      <th>Actual: 1</th>\n",
              "      <td>0</td>\n",
              "      <td>30</td>\n",
              "      <td>11</td>\n",
              "    </tr>\n",
              "    <tr>\n",
              "      <th>Actual: 2</th>\n",
              "      <td>0</td>\n",
              "      <td>2</td>\n",
              "      <td>37</td>\n",
              "    </tr>\n",
              "  </tbody>\n",
              "</table>\n",
              "</div>"
            ],
            "text/plain": [
              "           Pred: 0  Pred: 1  Pred: 2\n",
              "Actual: 0       40        0        0\n",
              "Actual: 1        0       30       11\n",
              "Actual: 2        0        2       37"
            ]
          },
          "metadata": {
            "tags": []
          },
          "execution_count": 47
        }
      ]
    },
    {
      "cell_type": "code",
      "metadata": {
        "colab": {
          "base_uri": "https://localhost:8080/",
          "height": 323
        },
        "id": "uzu6dkov-Izt",
        "outputId": "a04896ec-20fd-4069-fcb8-cad2a62cd209"
      },
      "source": [
        "conf_mat = confusion_matrix(y_true=y_train, y_pred=y_train_preds)\n",
        "\n",
        "fig, ax = plt.subplots(figsize=(8, 5))\n",
        "ax.matshow(conf_mat, cmap=plt.cm.gray)\n",
        "plt.show()"
      ],
      "execution_count": 52,
      "outputs": [
        {
          "output_type": "display_data",
          "data": {
            "image/png": "[encoded data removed]",
            "text/plain": [
              "<Figure size 576x360 with 1 Axes>"
            ]
          },
          "metadata": {
            "tags": [],
            "needs_background": "light"
          }
        }
      ]
    },
    {
      "cell_type": "code",
      "metadata": {
        "colab": {
          "base_uri": "https://localhost:8080/",
          "height": 323
        },
        "id": "_ZHqIL8v-whp",
        "outputId": "b555caff-d524-4ce5-f7dc-671dfa82a10a"
      },
      "source": [
        "row_sums = conf_mat.sum(axis=1, keepdims=True)\n",
        "norm_conf_mx = conf_mat / row_sums\n",
        "\n",
        "np.fill_diagonal(norm_conf_mx, 0)\n",
        "fig, ax = plt.subplots(figsize=(8, 5))\n",
        "ax.matshow(norm_conf_mx, cmap=plt.cm.gray)\n",
        "plt.show()"
      ],
      "execution_count": 53,
      "outputs": [
        {
          "output_type": "display_data",
          "data": {
            "image/png": "[encoded data removed]",
            "text/plain": [
              "<Figure size 576x360 with 1 Axes>"
            ]
          },
          "metadata": {
            "tags": [],
            "needs_background": "light"
          }
        }
      ]
    }
  ]
}