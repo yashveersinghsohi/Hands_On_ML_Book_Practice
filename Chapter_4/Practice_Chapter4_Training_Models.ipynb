{
  "nbformat": 4,
  "nbformat_minor": 0,
  "metadata": {
    "colab": {
      "name": "Practice_Chapter4_Training_Models.ipynb",
      "provenance": [],
      "authorship_tag": "ABX9TyN6gVQnVrQJLUS3sLwzxrWE",
      "include_colab_link": true
    },
    "kernelspec": {
      "name": "python3",
      "display_name": "Python 3"
    },
    "language_info": {
      "name": "python"
    }
  },
  "cells": [
    {
      "cell_type": "markdown",
      "metadata": {
        "id": "view-in-github",
        "colab_type": "text"
      },
      "source": [
        "<a href=\"https://colab.research.google.com/github/yashveersinghsohi/Hands_On_ML_Book_Practice/blob/master/Chapter_4/Practice_Chapter4_Training_Models.ipynb\" target=\"_parent\"><img src=\"https://colab.research.google.com/assets/colab-badge.svg\" alt=\"Open In Colab\"/></a>"
      ]
    },
    {
      "cell_type": "markdown",
      "metadata": {
        "id": "a0KnHq9aQClD"
      },
      "source": [
        "# Importing Packages"
      ]
    },
    {
      "cell_type": "code",
      "metadata": {
        "id": "7gW8_w_aQBHK"
      },
      "source": [
        "import pandas as pd\n",
        "import numpy as np\n",
        "import matplotlib.pyplot as plt\n",
        "\n",
        "from sklearn.datasets import load_boston\n",
        "from sklearn.linear_model import (\n",
        "    LinearRegression, \n",
        "    SGDRegressor\n",
        "  )\n",
        "from sklearn.preprocessing import (\n",
        "    StandardScaler, \n",
        "    PolynomialFeatures\n",
        "  )\n",
        "from tqdm import tqdm"
      ],
      "execution_count": 23,
      "outputs": []
    },
    {
      "cell_type": "markdown",
      "metadata": {
        "id": "hKbbq7yWuGVR"
      },
      "source": [
        "# Data"
      ]
    },
    {
      "cell_type": "code",
      "metadata": {
        "id": "IsLpq4VnuIYV"
      },
      "source": [
        "boston = load_boston()"
      ],
      "execution_count": 2,
      "outputs": []
    },
    {
      "cell_type": "markdown",
      "metadata": {
        "id": "1rw3wbbHvGlA"
      },
      "source": [
        "# Linear Regression using Normal Equation"
      ]
    },
    {
      "cell_type": "markdown",
      "metadata": {
        "id": "vvRiFGuow2dp"
      },
      "source": [
        "Data"
      ]
    },
    {
      "cell_type": "code",
      "metadata": {
        "id": "VPD03kPDvAbL"
      },
      "source": [
        "X, y = boston.data, boston.target\n",
        "X_b = np.c_[np.ones(shape=(X.shape[0], 1)), X]"
      ],
      "execution_count": 3,
      "outputs": []
    },
    {
      "cell_type": "markdown",
      "metadata": {
        "id": "JKP9hizWw3dZ"
      },
      "source": [
        "Normal Equation"
      ]
    },
    {
      "cell_type": "code",
      "metadata": {
        "colab": {
          "base_uri": "https://localhost:8080/"
        },
        "id": "7oYD4JvGw41R",
        "outputId": "1cc876bd-15c3-4122-bc08-64d920053f06"
      },
      "source": [
        "theta_best = np.dot(np.dot(np.linalg.pinv(np.dot(X_b.T, X_b)), X_b.T), y)\n",
        "theta_best"
      ],
      "execution_count": 4,
      "outputs": [
        {
          "output_type": "execute_result",
          "data": {
            "text/plain": [
              "array([ 3.64594884e+01, -1.08011358e-01,  4.64204584e-02,  2.05586264e-02,\n",
              "        2.68673382e+00, -1.77666112e+01,  3.80986521e+00,  6.92224641e-04,\n",
              "       -1.47556685e+00,  3.06049479e-01, -1.23345939e-02, -9.52747232e-01,\n",
              "        9.31168327e-03, -5.24758378e-01])"
            ]
          },
          "metadata": {
            "tags": []
          },
          "execution_count": 4
        }
      ]
    },
    {
      "cell_type": "markdown",
      "metadata": {
        "id": "PJ_UqrR8xbPw"
      },
      "source": [
        "Predict"
      ]
    },
    {
      "cell_type": "code",
      "metadata": {
        "colab": {
          "base_uri": "https://localhost:8080/"
        },
        "id": "nC31DLLFxTNH",
        "outputId": "563365d0-fd46-4f6b-966a-9ac1551dd28f"
      },
      "source": [
        "X_predict = X_b[0]\n",
        "y_hat = np.dot(theta_best, X_predict)\n",
        "y_hat, y[0]"
      ],
      "execution_count": 5,
      "outputs": [
        {
          "output_type": "execute_result",
          "data": {
            "text/plain": [
              "(30.003843377084745, 24.0)"
            ]
          },
          "metadata": {
            "tags": []
          },
          "execution_count": 5
        }
      ]
    },
    {
      "cell_type": "markdown",
      "metadata": {
        "id": "YChC_-uf0NZm"
      },
      "source": [
        "# Linear Regression using Sklearn"
      ]
    },
    {
      "cell_type": "markdown",
      "metadata": {
        "id": "AZxskEzn1CVe"
      },
      "source": [
        "Model"
      ]
    },
    {
      "cell_type": "code",
      "metadata": {
        "colab": {
          "base_uri": "https://localhost:8080/"
        },
        "id": "59cIRKWH0P4a",
        "outputId": "b2795ee9-59cb-4c44-facc-294338f8431c"
      },
      "source": [
        "lin_reg = LinearRegression()\n",
        "lin_reg.fit(X, y)\n",
        "lin_reg.intercept_, lin_reg.coef_"
      ],
      "execution_count": 6,
      "outputs": [
        {
          "output_type": "execute_result",
          "data": {
            "text/plain": [
              "(36.459488385090125,\n",
              " array([-1.08011358e-01,  4.64204584e-02,  2.05586264e-02,  2.68673382e+00,\n",
              "        -1.77666112e+01,  3.80986521e+00,  6.92224640e-04, -1.47556685e+00,\n",
              "         3.06049479e-01, -1.23345939e-02, -9.52747232e-01,  9.31168327e-03,\n",
              "        -5.24758378e-01]))"
            ]
          },
          "metadata": {
            "tags": []
          },
          "execution_count": 6
        }
      ]
    },
    {
      "cell_type": "markdown",
      "metadata": {
        "id": "kLlkjJtK1DUH"
      },
      "source": [
        "Predict"
      ]
    },
    {
      "cell_type": "code",
      "metadata": {
        "colab": {
          "base_uri": "https://localhost:8080/"
        },
        "id": "O8X5OdtI09Qz",
        "outputId": "8315c3cd-89eb-4542-ec01-baf05ff8d566"
      },
      "source": [
        "X_predict = X[0]\n",
        "y_hat = lin_reg.predict([X_predict])\n",
        "y_hat, y[0]"
      ],
      "execution_count": 7,
      "outputs": [
        {
          "output_type": "execute_result",
          "data": {
            "text/plain": [
              "(array([30.00384338]), 24.0)"
            ]
          },
          "metadata": {
            "tags": []
          },
          "execution_count": 7
        }
      ]
    },
    {
      "cell_type": "markdown",
      "metadata": {
        "id": "wBVmI8gjvRJg"
      },
      "source": [
        "# Stochastic Gradient Descent"
      ]
    },
    {
      "cell_type": "markdown",
      "metadata": {
        "id": "SHkYzR9UAIBL"
      },
      "source": [
        "Data"
      ]
    },
    {
      "cell_type": "code",
      "metadata": {
        "colab": {
          "base_uri": "https://localhost:8080/"
        },
        "id": "m8Pvtolx-9wJ",
        "outputId": "d2534eab-11fe-4ea9-d2fb-c5673d993b73"
      },
      "source": [
        "X, y = boston.data, boston.target\n",
        "X_b = np.c_[np.ones(shape=(X.shape[0], 1)), X]\n",
        "X_b.shape, y.shape"
      ],
      "execution_count": 9,
      "outputs": [
        {
          "output_type": "execute_result",
          "data": {
            "text/plain": [
              "((506, 14), (506,))"
            ]
          },
          "metadata": {
            "tags": []
          },
          "execution_count": 9
        }
      ]
    },
    {
      "cell_type": "markdown",
      "metadata": {
        "id": "QnRLLB7YAI1R"
      },
      "source": [
        "Scaling"
      ]
    },
    {
      "cell_type": "code",
      "metadata": {
        "id": "Nzo2h1WD_kuE"
      },
      "source": [
        "scaler = StandardScaler()\n",
        "X_scaled = scaler.fit_transform(X)"
      ],
      "execution_count": 19,
      "outputs": []
    },
    {
      "cell_type": "markdown",
      "metadata": {
        "id": "Wc4b1eB6AKD-"
      },
      "source": [
        "Model"
      ]
    },
    {
      "cell_type": "code",
      "metadata": {
        "colab": {
          "base_uri": "https://localhost:8080/"
        },
        "id": "2SCmgYeMzUTa",
        "outputId": "4c3c0564-b918-4225-9ece-8dd98a6e7e80"
      },
      "source": [
        "sgd_reg = SGDRegressor(penalty=None, eta0=0.01, max_iter=1000, tol=1e-3)\n",
        "sgd_reg.fit(X_scaled, y)\n",
        "sgd_reg.intercept_, sgd_reg.coef_"
      ],
      "execution_count": 20,
      "outputs": [
        {
          "output_type": "execute_result",
          "data": {
            "text/plain": [
              "(array([22.56576539]),\n",
              " array([-0.8898178 ,  0.99126234, -0.14443074,  0.73970392, -1.92072259,\n",
              "         2.78826381, -0.06868451, -3.00329024,  1.97474331, -1.38701321,\n",
              "        -2.03721949,  0.85816604, -3.73306066]))"
            ]
          },
          "metadata": {
            "tags": []
          },
          "execution_count": 20
        }
      ]
    },
    {
      "cell_type": "markdown",
      "metadata": {
        "id": "iiqXckFgALti"
      },
      "source": [
        "Predictions"
      ]
    },
    {
      "cell_type": "code",
      "metadata": {
        "colab": {
          "base_uri": "https://localhost:8080/"
        },
        "id": "RMdEBgTm_KN9",
        "outputId": "fc32e555-9b4b-482f-ef66-46358641aeaa"
      },
      "source": [
        "X_predict = X_scaled[0]\n",
        "y_hat = sgd_reg.predict([X_predict])\n",
        "y_hat, y[0]"
      ],
      "execution_count": 22,
      "outputs": [
        {
          "output_type": "execute_result",
          "data": {
            "text/plain": [
              "(array([30.57324757]), 24.0)"
            ]
          },
          "metadata": {
            "tags": []
          },
          "execution_count": 22
        }
      ]
    },
    {
      "cell_type": "markdown",
      "metadata": {
        "id": "C3f5TyA6IMof"
      },
      "source": [
        "# Polynomial Regression"
      ]
    },
    {
      "cell_type": "markdown",
      "metadata": {
        "id": "ne5igHDJKPOY"
      },
      "source": [
        "Data"
      ]
    },
    {
      "cell_type": "code",
      "metadata": {
        "id": "JtNU6YIi_Tal"
      },
      "source": [
        "X, y = boston.data, boston.target\n",
        "X_b = np.c_[np.ones(shape=(X.shape[0], 1)), X]\n",
        "\n",
        "scaler = StandardScaler()\n",
        "X_scaled = scaler.fit_transform(X)"
      ],
      "execution_count": 24,
      "outputs": []
    },
    {
      "cell_type": "markdown",
      "metadata": {
        "id": "wTZTM-A1KQQP"
      },
      "source": [
        "Adding Polynomial Features"
      ]
    },
    {
      "cell_type": "code",
      "metadata": {
        "colab": {
          "base_uri": "https://localhost:8080/"
        },
        "id": "gwpA-q6fKP2G",
        "outputId": "7260f482-4b0e-4e1c-f8ae-6d6cb6805b9a"
      },
      "source": [
        "poly_features = PolynomialFeatures(degree=2, include_bias=False)\n",
        "X_poly = poly_features.fit_transform(X_scaled)\n",
        "X_scaled.shape, X_poly.shape"
      ],
      "execution_count": 26,
      "outputs": [
        {
          "output_type": "execute_result",
          "data": {
            "text/plain": [
              "((506, 13), (506, 104))"
            ]
          },
          "metadata": {
            "tags": []
          },
          "execution_count": 26
        }
      ]
    },
    {
      "cell_type": "markdown",
      "metadata": {
        "id": "1OEXs4WDLH14"
      },
      "source": [
        "Model"
      ]
    },
    {
      "cell_type": "code",
      "metadata": {
        "colab": {
          "base_uri": "https://localhost:8080/"
        },
        "id": "Ge3a9kyXLAIn",
        "outputId": "afb62a75-6beb-4460-a30b-41828e00af01"
      },
      "source": [
        "lin_reg = LinearRegression()\n",
        "lin_reg.fit(X_poly, y)\n",
        "lin_reg.intercept_, lin_reg.coef_"
      ],
      "execution_count": 27,
      "outputs": [
        {
          "output_type": "execute_result",
          "data": {
            "text/plain": [
              "(679434669252.3757,\n",
              " array([ 1.59234951e+01,  1.50502515e+01,  9.36622159e+00,  2.30722377e+12,\n",
              "        -1.87308397e+00,  3.51318636e+00, -2.09148102e+00, -2.49408286e+00,\n",
              "         5.12328230e+00, -1.01107633e+01,  1.18145533e+00,  1.43242023e+00,\n",
              "        -3.16190626e+00,  1.16426626e-01,  4.34139171e+01,  2.32192411e+01,\n",
              "         5.43302795e+00, -7.15031736e-01,  8.28190784e-01, -7.48693468e-01,\n",
              "        -1.72395548e+00,  1.60313434e+01, -3.47896325e+01,  7.14658242e+00,\n",
              "        -2.55511066e-01,  1.27309309e+00, -2.62819140e-01, -8.27610903e-01,\n",
              "        -3.69842439e-01, -2.82159275e+00,  2.23447724e-01,  4.88085530e-02,\n",
              "        -5.04200936e-01, -1.01763916e+00,  2.49133301e+00, -3.52333069e-01,\n",
              "         1.38286972e+00, -7.49053955e-01,  1.85934448e+00,  1.43432617e-03,\n",
              "         9.49054718e-01,  1.42794800e+00,  6.67434692e-01,  1.92483521e+00,\n",
              "        -1.37421227e+00,  6.52282715e-01, -1.96197510e-01,  1.53338623e+00,\n",
              "        -5.54687500e-01, -6.79434669e+11, -1.00100708e+00, -9.83398438e-01,\n",
              "         9.53216553e-02,  5.96191406e-01, -1.58935547e-01,  1.96350098e-01,\n",
              "        -5.15014648e-01,  4.48287964e-01, -4.30038452e-01, -4.84863281e-01,\n",
              "         1.41723633e-01, -1.47521973e+00,  3.48937988e+00, -1.89768982e+00,\n",
              "         3.45425415e+00, -2.73989868e+00, -2.18017578e-01,  9.37835693e-01,\n",
              "         1.81823730e-01, -1.15948486e+00,  8.98437500e-02, -3.16162109e-01,\n",
              "        -2.25146484e+00, -8.22463989e-01, -2.45635986e-01, -9.57153320e-01,\n",
              "         1.27517700e-01, -2.60101318e-01,  3.82944489e+00, -2.58938599e+00,\n",
              "         4.69970703e-03, -1.65222168e+00, -1.49496460e+00,  1.91024780e+00,\n",
              "        -1.91540527e+00, -1.72570801e+00, -7.34558105e-01, -6.25915527e-01,\n",
              "         1.20744324e+00, -9.52687836e+00,  1.11236076e+01, -1.55413818e+00,\n",
              "         2.01049805e-01, -1.89984131e+00, -2.26521301e+00,  2.01929474e+00,\n",
              "        -1.43920898e+00, -7.31384277e-01,  8.11004639e-02,  5.01739502e-01,\n",
              "         9.21173096e-02, -3.07617188e-01, -3.05175781e-01,  6.55975342e-01]))"
            ]
          },
          "metadata": {
            "tags": []
          },
          "execution_count": 27
        }
      ]
    },
    {
      "cell_type": "markdown",
      "metadata": {
        "id": "GkTlK_y3LU7m"
      },
      "source": [
        "Predictions"
      ]
    },
    {
      "cell_type": "code",
      "metadata": {
        "colab": {
          "base_uri": "https://localhost:8080/"
        },
        "id": "i7Z9CeytLSMO",
        "outputId": "cbab6c93-47f6-4b90-fe73-80445e2e8363"
      },
      "source": [
        "X_predict = X_poly[0]\n",
        "y_hat = lin_reg.predict([X_predict])\n",
        "y_hat, y[0]"
      ],
      "execution_count": 29,
      "outputs": [
        {
          "output_type": "execute_result",
          "data": {
            "text/plain": [
              "(array([24.78417969]), 24.0)"
            ]
          },
          "metadata": {
            "tags": []
          },
          "execution_count": 29
        }
      ]
    },
    {
      "cell_type": "markdown",
      "metadata": {
        "id": "qlGcyRdRM39T"
      },
      "source": [
        "# Learning Curves"
      ]
    },
    {
      "cell_type": "code",
      "metadata": {
        "id": "FiiRmrygM41X"
      },
      "source": [
        ""
      ],
      "execution_count": null,
      "outputs": []
    }
  ]
}