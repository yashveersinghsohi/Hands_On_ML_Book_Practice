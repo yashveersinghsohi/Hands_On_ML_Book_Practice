{
  "nbformat": 4,
  "nbformat_minor": 0,
  "metadata": {
    "colab": {
      "name": "Practice_Chapter4_Training_Models.ipynb",
      "provenance": [],
      "authorship_tag": "ABX9TyM/5nLVT7BGy2hLZ8YM/yii",
      "include_colab_link": true
    },
    "kernelspec": {
      "name": "python3",
      "display_name": "Python 3"
    },
    "language_info": {
      "name": "python"
    }
  },
  "cells": [
    {
      "cell_type": "markdown",
      "metadata": {
        "id": "view-in-github",
        "colab_type": "text"
      },
      "source": [
        "<a href=\"https://colab.research.google.com/github/yashveersinghsohi/Hands_On_ML_Book_Practice/blob/master/Chapter_4/Practice_Chapter4_Training_Models.ipynb\" target=\"_parent\"><img src=\"https://colab.research.google.com/assets/colab-badge.svg\" alt=\"Open In Colab\"/></a>"
      ]
    },
    {
      "cell_type": "markdown",
      "metadata": {
        "id": "a0KnHq9aQClD"
      },
      "source": [
        "# Importing Packages"
      ]
    },
    {
      "cell_type": "code",
      "metadata": {
        "id": "7gW8_w_aQBHK"
      },
      "source": [
        "import pandas as pd\n",
        "import numpy as np\n",
        "import matplotlib.pyplot as plt\n",
        "\n",
        "from sklearn.datasets import (\n",
        "    load_boston, \n",
        "    load_iris\n",
        "  )\n",
        "from sklearn.linear_model import (\n",
        "    LinearRegression, \n",
        "    SGDRegressor, \n",
        "    Ridge, \n",
        "    Lasso, \n",
        "    ElasticNet, \n",
        "    LogisticRegression\n",
        "  )\n",
        "from sklearn.preprocessing import (\n",
        "    StandardScaler, \n",
        "    PolynomialFeatures\n",
        "  )\n",
        "from sklearn.metrics import mean_squared_error\n",
        "from sklearn.model_selection import train_test_split\n",
        "from sklearn.pipeline import Pipeline\n",
        "from sklearn.base import clone\n",
        "\n",
        "from tqdm import tqdm"
      ],
      "execution_count": 19,
      "outputs": []
    },
    {
      "cell_type": "markdown",
      "metadata": {
        "id": "hKbbq7yWuGVR"
      },
      "source": [
        "# Data"
      ]
    },
    {
      "cell_type": "code",
      "metadata": {
        "id": "IsLpq4VnuIYV"
      },
      "source": [
        "boston = load_boston()"
      ],
      "execution_count": 20,
      "outputs": []
    },
    {
      "cell_type": "markdown",
      "metadata": {
        "id": "1rw3wbbHvGlA"
      },
      "source": [
        "# Linear Regression using Normal Equation"
      ]
    },
    {
      "cell_type": "markdown",
      "metadata": {
        "id": "vvRiFGuow2dp"
      },
      "source": [
        "Data"
      ]
    },
    {
      "cell_type": "code",
      "metadata": {
        "id": "VPD03kPDvAbL"
      },
      "source": [
        "X, y = boston.data, boston.target\n",
        "X_b = np.c_[np.ones(shape=(X.shape[0], 1)), X]"
      ],
      "execution_count": 21,
      "outputs": []
    },
    {
      "cell_type": "markdown",
      "metadata": {
        "id": "JKP9hizWw3dZ"
      },
      "source": [
        "Normal Equation"
      ]
    },
    {
      "cell_type": "code",
      "metadata": {
        "colab": {
          "base_uri": "https://localhost:8080/"
        },
        "id": "7oYD4JvGw41R",
        "outputId": "01552c1c-ec09-43b7-9ce1-e0a24b738c29"
      },
      "source": [
        "theta_best = np.dot(np.dot(np.linalg.pinv(np.dot(X_b.T, X_b)), X_b.T), y)\n",
        "theta_best"
      ],
      "execution_count": 22,
      "outputs": [
        {
          "output_type": "execute_result",
          "data": {
            "text/plain": [
              "array([ 3.64594884e+01, -1.08011358e-01,  4.64204584e-02,  2.05586264e-02,\n",
              "        2.68673382e+00, -1.77666112e+01,  3.80986521e+00,  6.92224641e-04,\n",
              "       -1.47556685e+00,  3.06049479e-01, -1.23345939e-02, -9.52747232e-01,\n",
              "        9.31168327e-03, -5.24758378e-01])"
            ]
          },
          "metadata": {
            "tags": []
          },
          "execution_count": 22
        }
      ]
    },
    {
      "cell_type": "markdown",
      "metadata": {
        "id": "PJ_UqrR8xbPw"
      },
      "source": [
        "Predict"
      ]
    },
    {
      "cell_type": "code",
      "metadata": {
        "colab": {
          "base_uri": "https://localhost:8080/"
        },
        "id": "nC31DLLFxTNH",
        "outputId": "bf39cc01-8ed2-45b0-976a-d7c7f9513bf0"
      },
      "source": [
        "X_predict = X_b[0]\n",
        "y_hat = np.dot(theta_best, X_predict)\n",
        "y_hat, y[0]"
      ],
      "execution_count": 23,
      "outputs": [
        {
          "output_type": "execute_result",
          "data": {
            "text/plain": [
              "(30.003843377084745, 24.0)"
            ]
          },
          "metadata": {
            "tags": []
          },
          "execution_count": 23
        }
      ]
    },
    {
      "cell_type": "markdown",
      "metadata": {
        "id": "YChC_-uf0NZm"
      },
      "source": [
        "# Linear Regression using Sklearn"
      ]
    },
    {
      "cell_type": "markdown",
      "metadata": {
        "id": "AZxskEzn1CVe"
      },
      "source": [
        "Model"
      ]
    },
    {
      "cell_type": "code",
      "metadata": {
        "colab": {
          "base_uri": "https://localhost:8080/"
        },
        "id": "59cIRKWH0P4a",
        "outputId": "1c686b2d-30db-480a-877b-6d8d00b2d384"
      },
      "source": [
        "lin_reg = LinearRegression()\n",
        "lin_reg.fit(X, y)\n",
        "lin_reg.intercept_, lin_reg.coef_"
      ],
      "execution_count": 24,
      "outputs": [
        {
          "output_type": "execute_result",
          "data": {
            "text/plain": [
              "(36.459488385090125,\n",
              " array([-1.08011358e-01,  4.64204584e-02,  2.05586264e-02,  2.68673382e+00,\n",
              "        -1.77666112e+01,  3.80986521e+00,  6.92224640e-04, -1.47556685e+00,\n",
              "         3.06049479e-01, -1.23345939e-02, -9.52747232e-01,  9.31168327e-03,\n",
              "        -5.24758378e-01]))"
            ]
          },
          "metadata": {
            "tags": []
          },
          "execution_count": 24
        }
      ]
    },
    {
      "cell_type": "markdown",
      "metadata": {
        "id": "kLlkjJtK1DUH"
      },
      "source": [
        "Predict"
      ]
    },
    {
      "cell_type": "code",
      "metadata": {
        "colab": {
          "base_uri": "https://localhost:8080/"
        },
        "id": "O8X5OdtI09Qz",
        "outputId": "e7c081ca-1834-4d20-c7ce-8242be7653b5"
      },
      "source": [
        "X_predict = X[0]\n",
        "y_hat = lin_reg.predict([X_predict])\n",
        "y_hat, y[0]"
      ],
      "execution_count": 25,
      "outputs": [
        {
          "output_type": "execute_result",
          "data": {
            "text/plain": [
              "(array([30.00384338]), 24.0)"
            ]
          },
          "metadata": {
            "tags": []
          },
          "execution_count": 25
        }
      ]
    },
    {
      "cell_type": "markdown",
      "metadata": {
        "id": "wBVmI8gjvRJg"
      },
      "source": [
        "# Stochastic Gradient Descent"
      ]
    },
    {
      "cell_type": "markdown",
      "metadata": {
        "id": "SHkYzR9UAIBL"
      },
      "source": [
        "Data"
      ]
    },
    {
      "cell_type": "code",
      "metadata": {
        "colab": {
          "base_uri": "https://localhost:8080/"
        },
        "id": "m8Pvtolx-9wJ",
        "outputId": "62d9dbc5-46af-4942-fc05-d6124ede2b06"
      },
      "source": [
        "X, y = boston.data, boston.target\n",
        "X_b = np.c_[np.ones(shape=(X.shape[0], 1)), X]\n",
        "X_b.shape, y.shape"
      ],
      "execution_count": 26,
      "outputs": [
        {
          "output_type": "execute_result",
          "data": {
            "text/plain": [
              "((506, 14), (506,))"
            ]
          },
          "metadata": {
            "tags": []
          },
          "execution_count": 26
        }
      ]
    },
    {
      "cell_type": "markdown",
      "metadata": {
        "id": "QnRLLB7YAI1R"
      },
      "source": [
        "Scaling"
      ]
    },
    {
      "cell_type": "code",
      "metadata": {
        "id": "Nzo2h1WD_kuE"
      },
      "source": [
        "scaler = StandardScaler()\n",
        "X_scaled = scaler.fit_transform(X)"
      ],
      "execution_count": 27,
      "outputs": []
    },
    {
      "cell_type": "markdown",
      "metadata": {
        "id": "Wc4b1eB6AKD-"
      },
      "source": [
        "Model"
      ]
    },
    {
      "cell_type": "code",
      "metadata": {
        "colab": {
          "base_uri": "https://localhost:8080/"
        },
        "id": "2SCmgYeMzUTa",
        "outputId": "8f6b7c7a-9a30-47b0-bd21-3ff6264e6551"
      },
      "source": [
        "sgd_reg = SGDRegressor(penalty=None, eta0=0.01, max_iter=1000, tol=1e-3)\n",
        "sgd_reg.fit(X_scaled, y)\n",
        "sgd_reg.intercept_, sgd_reg.coef_"
      ],
      "execution_count": 28,
      "outputs": [
        {
          "output_type": "execute_result",
          "data": {
            "text/plain": [
              "(array([22.53609694]),\n",
              " array([-0.86982178,  1.02111718, -0.08937667,  0.69010331, -1.992341  ,\n",
              "         2.7221536 , -0.02717318, -3.0593515 ,  2.11039972, -1.46299525,\n",
              "        -2.04382773,  0.81784929, -3.73338563]))"
            ]
          },
          "metadata": {
            "tags": []
          },
          "execution_count": 28
        }
      ]
    },
    {
      "cell_type": "markdown",
      "metadata": {
        "id": "iiqXckFgALti"
      },
      "source": [
        "Predictions"
      ]
    },
    {
      "cell_type": "code",
      "metadata": {
        "colab": {
          "base_uri": "https://localhost:8080/"
        },
        "id": "RMdEBgTm_KN9",
        "outputId": "bb91a5d9-3e3e-4b95-8e3f-f9ac5690e4cc"
      },
      "source": [
        "X_predict = X_scaled[0]\n",
        "y_hat = sgd_reg.predict([X_predict])\n",
        "y_hat, y[0]"
      ],
      "execution_count": 29,
      "outputs": [
        {
          "output_type": "execute_result",
          "data": {
            "text/plain": [
              "(array([30.3659738]), 24.0)"
            ]
          },
          "metadata": {
            "tags": []
          },
          "execution_count": 29
        }
      ]
    },
    {
      "cell_type": "markdown",
      "metadata": {
        "id": "C3f5TyA6IMof"
      },
      "source": [
        "# Polynomial Regression"
      ]
    },
    {
      "cell_type": "markdown",
      "metadata": {
        "id": "ne5igHDJKPOY"
      },
      "source": [
        "Data"
      ]
    },
    {
      "cell_type": "code",
      "metadata": {
        "id": "JtNU6YIi_Tal"
      },
      "source": [
        "X, y = boston.data, boston.target\n",
        "X_b = np.c_[np.ones(shape=(X.shape[0], 1)), X]\n",
        "\n",
        "scaler = StandardScaler()\n",
        "X_scaled = scaler.fit_transform(X)"
      ],
      "execution_count": 30,
      "outputs": []
    },
    {
      "cell_type": "markdown",
      "metadata": {
        "id": "wTZTM-A1KQQP"
      },
      "source": [
        "Adding Polynomial Features"
      ]
    },
    {
      "cell_type": "code",
      "metadata": {
        "colab": {
          "base_uri": "https://localhost:8080/"
        },
        "id": "gwpA-q6fKP2G",
        "outputId": "45062404-42a5-4a5b-a22e-40c5bbeb5589"
      },
      "source": [
        "poly_features = PolynomialFeatures(degree=2, include_bias=False)\n",
        "X_poly = poly_features.fit_transform(X_scaled)\n",
        "X_scaled.shape, X_poly.shape"
      ],
      "execution_count": 31,
      "outputs": [
        {
          "output_type": "execute_result",
          "data": {
            "text/plain": [
              "((506, 13), (506, 104))"
            ]
          },
          "metadata": {
            "tags": []
          },
          "execution_count": 31
        }
      ]
    },
    {
      "cell_type": "markdown",
      "metadata": {
        "id": "1OEXs4WDLH14"
      },
      "source": [
        "Model"
      ]
    },
    {
      "cell_type": "code",
      "metadata": {
        "colab": {
          "base_uri": "https://localhost:8080/"
        },
        "id": "Ge3a9kyXLAIn",
        "outputId": "08555c0e-6a29-454b-f6eb-a051109acdd8"
      },
      "source": [
        "lin_reg = LinearRegression()\n",
        "lin_reg.fit(X_poly, y)\n",
        "lin_reg.intercept_, lin_reg.coef_"
      ],
      "execution_count": 32,
      "outputs": [
        {
          "output_type": "execute_result",
          "data": {
            "text/plain": [
              "(679434669252.3757,\n",
              " array([ 1.59234951e+01,  1.50502515e+01,  9.36622159e+00,  2.30722377e+12,\n",
              "        -1.87308397e+00,  3.51318636e+00, -2.09148102e+00, -2.49408286e+00,\n",
              "         5.12328230e+00, -1.01107633e+01,  1.18145533e+00,  1.43242023e+00,\n",
              "        -3.16190626e+00,  1.16426626e-01,  4.34139171e+01,  2.32192411e+01,\n",
              "         5.43302795e+00, -7.15031736e-01,  8.28190784e-01, -7.48693468e-01,\n",
              "        -1.72395548e+00,  1.60313434e+01, -3.47896325e+01,  7.14658242e+00,\n",
              "        -2.55511066e-01,  1.27309309e+00, -2.62819140e-01, -8.27610903e-01,\n",
              "        -3.69842439e-01, -2.82159275e+00,  2.23447724e-01,  4.88085530e-02,\n",
              "        -5.04200936e-01, -1.01763916e+00,  2.49133301e+00, -3.52333069e-01,\n",
              "         1.38286972e+00, -7.49053955e-01,  1.85934448e+00,  1.43432617e-03,\n",
              "         9.49054718e-01,  1.42794800e+00,  6.67434692e-01,  1.92483521e+00,\n",
              "        -1.37421227e+00,  6.52282715e-01, -1.96197510e-01,  1.53338623e+00,\n",
              "        -5.54687500e-01, -6.79434669e+11, -1.00100708e+00, -9.83398438e-01,\n",
              "         9.53216553e-02,  5.96191406e-01, -1.58935547e-01,  1.96350098e-01,\n",
              "        -5.15014648e-01,  4.48287964e-01, -4.30038452e-01, -4.84863281e-01,\n",
              "         1.41723633e-01, -1.47521973e+00,  3.48937988e+00, -1.89768982e+00,\n",
              "         3.45425415e+00, -2.73989868e+00, -2.18017578e-01,  9.37835693e-01,\n",
              "         1.81823730e-01, -1.15948486e+00,  8.98437500e-02, -3.16162109e-01,\n",
              "        -2.25146484e+00, -8.22463989e-01, -2.45635986e-01, -9.57153320e-01,\n",
              "         1.27517700e-01, -2.60101318e-01,  3.82944489e+00, -2.58938599e+00,\n",
              "         4.69970703e-03, -1.65222168e+00, -1.49496460e+00,  1.91024780e+00,\n",
              "        -1.91540527e+00, -1.72570801e+00, -7.34558105e-01, -6.25915527e-01,\n",
              "         1.20744324e+00, -9.52687836e+00,  1.11236076e+01, -1.55413818e+00,\n",
              "         2.01049805e-01, -1.89984131e+00, -2.26521301e+00,  2.01929474e+00,\n",
              "        -1.43920898e+00, -7.31384277e-01,  8.11004639e-02,  5.01739502e-01,\n",
              "         9.21173096e-02, -3.07617188e-01, -3.05175781e-01,  6.55975342e-01]))"
            ]
          },
          "metadata": {
            "tags": []
          },
          "execution_count": 32
        }
      ]
    },
    {
      "cell_type": "markdown",
      "metadata": {
        "id": "GkTlK_y3LU7m"
      },
      "source": [
        "Predictions"
      ]
    },
    {
      "cell_type": "code",
      "metadata": {
        "colab": {
          "base_uri": "https://localhost:8080/"
        },
        "id": "i7Z9CeytLSMO",
        "outputId": "4c899f61-3852-4899-a2a4-5cd129f682c3"
      },
      "source": [
        "X_predict = X_poly[0]\n",
        "y_hat = lin_reg.predict([X_predict])\n",
        "y_hat, y[0]"
      ],
      "execution_count": 33,
      "outputs": [
        {
          "output_type": "execute_result",
          "data": {
            "text/plain": [
              "(array([24.78417969]), 24.0)"
            ]
          },
          "metadata": {
            "tags": []
          },
          "execution_count": 33
        }
      ]
    },
    {
      "cell_type": "markdown",
      "metadata": {
        "id": "qlGcyRdRM39T"
      },
      "source": [
        "# Learning Curves"
      ]
    },
    {
      "cell_type": "code",
      "metadata": {
        "id": "FiiRmrygM41X"
      },
      "source": [
        "def plot_learning_curves(model, X, y):\n",
        "  X_train, X_test, y_train, y_test = train_test_split(\n",
        "      X, y, \n",
        "      test_size=0.2, \n",
        "      random_state=42\n",
        "    )\n",
        "  \n",
        "  train_errors = []\n",
        "  test_errors = []\n",
        "  for m in range(1, len(X_train)+1):\n",
        "    model.fit(X_train[:m], y_train[:m])\n",
        "    y_train_preds = model.predict(X_train[:m])\n",
        "    y_test_preds = model.predict(X_test)\n",
        "\n",
        "    train_errors.append(\n",
        "        np.sqrt(\n",
        "            mean_squared_error(\n",
        "                y_true=y_train[:m], \n",
        "                y_pred=y_train_preds\n",
        "              )\n",
        "          )\n",
        "      )\n",
        "    \n",
        "    test_errors.append(\n",
        "        np.sqrt(\n",
        "            mean_squared_error(\n",
        "                y_true=y_test, \n",
        "                y_pred=y_test_preds\n",
        "              )\n",
        "          )\n",
        "      )\n",
        "    \n",
        "  fig, ax = plt.subplots(figsize=(8, 5))\n",
        "  ax.plot(train_errors, \"b-\", label=\"train\")\n",
        "  ax.plot(test_errors, \"r-+\", label=\"test\")\n",
        "  \n",
        "  ax.set_ylim([0, 30])\n",
        "  ax.set_title(\"Learning Curves\", size=20)\n",
        "  ax.set_xlabel(\"Training Set size\", size=15)\n",
        "  ax.set_ylabel(\"Root Mean Squarred Error\", size=15)\n",
        "  \n",
        "  ax.legend()\n",
        "  plt.show()"
      ],
      "execution_count": 34,
      "outputs": []
    },
    {
      "cell_type": "markdown",
      "metadata": {
        "id": "c5QAe9hr4KTI"
      },
      "source": [
        "Learning Curves for Linear Model"
      ]
    },
    {
      "cell_type": "code",
      "metadata": {
        "id": "7i7_SvWp4KP2",
        "outputId": "de987cd6-3aec-461b-b49c-f381b4362b14",
        "colab": {
          "base_uri": "https://localhost:8080/",
          "height": 360
        }
      },
      "source": [
        "X, y = boston.data, boston.target\n",
        "\n",
        "lin_reg = LinearRegression()\n",
        "plot_learning_curves(lin_reg, X, y)"
      ],
      "execution_count": 35,
      "outputs": [
        {
          "output_type": "display_data",
          "data": {
            "image/png": "[encoded data removed]",
            "text/plain": [
              "<Figure size 576x360 with 1 Axes>"
            ]
          },
          "metadata": {
            "tags": [],
            "needs_background": "light"
          }
        }
      ]
    },
    {
      "cell_type": "markdown",
      "metadata": {
        "id": "Y1Z2vPPK4KN8"
      },
      "source": [
        "Learning Curve for Polynomial Model"
      ]
    },
    {
      "cell_type": "code",
      "metadata": {
        "id": "wirHfp3d4KL7",
        "outputId": "ace91f7e-1bb4-43ba-9198-1f28b3fbdfdb",
        "colab": {
          "base_uri": "https://localhost:8080/",
          "height": 360
        }
      },
      "source": [
        "X, y = boston.data, boston.target\n",
        "X_b = np.c_[np.ones(shape=(X.shape[0], 1)), X]\n",
        "\n",
        "scaler = StandardScaler()\n",
        "X_scaled = scaler.fit_transform(X)\n",
        "\n",
        "poly_features = PolynomialFeatures(degree=2, include_bias=False)\n",
        "X_poly = poly_features.fit_transform(X_scaled)\n",
        "\n",
        "lin_reg = LinearRegression()\n",
        "plot_learning_curves(lin_reg, X_poly, y)"
      ],
      "execution_count": 36,
      "outputs": [
        {
          "output_type": "display_data",
          "data": {
            "image/png": "[encoded data removed]",
            "text/plain": [
              "<Figure size 576x360 with 1 Axes>"
            ]
          },
          "metadata": {
            "tags": [],
            "needs_background": "light"
          }
        }
      ]
    },
    {
      "cell_type": "markdown",
      "metadata": {
        "id": "604eq3d44WbU"
      },
      "source": [
        "# Ridge Regression with closed form solution"
      ]
    },
    {
      "cell_type": "code",
      "metadata": {
        "id": "4RHoZ8iD4Ttu",
        "outputId": "f0322940-48aa-4ec3-a8d3-fd4725285cd5",
        "colab": {
          "base_uri": "https://localhost:8080/"
        }
      },
      "source": [
        "X, y = boston.data, boston.target\n",
        "\n",
        "ridge_reg = Ridge(alpha=1.0, solver=\"cholesky\")\n",
        "ridge_reg.fit(X, y)"
      ],
      "execution_count": 37,
      "outputs": [
        {
          "output_type": "execute_result",
          "data": {
            "text/plain": [
              "Ridge(alpha=1.0, copy_X=True, fit_intercept=True, max_iter=None,\n",
              "      normalize=False, random_state=None, solver='cholesky', tol=0.001)"
            ]
          },
          "metadata": {
            "tags": []
          },
          "execution_count": 37
        }
      ]
    },
    {
      "cell_type": "code",
      "metadata": {
        "id": "4eNZIy8r4TqZ",
        "outputId": "47980449-6bbb-465a-b50d-1ba4bf8086dc",
        "colab": {
          "base_uri": "https://localhost:8080/"
        }
      },
      "source": [
        "X_predict = X[0]\n",
        "y_hat = ridge_reg.predict([X_predict])\n",
        "y_hat, y[0]"
      ],
      "execution_count": 38,
      "outputs": [
        {
          "output_type": "execute_result",
          "data": {
            "text/plain": [
              "(array([30.25311604]), 24.0)"
            ]
          },
          "metadata": {
            "tags": []
          },
          "execution_count": 38
        }
      ]
    },
    {
      "cell_type": "markdown",
      "metadata": {
        "id": "nHjjeCU_4bFw"
      },
      "source": [
        "# Ridge Regression with SGD"
      ]
    },
    {
      "cell_type": "code",
      "metadata": {
        "id": "X_0EEOPU4Tn2",
        "outputId": "2232b444-5402-4d02-a306-c535c27e4941",
        "colab": {
          "base_uri": "https://localhost:8080/"
        }
      },
      "source": [
        "X, y = boston.data, boston.target\n",
        "scaler = StandardScaler()\n",
        "X_scaled = scaler.fit_transform(X)\n",
        "\n",
        "sgd_reg = SGDRegressor(penalty=\"l2\")\n",
        "sgd_reg.fit(X_scaled, y)"
      ],
      "execution_count": 39,
      "outputs": [
        {
          "output_type": "execute_result",
          "data": {
            "text/plain": [
              "SGDRegressor(alpha=0.0001, average=False, early_stopping=False, epsilon=0.1,\n",
              "             eta0=0.01, fit_intercept=True, l1_ratio=0.15,\n",
              "             learning_rate='invscaling', loss='squared_loss', max_iter=1000,\n",
              "             n_iter_no_change=5, penalty='l2', power_t=0.25, random_state=None,\n",
              "             shuffle=True, tol=0.001, validation_fraction=0.1, verbose=0,\n",
              "             warm_start=False)"
            ]
          },
          "metadata": {
            "tags": []
          },
          "execution_count": 39
        }
      ]
    },
    {
      "cell_type": "code",
      "metadata": {
        "id": "-IGL6gv-4Tlc",
        "outputId": "0a3cd91e-65d8-44ac-ed5e-f78dd2f33924",
        "colab": {
          "base_uri": "https://localhost:8080/"
        }
      },
      "source": [
        "X_predict = X_scaled[0]\n",
        "y_hat = sgd_reg.predict([X_predict])\n",
        "y_hat, y[0]"
      ],
      "execution_count": 40,
      "outputs": [
        {
          "output_type": "execute_result",
          "data": {
            "text/plain": [
              "(array([30.19094846]), 24.0)"
            ]
          },
          "metadata": {
            "tags": []
          },
          "execution_count": 40
        }
      ]
    },
    {
      "cell_type": "markdown",
      "metadata": {
        "id": "2zl0X9Pp4fdS"
      },
      "source": [
        "# Lasso (closed form solution)"
      ]
    },
    {
      "cell_type": "code",
      "metadata": {
        "id": "S8S9jbBp4fvv",
        "outputId": "2bf89e0d-f553-4098-ee5f-079a705f8bed",
        "colab": {
          "base_uri": "https://localhost:8080/"
        }
      },
      "source": [
        "X, y = boston.data, boston.target\n",
        "\n",
        "lasso_reg = Lasso(alpha=1.0)\n",
        "lasso_reg.fit(X, y)"
      ],
      "execution_count": 41,
      "outputs": [
        {
          "output_type": "execute_result",
          "data": {
            "text/plain": [
              "Lasso(alpha=1.0, copy_X=True, fit_intercept=True, max_iter=1000,\n",
              "      normalize=False, positive=False, precompute=False, random_state=None,\n",
              "      selection='cyclic', tol=0.0001, warm_start=False)"
            ]
          },
          "metadata": {
            "tags": []
          },
          "execution_count": 41
        }
      ]
    },
    {
      "cell_type": "code",
      "metadata": {
        "id": "3M_rCdxN4hN2",
        "outputId": "7c10546e-c94e-4bb9-c11a-666e411af231",
        "colab": {
          "base_uri": "https://localhost:8080/"
        }
      },
      "source": [
        "X_predict = X[0]\n",
        "y_hat = lasso_reg.predict([X_predict])\n",
        "y_hat, y[0]"
      ],
      "execution_count": 42,
      "outputs": [
        {
          "output_type": "execute_result",
          "data": {
            "text/plain": [
              "(array([30.99753918]), 24.0)"
            ]
          },
          "metadata": {
            "tags": []
          },
          "execution_count": 42
        }
      ]
    },
    {
      "cell_type": "markdown",
      "metadata": {
        "id": "tnMBYMGN4iwi"
      },
      "source": [
        "# Lasso (SGD)"
      ]
    },
    {
      "cell_type": "code",
      "metadata": {
        "id": "zKF1LU9p4hKg",
        "outputId": "51b95551-728c-44e5-a4b6-24fad19600ce",
        "colab": {
          "base_uri": "https://localhost:8080/"
        }
      },
      "source": [
        "X, y = boston.data, boston.target\n",
        "scaler = StandardScaler()\n",
        "X_scaled = scaler.fit_transform(X)\n",
        "\n",
        "sgd_reg = SGDRegressor(penalty=\"l1\")\n",
        "sgd_reg.fit(X_scaled, y)"
      ],
      "execution_count": 43,
      "outputs": [
        {
          "output_type": "execute_result",
          "data": {
            "text/plain": [
              "SGDRegressor(alpha=0.0001, average=False, early_stopping=False, epsilon=0.1,\n",
              "             eta0=0.01, fit_intercept=True, l1_ratio=0.15,\n",
              "             learning_rate='invscaling', loss='squared_loss', max_iter=1000,\n",
              "             n_iter_no_change=5, penalty='l1', power_t=0.25, random_state=None,\n",
              "             shuffle=True, tol=0.001, validation_fraction=0.1, verbose=0,\n",
              "             warm_start=False)"
            ]
          },
          "metadata": {
            "tags": []
          },
          "execution_count": 43
        }
      ]
    },
    {
      "cell_type": "code",
      "metadata": {
        "id": "07Ve_u-S4hIe",
        "outputId": "ecbb04dc-e284-47f5-c233-6a58163ec732",
        "colab": {
          "base_uri": "https://localhost:8080/"
        }
      },
      "source": [
        "X_predict = X_scaled[0]\n",
        "y_hat = sgd_reg.predict([X_predict])\n",
        "y_hat, y[0]"
      ],
      "execution_count": 44,
      "outputs": [
        {
          "output_type": "execute_result",
          "data": {
            "text/plain": [
              "(array([30.2600855]), 24.0)"
            ]
          },
          "metadata": {
            "tags": []
          },
          "execution_count": 44
        }
      ]
    },
    {
      "cell_type": "markdown",
      "metadata": {
        "id": "AUg2q7cz4n8H"
      },
      "source": [
        "# Elastic Net"
      ]
    },
    {
      "cell_type": "code",
      "metadata": {
        "id": "EMuI5pZr4hGA",
        "outputId": "c01240e3-4258-4888-cb4c-dc3367b67446",
        "colab": {
          "base_uri": "https://localhost:8080/"
        }
      },
      "source": [
        "X, y = boston.data, boston.target\n",
        "scaler = StandardScaler()\n",
        "X_scaled = scaler.fit_transform(X)\n",
        "\n",
        "elastic_net = ElasticNet(alpha=0.1, l1_ratio=0.5)\n",
        "elastic_net.fit(X_scaled, y)"
      ],
      "execution_count": 45,
      "outputs": [
        {
          "output_type": "execute_result",
          "data": {
            "text/plain": [
              "ElasticNet(alpha=0.1, copy_X=True, fit_intercept=True, l1_ratio=0.5,\n",
              "           max_iter=1000, normalize=False, positive=False, precompute=False,\n",
              "           random_state=None, selection='cyclic', tol=0.0001, warm_start=False)"
            ]
          },
          "metadata": {
            "tags": []
          },
          "execution_count": 45
        }
      ]
    },
    {
      "cell_type": "code",
      "metadata": {
        "id": "YQ_LZuxG4hDS",
        "outputId": "cbc87b7a-fb6a-43e9-b2b6-355da35d9b20",
        "colab": {
          "base_uri": "https://localhost:8080/"
        }
      },
      "source": [
        "X_predict = X_scaled[0]\n",
        "y_hat = elastic_net.predict([X_predict])\n",
        "y_hat, y[0]"
      ],
      "execution_count": 46,
      "outputs": [
        {
          "output_type": "execute_result",
          "data": {
            "text/plain": [
              "(array([30.35210764]), 24.0)"
            ]
          },
          "metadata": {
            "tags": []
          },
          "execution_count": 46
        }
      ]
    },
    {
      "cell_type": "markdown",
      "metadata": {
        "id": "f0H0aUFz4sqw"
      },
      "source": [
        "# Early Stopping"
      ]
    },
    {
      "cell_type": "code",
      "metadata": {
        "id": "SDySeI914tDn"
      },
      "source": [
        ""
      ],
      "execution_count": 46,
      "outputs": []
    }
  ]
}