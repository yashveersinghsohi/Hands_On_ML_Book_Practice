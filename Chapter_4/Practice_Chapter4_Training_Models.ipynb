{
  "nbformat": 4,
  "nbformat_minor": 0,
  "metadata": {
    "colab": {
      "name": "Practice_Chapter4_Training_Models.ipynb",
      "provenance": [],
      "authorship_tag": "ABX9TyMfF+79rZxKKs8rdiuykQ0U",
      "include_colab_link": true
    },
    "kernelspec": {
      "name": "python3",
      "display_name": "Python 3"
    },
    "language_info": {
      "name": "python"
    }
  },
  "cells": [
    {
      "cell_type": "markdown",
      "metadata": {
        "id": "view-in-github",
        "colab_type": "text"
      },
      "source": [
        "<a href=\"https://colab.research.google.com/github/yashveersinghsohi/Hands_On_ML_Book_Practice/blob/master/Chapter_4/Practice_Chapter4_Training_Models.ipynb\" target=\"_parent\"><img src=\"https://colab.research.google.com/assets/colab-badge.svg\" alt=\"Open In Colab\"/></a>"
      ]
    },
    {
      "cell_type": "markdown",
      "metadata": {
        "id": "a0KnHq9aQClD"
      },
      "source": [
        "# Importing Packages"
      ]
    },
    {
      "cell_type": "code",
      "metadata": {
        "id": "7gW8_w_aQBHK"
      },
      "source": [
        "import pandas as pd\n",
        "import numpy as np\n",
        "import matplotlib.pyplot as plt\n",
        "\n",
        "from sklearn.datasets import (\n",
        "    load_boston, \n",
        "    load_iris\n",
        "  )\n",
        "from sklearn.linear_model import (\n",
        "    LinearRegression, \n",
        "    SGDRegressor, \n",
        "    Ridge, \n",
        "    Lasso, \n",
        "    ElasticNet, \n",
        "    LogisticRegression\n",
        "  )\n",
        "from sklearn.preprocessing import (\n",
        "    StandardScaler, \n",
        "    PolynomialFeatures\n",
        "  )\n",
        "from sklearn.metrics import mean_squared_error\n",
        "from sklearn.model_selection import train_test_split\n",
        "from sklearn.pipeline import Pipeline\n",
        "from sklearn.base import clone\n",
        "\n",
        "from tqdm import tqdm"
      ],
      "execution_count": 47,
      "outputs": []
    },
    {
      "cell_type": "markdown",
      "metadata": {
        "id": "hKbbq7yWuGVR"
      },
      "source": [
        "# Data"
      ]
    },
    {
      "cell_type": "code",
      "metadata": {
        "id": "IsLpq4VnuIYV"
      },
      "source": [
        "boston = load_boston()"
      ],
      "execution_count": 48,
      "outputs": []
    },
    {
      "cell_type": "markdown",
      "metadata": {
        "id": "1rw3wbbHvGlA"
      },
      "source": [
        "# Linear Regression using Normal Equation"
      ]
    },
    {
      "cell_type": "markdown",
      "metadata": {
        "id": "vvRiFGuow2dp"
      },
      "source": [
        "Data"
      ]
    },
    {
      "cell_type": "code",
      "metadata": {
        "id": "VPD03kPDvAbL"
      },
      "source": [
        "X, y = boston.data, boston.target\n",
        "X_b = np.c_[np.ones(shape=(X.shape[0], 1)), X]"
      ],
      "execution_count": 49,
      "outputs": []
    },
    {
      "cell_type": "markdown",
      "metadata": {
        "id": "JKP9hizWw3dZ"
      },
      "source": [
        "Normal Equation"
      ]
    },
    {
      "cell_type": "code",
      "metadata": {
        "colab": {
          "base_uri": "https://localhost:8080/"
        },
        "id": "7oYD4JvGw41R",
        "outputId": "6a72e2a2-9fb5-4e9b-f685-81d62b04951b"
      },
      "source": [
        "theta_best = np.dot(np.dot(np.linalg.pinv(np.dot(X_b.T, X_b)), X_b.T), y)\n",
        "theta_best"
      ],
      "execution_count": 50,
      "outputs": [
        {
          "output_type": "execute_result",
          "data": {
            "text/plain": [
              "array([ 3.64594884e+01, -1.08011358e-01,  4.64204584e-02,  2.05586264e-02,\n",
              "        2.68673382e+00, -1.77666112e+01,  3.80986521e+00,  6.92224641e-04,\n",
              "       -1.47556685e+00,  3.06049479e-01, -1.23345939e-02, -9.52747232e-01,\n",
              "        9.31168327e-03, -5.24758378e-01])"
            ]
          },
          "metadata": {
            "tags": []
          },
          "execution_count": 50
        }
      ]
    },
    {
      "cell_type": "markdown",
      "metadata": {
        "id": "PJ_UqrR8xbPw"
      },
      "source": [
        "Predict"
      ]
    },
    {
      "cell_type": "code",
      "metadata": {
        "colab": {
          "base_uri": "https://localhost:8080/"
        },
        "id": "nC31DLLFxTNH",
        "outputId": "418fec87-2008-4a34-f3e6-aec48eb26bbd"
      },
      "source": [
        "X_predict = X_b[0]\n",
        "y_hat = np.dot(theta_best, X_predict)\n",
        "y_hat, y[0]"
      ],
      "execution_count": 51,
      "outputs": [
        {
          "output_type": "execute_result",
          "data": {
            "text/plain": [
              "(30.003843377084745, 24.0)"
            ]
          },
          "metadata": {
            "tags": []
          },
          "execution_count": 51
        }
      ]
    },
    {
      "cell_type": "markdown",
      "metadata": {
        "id": "YChC_-uf0NZm"
      },
      "source": [
        "# Linear Regression using Sklearn"
      ]
    },
    {
      "cell_type": "markdown",
      "metadata": {
        "id": "AZxskEzn1CVe"
      },
      "source": [
        "Model"
      ]
    },
    {
      "cell_type": "code",
      "metadata": {
        "colab": {
          "base_uri": "https://localhost:8080/"
        },
        "id": "59cIRKWH0P4a",
        "outputId": "f937a2df-b12f-41d0-ac4e-c79b3523d2d6"
      },
      "source": [
        "lin_reg = LinearRegression()\n",
        "lin_reg.fit(X, y)\n",
        "lin_reg.intercept_, lin_reg.coef_"
      ],
      "execution_count": 52,
      "outputs": [
        {
          "output_type": "execute_result",
          "data": {
            "text/plain": [
              "(36.459488385090125,\n",
              " array([-1.08011358e-01,  4.64204584e-02,  2.05586264e-02,  2.68673382e+00,\n",
              "        -1.77666112e+01,  3.80986521e+00,  6.92224640e-04, -1.47556685e+00,\n",
              "         3.06049479e-01, -1.23345939e-02, -9.52747232e-01,  9.31168327e-03,\n",
              "        -5.24758378e-01]))"
            ]
          },
          "metadata": {
            "tags": []
          },
          "execution_count": 52
        }
      ]
    },
    {
      "cell_type": "markdown",
      "metadata": {
        "id": "kLlkjJtK1DUH"
      },
      "source": [
        "Predict"
      ]
    },
    {
      "cell_type": "code",
      "metadata": {
        "colab": {
          "base_uri": "https://localhost:8080/"
        },
        "id": "O8X5OdtI09Qz",
        "outputId": "9f3deb03-0e59-4b41-e14a-2b2328e13468"
      },
      "source": [
        "X_predict = X[0]\n",
        "y_hat = lin_reg.predict([X_predict])\n",
        "y_hat, y[0]"
      ],
      "execution_count": 53,
      "outputs": [
        {
          "output_type": "execute_result",
          "data": {
            "text/plain": [
              "(array([30.00384338]), 24.0)"
            ]
          },
          "metadata": {
            "tags": []
          },
          "execution_count": 53
        }
      ]
    },
    {
      "cell_type": "markdown",
      "metadata": {
        "id": "wBVmI8gjvRJg"
      },
      "source": [
        "# Stochastic Gradient Descent"
      ]
    },
    {
      "cell_type": "markdown",
      "metadata": {
        "id": "SHkYzR9UAIBL"
      },
      "source": [
        "Data"
      ]
    },
    {
      "cell_type": "code",
      "metadata": {
        "colab": {
          "base_uri": "https://localhost:8080/"
        },
        "id": "m8Pvtolx-9wJ",
        "outputId": "7aadd822-544c-4718-f94a-8aecf087bf47"
      },
      "source": [
        "X, y = boston.data, boston.target\n",
        "X_b = np.c_[np.ones(shape=(X.shape[0], 1)), X]\n",
        "X_b.shape, y.shape"
      ],
      "execution_count": 54,
      "outputs": [
        {
          "output_type": "execute_result",
          "data": {
            "text/plain": [
              "((506, 14), (506,))"
            ]
          },
          "metadata": {
            "tags": []
          },
          "execution_count": 54
        }
      ]
    },
    {
      "cell_type": "markdown",
      "metadata": {
        "id": "QnRLLB7YAI1R"
      },
      "source": [
        "Scaling"
      ]
    },
    {
      "cell_type": "code",
      "metadata": {
        "id": "Nzo2h1WD_kuE"
      },
      "source": [
        "scaler = StandardScaler()\n",
        "X_scaled = scaler.fit_transform(X)"
      ],
      "execution_count": 55,
      "outputs": []
    },
    {
      "cell_type": "markdown",
      "metadata": {
        "id": "Wc4b1eB6AKD-"
      },
      "source": [
        "Model"
      ]
    },
    {
      "cell_type": "code",
      "metadata": {
        "colab": {
          "base_uri": "https://localhost:8080/"
        },
        "id": "2SCmgYeMzUTa",
        "outputId": "6bbd4b90-922a-4e1b-8126-07cad4e1bff3"
      },
      "source": [
        "sgd_reg = SGDRegressor(penalty=None, eta0=0.01, max_iter=1000, tol=1e-3)\n",
        "sgd_reg.fit(X_scaled, y)\n",
        "sgd_reg.intercept_, sgd_reg.coef_"
      ],
      "execution_count": 56,
      "outputs": [
        {
          "output_type": "execute_result",
          "data": {
            "text/plain": [
              "(array([22.53286832]),\n",
              " array([-0.86085234,  0.94204603, -0.13464717,  0.72833865, -1.86768436,\n",
              "         2.76255129, -0.04736191, -3.0198458 ,  1.93589655, -1.27923599,\n",
              "        -2.0024051 ,  0.82548657, -3.70326616]))"
            ]
          },
          "metadata": {
            "tags": []
          },
          "execution_count": 56
        }
      ]
    },
    {
      "cell_type": "markdown",
      "metadata": {
        "id": "iiqXckFgALti"
      },
      "source": [
        "Predictions"
      ]
    },
    {
      "cell_type": "code",
      "metadata": {
        "colab": {
          "base_uri": "https://localhost:8080/"
        },
        "id": "RMdEBgTm_KN9",
        "outputId": "dff074e1-4e76-4c23-ecf8-7fb94b993ac7"
      },
      "source": [
        "X_predict = X_scaled[0]\n",
        "y_hat = sgd_reg.predict([X_predict])\n",
        "y_hat, y[0]"
      ],
      "execution_count": 57,
      "outputs": [
        {
          "output_type": "execute_result",
          "data": {
            "text/plain": [
              "(array([30.35058662]), 24.0)"
            ]
          },
          "metadata": {
            "tags": []
          },
          "execution_count": 57
        }
      ]
    },
    {
      "cell_type": "markdown",
      "metadata": {
        "id": "C3f5TyA6IMof"
      },
      "source": [
        "# Polynomial Regression"
      ]
    },
    {
      "cell_type": "markdown",
      "metadata": {
        "id": "ne5igHDJKPOY"
      },
      "source": [
        "Data"
      ]
    },
    {
      "cell_type": "code",
      "metadata": {
        "id": "JtNU6YIi_Tal"
      },
      "source": [
        "X, y = boston.data, boston.target\n",
        "X_b = np.c_[np.ones(shape=(X.shape[0], 1)), X]\n",
        "\n",
        "scaler = StandardScaler()\n",
        "X_scaled = scaler.fit_transform(X)"
      ],
      "execution_count": 58,
      "outputs": []
    },
    {
      "cell_type": "markdown",
      "metadata": {
        "id": "wTZTM-A1KQQP"
      },
      "source": [
        "Adding Polynomial Features"
      ]
    },
    {
      "cell_type": "code",
      "metadata": {
        "colab": {
          "base_uri": "https://localhost:8080/"
        },
        "id": "gwpA-q6fKP2G",
        "outputId": "a8278e1e-bc2a-40c6-a871-5ceff7f473c0"
      },
      "source": [
        "poly_features = PolynomialFeatures(degree=2, include_bias=False)\n",
        "X_poly = poly_features.fit_transform(X_scaled)\n",
        "X_scaled.shape, X_poly.shape"
      ],
      "execution_count": 59,
      "outputs": [
        {
          "output_type": "execute_result",
          "data": {
            "text/plain": [
              "((506, 13), (506, 104))"
            ]
          },
          "metadata": {
            "tags": []
          },
          "execution_count": 59
        }
      ]
    },
    {
      "cell_type": "markdown",
      "metadata": {
        "id": "1OEXs4WDLH14"
      },
      "source": [
        "Model"
      ]
    },
    {
      "cell_type": "code",
      "metadata": {
        "colab": {
          "base_uri": "https://localhost:8080/"
        },
        "id": "Ge3a9kyXLAIn",
        "outputId": "e670bdfe-4d04-4cb8-9c79-427569839830"
      },
      "source": [
        "lin_reg = LinearRegression()\n",
        "lin_reg.fit(X_poly, y)\n",
        "lin_reg.intercept_, lin_reg.coef_"
      ],
      "execution_count": 60,
      "outputs": [
        {
          "output_type": "execute_result",
          "data": {
            "text/plain": [
              "(679434669252.3757,\n",
              " array([ 1.59234951e+01,  1.50502515e+01,  9.36622159e+00,  2.30722377e+12,\n",
              "        -1.87308397e+00,  3.51318636e+00, -2.09148102e+00, -2.49408286e+00,\n",
              "         5.12328230e+00, -1.01107633e+01,  1.18145533e+00,  1.43242023e+00,\n",
              "        -3.16190626e+00,  1.16426626e-01,  4.34139171e+01,  2.32192411e+01,\n",
              "         5.43302795e+00, -7.15031736e-01,  8.28190784e-01, -7.48693468e-01,\n",
              "        -1.72395548e+00,  1.60313434e+01, -3.47896325e+01,  7.14658242e+00,\n",
              "        -2.55511066e-01,  1.27309309e+00, -2.62819140e-01, -8.27610903e-01,\n",
              "        -3.69842439e-01, -2.82159275e+00,  2.23447724e-01,  4.88085530e-02,\n",
              "        -5.04200936e-01, -1.01763916e+00,  2.49133301e+00, -3.52333069e-01,\n",
              "         1.38286972e+00, -7.49053955e-01,  1.85934448e+00,  1.43432617e-03,\n",
              "         9.49054718e-01,  1.42794800e+00,  6.67434692e-01,  1.92483521e+00,\n",
              "        -1.37421227e+00,  6.52282715e-01, -1.96197510e-01,  1.53338623e+00,\n",
              "        -5.54687500e-01, -6.79434669e+11, -1.00100708e+00, -9.83398438e-01,\n",
              "         9.53216553e-02,  5.96191406e-01, -1.58935547e-01,  1.96350098e-01,\n",
              "        -5.15014648e-01,  4.48287964e-01, -4.30038452e-01, -4.84863281e-01,\n",
              "         1.41723633e-01, -1.47521973e+00,  3.48937988e+00, -1.89768982e+00,\n",
              "         3.45425415e+00, -2.73989868e+00, -2.18017578e-01,  9.37835693e-01,\n",
              "         1.81823730e-01, -1.15948486e+00,  8.98437500e-02, -3.16162109e-01,\n",
              "        -2.25146484e+00, -8.22463989e-01, -2.45635986e-01, -9.57153320e-01,\n",
              "         1.27517700e-01, -2.60101318e-01,  3.82944489e+00, -2.58938599e+00,\n",
              "         4.69970703e-03, -1.65222168e+00, -1.49496460e+00,  1.91024780e+00,\n",
              "        -1.91540527e+00, -1.72570801e+00, -7.34558105e-01, -6.25915527e-01,\n",
              "         1.20744324e+00, -9.52687836e+00,  1.11236076e+01, -1.55413818e+00,\n",
              "         2.01049805e-01, -1.89984131e+00, -2.26521301e+00,  2.01929474e+00,\n",
              "        -1.43920898e+00, -7.31384277e-01,  8.11004639e-02,  5.01739502e-01,\n",
              "         9.21173096e-02, -3.07617188e-01, -3.05175781e-01,  6.55975342e-01]))"
            ]
          },
          "metadata": {
            "tags": []
          },
          "execution_count": 60
        }
      ]
    },
    {
      "cell_type": "markdown",
      "metadata": {
        "id": "GkTlK_y3LU7m"
      },
      "source": [
        "Predictions"
      ]
    },
    {
      "cell_type": "code",
      "metadata": {
        "colab": {
          "base_uri": "https://localhost:8080/"
        },
        "id": "i7Z9CeytLSMO",
        "outputId": "a1992272-60b4-440a-d729-657ffb634a53"
      },
      "source": [
        "X_predict = X_poly[0]\n",
        "y_hat = lin_reg.predict([X_predict])\n",
        "y_hat, y[0]"
      ],
      "execution_count": 61,
      "outputs": [
        {
          "output_type": "execute_result",
          "data": {
            "text/plain": [
              "(array([24.78417969]), 24.0)"
            ]
          },
          "metadata": {
            "tags": []
          },
          "execution_count": 61
        }
      ]
    },
    {
      "cell_type": "markdown",
      "metadata": {
        "id": "qlGcyRdRM39T"
      },
      "source": [
        "# Learning Curves"
      ]
    },
    {
      "cell_type": "code",
      "metadata": {
        "id": "FiiRmrygM41X"
      },
      "source": [
        "def plot_learning_curves(model, X, y):\n",
        "  X_train, X_test, y_train, y_test = train_test_split(\n",
        "      X, y, \n",
        "      test_size=0.2, \n",
        "      random_state=42\n",
        "    )\n",
        "  \n",
        "  train_errors = []\n",
        "  test_errors = []\n",
        "  for m in range(1, len(X_train)+1):\n",
        "    model.fit(X_train[:m], y_train[:m])\n",
        "    y_train_preds = model.predict(X_train[:m])\n",
        "    y_test_preds = model.predict(X_test)\n",
        "\n",
        "    train_errors.append(\n",
        "        np.sqrt(\n",
        "            mean_squared_error(\n",
        "                y_true=y_train[:m], \n",
        "                y_pred=y_train_preds\n",
        "              )\n",
        "          )\n",
        "      )\n",
        "    \n",
        "    test_errors.append(\n",
        "        np.sqrt(\n",
        "            mean_squared_error(\n",
        "                y_true=y_test, \n",
        "                y_pred=y_test_preds\n",
        "              )\n",
        "          )\n",
        "      )\n",
        "    \n",
        "  fig, ax = plt.subplots(figsize=(8, 5))\n",
        "  ax.plot(train_errors, \"b-\", label=\"train\")\n",
        "  ax.plot(test_errors, \"r-+\", label=\"test\")\n",
        "  \n",
        "  ax.set_ylim([0, 30])\n",
        "  ax.set_title(\"Learning Curves\", size=20)\n",
        "  ax.set_xlabel(\"Training Set size\", size=15)\n",
        "  ax.set_ylabel(\"Root Mean Squarred Error\", size=15)\n",
        "  \n",
        "  ax.legend()\n",
        "  plt.show()"
      ],
      "execution_count": 62,
      "outputs": []
    },
    {
      "cell_type": "markdown",
      "metadata": {
        "id": "c5QAe9hr4KTI"
      },
      "source": [
        "Learning Curves for Linear Model"
      ]
    },
    {
      "cell_type": "code",
      "metadata": {
        "id": "7i7_SvWp4KP2",
        "colab": {
          "base_uri": "https://localhost:8080/",
          "height": 360
        },
        "outputId": "b50b0eb5-00e6-4903-91ba-d1dd78b7f063"
      },
      "source": [
        "X, y = boston.data, boston.target\n",
        "\n",
        "lin_reg = LinearRegression()\n",
        "plot_learning_curves(lin_reg, X, y)"
      ],
      "execution_count": 63,
      "outputs": [
        {
          "output_type": "display_data",
          "data": {
            "image/png": "[encoded data removed]",
            "text/plain": [
              "<Figure size 576x360 with 1 Axes>"
            ]
          },
          "metadata": {
            "tags": [],
            "needs_background": "light"
          }
        }
      ]
    },
    {
      "cell_type": "markdown",
      "metadata": {
        "id": "Y1Z2vPPK4KN8"
      },
      "source": [
        "Learning Curve for Polynomial Model"
      ]
    },
    {
      "cell_type": "code",
      "metadata": {
        "id": "wirHfp3d4KL7",
        "colab": {
          "base_uri": "https://localhost:8080/",
          "height": 360
        },
        "outputId": "b46e9ef4-55a3-4245-f9ad-4d70775d0e91"
      },
      "source": [
        "X, y = boston.data, boston.target\n",
        "X_b = np.c_[np.ones(shape=(X.shape[0], 1)), X]\n",
        "\n",
        "scaler = StandardScaler()\n",
        "X_scaled = scaler.fit_transform(X)\n",
        "\n",
        "poly_features = PolynomialFeatures(degree=2, include_bias=False)\n",
        "X_poly = poly_features.fit_transform(X_scaled)\n",
        "\n",
        "lin_reg = LinearRegression()\n",
        "plot_learning_curves(lin_reg, X_poly, y)"
      ],
      "execution_count": 64,
      "outputs": [
        {
          "output_type": "display_data",
          "data": {
            "image/png": "[encoded data removed]",
            "text/plain": [
              "<Figure size 576x360 with 1 Axes>"
            ]
          },
          "metadata": {
            "tags": [],
            "needs_background": "light"
          }
        }
      ]
    },
    {
      "cell_type": "markdown",
      "metadata": {
        "id": "604eq3d44WbU"
      },
      "source": [
        "# Ridge Regression with closed form solution"
      ]
    },
    {
      "cell_type": "code",
      "metadata": {
        "id": "4RHoZ8iD4Ttu",
        "colab": {
          "base_uri": "https://localhost:8080/"
        },
        "outputId": "567b456e-69da-4804-dcdd-5a28f095a671"
      },
      "source": [
        "X, y = boston.data, boston.target\n",
        "\n",
        "ridge_reg = Ridge(alpha=1.0, solver=\"cholesky\")\n",
        "ridge_reg.fit(X, y)"
      ],
      "execution_count": 65,
      "outputs": [
        {
          "output_type": "execute_result",
          "data": {
            "text/plain": [
              "Ridge(alpha=1.0, copy_X=True, fit_intercept=True, max_iter=None,\n",
              "      normalize=False, random_state=None, solver='cholesky', tol=0.001)"
            ]
          },
          "metadata": {
            "tags": []
          },
          "execution_count": 65
        }
      ]
    },
    {
      "cell_type": "code",
      "metadata": {
        "id": "4eNZIy8r4TqZ",
        "colab": {
          "base_uri": "https://localhost:8080/"
        },
        "outputId": "5cd54f39-9df4-4d4a-e8f4-aa8166333ac6"
      },
      "source": [
        "X_predict = X[0]\n",
        "y_hat = ridge_reg.predict([X_predict])\n",
        "y_hat, y[0]"
      ],
      "execution_count": 66,
      "outputs": [
        {
          "output_type": "execute_result",
          "data": {
            "text/plain": [
              "(array([30.25311604]), 24.0)"
            ]
          },
          "metadata": {
            "tags": []
          },
          "execution_count": 66
        }
      ]
    },
    {
      "cell_type": "markdown",
      "metadata": {
        "id": "nHjjeCU_4bFw"
      },
      "source": [
        "# Ridge Regression with SGD"
      ]
    },
    {
      "cell_type": "code",
      "metadata": {
        "id": "X_0EEOPU4Tn2",
        "colab": {
          "base_uri": "https://localhost:8080/"
        },
        "outputId": "2f50ca8d-07ad-42df-c9f8-fe47a1b40afb"
      },
      "source": [
        "X, y = boston.data, boston.target\n",
        "scaler = StandardScaler()\n",
        "X_scaled = scaler.fit_transform(X)\n",
        "\n",
        "sgd_reg = SGDRegressor(penalty=\"l2\")\n",
        "sgd_reg.fit(X_scaled, y)"
      ],
      "execution_count": 67,
      "outputs": [
        {
          "output_type": "execute_result",
          "data": {
            "text/plain": [
              "SGDRegressor(alpha=0.0001, average=False, early_stopping=False, epsilon=0.1,\n",
              "             eta0=0.01, fit_intercept=True, l1_ratio=0.15,\n",
              "             learning_rate='invscaling', loss='squared_loss', max_iter=1000,\n",
              "             n_iter_no_change=5, penalty='l2', power_t=0.25, random_state=None,\n",
              "             shuffle=True, tol=0.001, validation_fraction=0.1, verbose=0,\n",
              "             warm_start=False)"
            ]
          },
          "metadata": {
            "tags": []
          },
          "execution_count": 67
        }
      ]
    },
    {
      "cell_type": "code",
      "metadata": {
        "id": "-IGL6gv-4Tlc",
        "colab": {
          "base_uri": "https://localhost:8080/"
        },
        "outputId": "8c142b0c-b142-44ad-cba6-e1331267ff60"
      },
      "source": [
        "X_predict = X_scaled[0]\n",
        "y_hat = sgd_reg.predict([X_predict])\n",
        "y_hat, y[0]"
      ],
      "execution_count": 68,
      "outputs": [
        {
          "output_type": "execute_result",
          "data": {
            "text/plain": [
              "(array([30.25620317]), 24.0)"
            ]
          },
          "metadata": {
            "tags": []
          },
          "execution_count": 68
        }
      ]
    },
    {
      "cell_type": "markdown",
      "metadata": {
        "id": "2zl0X9Pp4fdS"
      },
      "source": [
        "# Lasso (closed form solution)"
      ]
    },
    {
      "cell_type": "code",
      "metadata": {
        "id": "S8S9jbBp4fvv",
        "colab": {
          "base_uri": "https://localhost:8080/"
        },
        "outputId": "7b661ea5-35c1-4b42-9b3c-2fff89e4e8c8"
      },
      "source": [
        "X, y = boston.data, boston.target\n",
        "\n",
        "lasso_reg = Lasso(alpha=1.0)\n",
        "lasso_reg.fit(X, y)"
      ],
      "execution_count": 69,
      "outputs": [
        {
          "output_type": "execute_result",
          "data": {
            "text/plain": [
              "Lasso(alpha=1.0, copy_X=True, fit_intercept=True, max_iter=1000,\n",
              "      normalize=False, positive=False, precompute=False, random_state=None,\n",
              "      selection='cyclic', tol=0.0001, warm_start=False)"
            ]
          },
          "metadata": {
            "tags": []
          },
          "execution_count": 69
        }
      ]
    },
    {
      "cell_type": "code",
      "metadata": {
        "id": "3M_rCdxN4hN2",
        "colab": {
          "base_uri": "https://localhost:8080/"
        },
        "outputId": "1efb0807-33c8-4939-e60e-600b30621f09"
      },
      "source": [
        "X_predict = X[0]\n",
        "y_hat = lasso_reg.predict([X_predict])\n",
        "y_hat, y[0]"
      ],
      "execution_count": 70,
      "outputs": [
        {
          "output_type": "execute_result",
          "data": {
            "text/plain": [
              "(array([30.99753918]), 24.0)"
            ]
          },
          "metadata": {
            "tags": []
          },
          "execution_count": 70
        }
      ]
    },
    {
      "cell_type": "markdown",
      "metadata": {
        "id": "tnMBYMGN4iwi"
      },
      "source": [
        "# Lasso (SGD)"
      ]
    },
    {
      "cell_type": "code",
      "metadata": {
        "id": "zKF1LU9p4hKg",
        "colab": {
          "base_uri": "https://localhost:8080/"
        },
        "outputId": "4772d3e6-f4f7-4f4f-bcaf-40e061df56b8"
      },
      "source": [
        "X, y = boston.data, boston.target\n",
        "scaler = StandardScaler()\n",
        "X_scaled = scaler.fit_transform(X)\n",
        "\n",
        "sgd_reg = SGDRegressor(penalty=\"l1\")\n",
        "sgd_reg.fit(X_scaled, y)"
      ],
      "execution_count": 71,
      "outputs": [
        {
          "output_type": "execute_result",
          "data": {
            "text/plain": [
              "SGDRegressor(alpha=0.0001, average=False, early_stopping=False, epsilon=0.1,\n",
              "             eta0=0.01, fit_intercept=True, l1_ratio=0.15,\n",
              "             learning_rate='invscaling', loss='squared_loss', max_iter=1000,\n",
              "             n_iter_no_change=5, penalty='l1', power_t=0.25, random_state=None,\n",
              "             shuffle=True, tol=0.001, validation_fraction=0.1, verbose=0,\n",
              "             warm_start=False)"
            ]
          },
          "metadata": {
            "tags": []
          },
          "execution_count": 71
        }
      ]
    },
    {
      "cell_type": "code",
      "metadata": {
        "id": "07Ve_u-S4hIe",
        "colab": {
          "base_uri": "https://localhost:8080/"
        },
        "outputId": "034622cc-d571-4b28-f411-1d0302fa3f23"
      },
      "source": [
        "X_predict = X_scaled[0]\n",
        "y_hat = sgd_reg.predict([X_predict])\n",
        "y_hat, y[0]"
      ],
      "execution_count": 72,
      "outputs": [
        {
          "output_type": "execute_result",
          "data": {
            "text/plain": [
              "(array([30.27702512]), 24.0)"
            ]
          },
          "metadata": {
            "tags": []
          },
          "execution_count": 72
        }
      ]
    },
    {
      "cell_type": "markdown",
      "metadata": {
        "id": "AUg2q7cz4n8H"
      },
      "source": [
        "# Elastic Net"
      ]
    },
    {
      "cell_type": "code",
      "metadata": {
        "id": "EMuI5pZr4hGA",
        "colab": {
          "base_uri": "https://localhost:8080/"
        },
        "outputId": "fba55529-a07d-4bcd-9626-963c85b27638"
      },
      "source": [
        "X, y = boston.data, boston.target\n",
        "scaler = StandardScaler()\n",
        "X_scaled = scaler.fit_transform(X)\n",
        "\n",
        "elastic_net = ElasticNet(alpha=0.1, l1_ratio=0.5)\n",
        "elastic_net.fit(X_scaled, y)"
      ],
      "execution_count": 73,
      "outputs": [
        {
          "output_type": "execute_result",
          "data": {
            "text/plain": [
              "ElasticNet(alpha=0.1, copy_X=True, fit_intercept=True, l1_ratio=0.5,\n",
              "           max_iter=1000, normalize=False, positive=False, precompute=False,\n",
              "           random_state=None, selection='cyclic', tol=0.0001, warm_start=False)"
            ]
          },
          "metadata": {
            "tags": []
          },
          "execution_count": 73
        }
      ]
    },
    {
      "cell_type": "code",
      "metadata": {
        "id": "YQ_LZuxG4hDS",
        "colab": {
          "base_uri": "https://localhost:8080/"
        },
        "outputId": "bf869bb9-95e8-498d-caee-3e788d841828"
      },
      "source": [
        "X_predict = X_scaled[0]\n",
        "y_hat = elastic_net.predict([X_predict])\n",
        "y_hat, y[0]"
      ],
      "execution_count": 74,
      "outputs": [
        {
          "output_type": "execute_result",
          "data": {
            "text/plain": [
              "(array([30.35210764]), 24.0)"
            ]
          },
          "metadata": {
            "tags": []
          },
          "execution_count": 74
        }
      ]
    },
    {
      "cell_type": "markdown",
      "metadata": {
        "id": "f0H0aUFz4sqw"
      },
      "source": [
        "# Early Stopping"
      ]
    },
    {
      "cell_type": "code",
      "metadata": {
        "id": "SDySeI914tDn"
      },
      "source": [
        "# Data\n",
        "X, y = boston.data, boston.target\n",
        "X_train, X_test, y_train, y_test = train_test_split(\n",
        "    X, y, \n",
        "    test_size=0.2, \n",
        "    random_state=42\n",
        "  )\n",
        "\n",
        "# Pipeline for Polynomial-Standard Scaler\n",
        "poly_scaler = Pipeline(\n",
        "    [\n",
        "     (\"poly_features\", PolynomialFeatures(degree=2, include_bias=False)), \n",
        "     (\"std_scaler\", StandardScaler())\n",
        "    ]\n",
        "  )\n",
        "X_train_poly_scaled = poly_scaler.fit_transform(X_train)\n",
        "X_test_poly_scaled = poly_scaler.transform(X_test)\n",
        "\n",
        "# Model\n",
        "sgd_reg = SGDRegressor(\n",
        "    penalty=None, \n",
        "    tol=-np.infty, \n",
        "    max_iter=1, \n",
        "    warm_start=True, \n",
        "    learning_rate=\"constant\", \n",
        "    eta0=0.0005, \n",
        "    random_state=42\n",
        "  )"
      ],
      "execution_count": 75,
      "outputs": []
    },
    {
      "cell_type": "markdown",
      "metadata": {
        "id": "lVMLNrnX5bVQ"
      },
      "source": [
        "Model Training"
      ]
    },
    {
      "cell_type": "code",
      "metadata": {
        "id": "k4ZCUKko5ZyG",
        "outputId": "a7ef8259-ab39-4a7a-d1fc-4a13309c5089",
        "colab": {
          "base_uri": "https://localhost:8080/"
        }
      },
      "source": [
        "min_val_error = float(\"inf\")\n",
        "best_epoch, best_model = None, None\n",
        "\n",
        "for epoch in tqdm(range(1000), total=1000):\n",
        "  sgd_reg.fit(X_train_poly_scaled, y_train)\n",
        "  y_test_preds = sgd_reg.predict(X_test_poly_scaled)\n",
        "  y_test_error = mean_squared_error(y_true=y_test, y_pred=y_test_preds)\n",
        "  if y_test_error < min_val_error:\n",
        "    min_val_error = y_test_error\n",
        "    best_epoch, best_model = epoch, clone(sgd_reg)"
      ],
      "execution_count": 76,
      "outputs": [
        {
          "output_type": "stream",
          "text": [
            "100%|██████████| 1000/1000 [00:02<00:00, 469.22it/s]\n"
          ],
          "name": "stderr"
        }
      ]
    },
    {
      "cell_type": "markdown",
      "metadata": {
        "id": "Sh58no7r5ej5"
      },
      "source": [
        "Fitting Best Model"
      ]
    },
    {
      "cell_type": "code",
      "metadata": {
        "id": "aq75Kmzx5Zub",
        "outputId": "a8931f10-b504-4772-b88b-148e0bff7e4c",
        "colab": {
          "base_uri": "https://localhost:8080/"
        }
      },
      "source": [
        "best_epoch, best_model"
      ],
      "execution_count": 77,
      "outputs": [
        {
          "output_type": "execute_result",
          "data": {
            "text/plain": [
              "(326,\n",
              " SGDRegressor(alpha=0.0001, average=False, early_stopping=False, epsilon=0.1,\n",
              "              eta0=0.0005, fit_intercept=True, l1_ratio=0.15,\n",
              "              learning_rate='constant', loss='squared_loss', max_iter=1,\n",
              "              n_iter_no_change=5, penalty=None, power_t=0.25, random_state=42,\n",
              "              shuffle=True, tol=-inf, validation_fraction=0.1, verbose=0,\n",
              "              warm_start=True))"
            ]
          },
          "metadata": {
            "tags": []
          },
          "execution_count": 77
        }
      ]
    },
    {
      "cell_type": "code",
      "metadata": {
        "id": "1zv20EZf5ZsB",
        "outputId": "f89c0855-fb5d-4d71-eecc-2752fa160dd5",
        "colab": {
          "base_uri": "https://localhost:8080/"
        }
      },
      "source": [
        "best_model.warm_start = False\n",
        "best_model.max_iter = best_epoch\n",
        "best_model"
      ],
      "execution_count": 78,
      "outputs": [
        {
          "output_type": "execute_result",
          "data": {
            "text/plain": [
              "SGDRegressor(alpha=0.0001, average=False, early_stopping=False, epsilon=0.1,\n",
              "             eta0=0.0005, fit_intercept=True, l1_ratio=0.15,\n",
              "             learning_rate='constant', loss='squared_loss', max_iter=326,\n",
              "             n_iter_no_change=5, penalty=None, power_t=0.25, random_state=42,\n",
              "             shuffle=True, tol=-inf, validation_fraction=0.1, verbose=0,\n",
              "             warm_start=False)"
            ]
          },
          "metadata": {
            "tags": []
          },
          "execution_count": 78
        }
      ]
    },
    {
      "cell_type": "code",
      "metadata": {
        "id": "1QOB3gbT5Zps",
        "outputId": "10e801de-3b72-40a0-e024-ce4ff7440c35",
        "colab": {
          "base_uri": "https://localhost:8080/"
        }
      },
      "source": [
        "best_model.fit(X_train_poly_scaled, y_train)"
      ],
      "execution_count": 79,
      "outputs": [
        {
          "output_type": "execute_result",
          "data": {
            "text/plain": [
              "SGDRegressor(alpha=0.0001, average=False, early_stopping=False, epsilon=0.1,\n",
              "             eta0=0.0005, fit_intercept=True, l1_ratio=0.15,\n",
              "             learning_rate='constant', loss='squared_loss', max_iter=326,\n",
              "             n_iter_no_change=5, penalty=None, power_t=0.25, random_state=42,\n",
              "             shuffle=True, tol=-inf, validation_fraction=0.1, verbose=0,\n",
              "             warm_start=False)"
            ]
          },
          "metadata": {
            "tags": []
          },
          "execution_count": 79
        }
      ]
    },
    {
      "cell_type": "markdown",
      "metadata": {
        "id": "tRjkJeL65j3s"
      },
      "source": [
        "Predictions"
      ]
    },
    {
      "cell_type": "code",
      "metadata": {
        "id": "MtdnX4r75kEA",
        "outputId": "dacbbbf7-d79b-4f3f-b314-a0da54169c88",
        "colab": {
          "base_uri": "https://localhost:8080/"
        }
      },
      "source": [
        "X_predict = X_train_poly_scaled[0]\n",
        "y_hat = best_model.predict([X_predict])\n",
        "y_hat, y_train[0]"
      ],
      "execution_count": 80,
      "outputs": [
        {
          "output_type": "execute_result",
          "data": {
            "text/plain": [
              "(array([11.36045392]), 12.0)"
            ]
          },
          "metadata": {
            "tags": []
          },
          "execution_count": 80
        }
      ]
    },
    {
      "cell_type": "markdown",
      "metadata": {
        "id": "bmbymaZw5mcN"
      },
      "source": [
        "# Logistic Regression"
      ]
    },
    {
      "cell_type": "code",
      "metadata": {
        "id": "XjYZ1Y2_5n1d",
        "outputId": "599af978-9b57-42cb-b921-2db5695f2d5f",
        "colab": {
          "base_uri": "https://localhost:8080/"
        }
      },
      "source": [
        "iris = load_iris()\n",
        "X, y = iris.data, iris.target\n",
        "X.shape, y.shape"
      ],
      "execution_count": 81,
      "outputs": [
        {
          "output_type": "execute_result",
          "data": {
            "text/plain": [
              "((150, 4), (150,))"
            ]
          },
          "metadata": {
            "tags": []
          },
          "execution_count": 81
        }
      ]
    },
    {
      "cell_type": "code",
      "metadata": {
        "id": "2xja6U2t5nyD",
        "outputId": "d694cbbe-1b0f-40e4-f503-addcbf8e1c94",
        "colab": {
          "base_uri": "https://localhost:8080/"
        }
      },
      "source": [
        "log_reg = LogisticRegression(max_iter=500)\n",
        "log_reg.fit(X[:, 3:].reshape(-1, 1), (y==2).astype(np.int))"
      ],
      "execution_count": 82,
      "outputs": [
        {
          "output_type": "execute_result",
          "data": {
            "text/plain": [
              "LogisticRegression(C=1.0, class_weight=None, dual=False, fit_intercept=True,\n",
              "                   intercept_scaling=1, l1_ratio=None, max_iter=500,\n",
              "                   multi_class='auto', n_jobs=None, penalty='l2',\n",
              "                   random_state=None, solver='lbfgs', tol=0.0001, verbose=0,\n",
              "                   warm_start=False)"
            ]
          },
          "metadata": {
            "tags": []
          },
          "execution_count": 82
        }
      ]
    },
    {
      "cell_type": "code",
      "metadata": {
        "id": "5OEiTR9C5nvt",
        "outputId": "01f939ff-c38f-40f1-f486-f5ded51813fc",
        "colab": {
          "base_uri": "https://localhost:8080/",
          "height": 361
        }
      },
      "source": [
        "X_new = np.linspace(start=0, stop=3, num=1000).reshape(-1, 1)\n",
        "y_proba = log_reg.predict_proba(X_new)\n",
        "y_preds = log_reg.predict(X_new)\n",
        "\n",
        "fig, ax = plt.subplots(figsize=(8, 5))\n",
        "\n",
        "ax.plot(X_new, y_proba[:, 1], \"g-\", label=\"Iris virginica\")\n",
        "ax.plot(X_new, y_proba[:, 0], \"b--\", label=\"Not Iris virginica\")\n",
        "\n",
        "ax.set_xlabel(\"X_new\", size=15)\n",
        "ax.set_ylabel(\"Probabilities\", size=15)\n",
        "ax.set_title(\"Decision Function curves\", size=20)\n",
        "\n",
        "ax.plot([0.0, 3.0], [0.5, 0.5], \"r--\", label=\"Decision Boundary\")\n",
        "\n",
        "plt.legend()\n",
        "plt.show()"
      ],
      "execution_count": 83,
      "outputs": [
        {
          "output_type": "display_data",
          "data": {
            "image/png": "[encoded data removed]",
            "text/plain": [
              "<Figure size 576x360 with 1 Axes>"
            ]
          },
          "metadata": {
            "tags": [],
            "needs_background": "light"
          }
        }
      ]
    },
    {
      "cell_type": "markdown",
      "metadata": {
        "id": "NzzymGaF6AiZ"
      },
      "source": [
        "# Softmax Regression"
      ]
    },
    {
      "cell_type": "code",
      "metadata": {
        "id": "UHtwcVKA5nt2",
        "outputId": "8f75b352-6a4e-4328-96e6-b9005cbf8b5d",
        "colab": {
          "base_uri": "https://localhost:8080/"
        }
      },
      "source": [
        "iris = load_iris()\n",
        "X, y = iris.data, iris.target\n",
        "X.shape, y.shape"
      ],
      "execution_count": 84,
      "outputs": [
        {
          "output_type": "execute_result",
          "data": {
            "text/plain": [
              "((150, 4), (150,))"
            ]
          },
          "metadata": {
            "tags": []
          },
          "execution_count": 84
        }
      ]
    },
    {
      "cell_type": "code",
      "metadata": {
        "id": "Md_fsUEH5nr0",
        "outputId": "c02fb79a-2d80-407c-aec7-0db40ea19a38",
        "colab": {
          "base_uri": "https://localhost:8080/"
        }
      },
      "source": [
        "softmax_reg = LogisticRegression(\n",
        "    multi_class=\"multinomial\", \n",
        "    solver=\"lbfgs\", \n",
        "    C=10, \n",
        "    max_iter=500\n",
        "  )\n",
        "softmax_reg.fit(X[:, (2, 3)], y)"
      ],
      "execution_count": 85,
      "outputs": [
        {
          "output_type": "execute_result",
          "data": {
            "text/plain": [
              "LogisticRegression(C=10, class_weight=None, dual=False, fit_intercept=True,\n",
              "                   intercept_scaling=1, l1_ratio=None, max_iter=500,\n",
              "                   multi_class='multinomial', n_jobs=None, penalty='l2',\n",
              "                   random_state=None, solver='lbfgs', tol=0.0001, verbose=0,\n",
              "                   warm_start=False)"
            ]
          },
          "metadata": {
            "tags": []
          },
          "execution_count": 85
        }
      ]
    },
    {
      "cell_type": "code",
      "metadata": {
        "id": "G_KnTVcT6D6v",
        "outputId": "0b1a000e-88bb-42b4-c31e-174c94c2f730",
        "colab": {
          "base_uri": "https://localhost:8080/"
        }
      },
      "source": [
        "softmax_reg.predict([[5, 2]])"
      ],
      "execution_count": 86,
      "outputs": [
        {
          "output_type": "execute_result",
          "data": {
            "text/plain": [
              "array([2])"
            ]
          },
          "metadata": {
            "tags": []
          },
          "execution_count": 86
        }
      ]
    },
    {
      "cell_type": "code",
      "metadata": {
        "id": "5eXyg9lo6D3V",
        "outputId": "36c4459e-4f6a-42dc-95e5-a5a45116b371",
        "colab": {
          "base_uri": "https://localhost:8080/"
        }
      },
      "source": [
        "softmax_reg.predict_proba([[5, 2]])"
      ],
      "execution_count": 87,
      "outputs": [
        {
          "output_type": "execute_result",
          "data": {
            "text/plain": [
              "array([[6.38014896e-07, 5.74929995e-02, 9.42506362e-01]])"
            ]
          },
          "metadata": {
            "tags": []
          },
          "execution_count": 87
        }
      ]
    }
  ]
}