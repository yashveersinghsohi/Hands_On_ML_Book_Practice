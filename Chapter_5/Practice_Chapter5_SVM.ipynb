{
  "nbformat": 4,
  "nbformat_minor": 0,
  "metadata": {
    "colab": {
      "name": "Practice_Chapter5_SVM.ipynb",
      "provenance": [],
      "authorship_tag": "ABX9TyOOoGH67mDKoPMkeWinG503",
      "include_colab_link": true
    },
    "kernelspec": {
      "name": "python3",
      "display_name": "Python 3"
    },
    "language_info": {
      "name": "python"
    }
  },
  "cells": [
    {
      "cell_type": "markdown",
      "metadata": {
        "id": "view-in-github",
        "colab_type": "text"
      },
      "source": [
        "<a href=\"https://colab.research.google.com/github/yashveersinghsohi/Hands_On_ML_Book_Practice/blob/master/Chapter_5/Practice_Chapter5_SVM.ipynb\" target=\"_parent\"><img src=\"https://colab.research.google.com/assets/colab-badge.svg\" alt=\"Open In Colab\"/></a>"
      ]
    },
    {
      "cell_type": "markdown",
      "metadata": {
        "id": "doc2Dyu6qFQH"
      },
      "source": [
        "# Importing Packages"
      ]
    },
    {
      "cell_type": "code",
      "metadata": {
        "id": "Sd6-YXJyqBZq"
      },
      "source": [
        "import pandas as pd\n",
        "import numpy as np\n",
        "import matplotlib.pyplot as plt\n",
        "import seaborn as sns\n",
        "\n",
        "from sklearn.datasets import (\n",
        "    load_iris, \n",
        "    make_moons\n",
        "  )\n",
        "from sklearn.pipeline import Pipeline\n",
        "from sklearn.preprocessing import (\n",
        "    StandardScaler, \n",
        "    PolynomialFeatures\n",
        "  )\n",
        "from sklearn.svm import (\n",
        "    LinearSVC, \n",
        "    SVC, \n",
        "    LinearSVR, \n",
        "    SVR, \n",
        "    OneClassSVM\n",
        "  )"
      ],
      "execution_count": 27,
      "outputs": []
    },
    {
      "cell_type": "markdown",
      "metadata": {
        "id": "8g-VFxeiqZ36"
      },
      "source": [
        "# Linear SVM Classification"
      ]
    },
    {
      "cell_type": "code",
      "metadata": {
        "id": "ZRac_N4oqZZZ"
      },
      "source": [
        "iris = load_iris()\n",
        "X, y = iris.data[:, (2, 3)], (iris.target==2).astype(np.int)"
      ],
      "execution_count": 3,
      "outputs": []
    },
    {
      "cell_type": "code",
      "metadata": {
        "colab": {
          "base_uri": "https://localhost:8080/"
        },
        "id": "leLIIzlOrLvi",
        "outputId": "f6030dfc-f5ce-4d51-d7bc-e855c5dfa20f"
      },
      "source": [
        "svm_clf = Pipeline(\n",
        "    [\n",
        "     (\"scaler\", StandardScaler()), \n",
        "     (\"linear_svc\", LinearSVC(loss=\"hinge\", C=1.0))\n",
        "    ]\n",
        ")\n",
        "\n",
        "svm_clf.fit(X, y)"
      ],
      "execution_count": 4,
      "outputs": [
        {
          "output_type": "execute_result",
          "data": {
            "text/plain": [
              "Pipeline(memory=None,\n",
              "         steps=[('scaler',\n",
              "                 StandardScaler(copy=True, with_mean=True, with_std=True)),\n",
              "                ('linear_svc',\n",
              "                 LinearSVC(C=1.0, class_weight=None, dual=True,\n",
              "                           fit_intercept=True, intercept_scaling=1,\n",
              "                           loss='hinge', max_iter=1000, multi_class='ovr',\n",
              "                           penalty='l2', random_state=None, tol=0.0001,\n",
              "                           verbose=0))],\n",
              "         verbose=False)"
            ]
          },
          "metadata": {
            "tags": []
          },
          "execution_count": 4
        }
      ]
    },
    {
      "cell_type": "code",
      "metadata": {
        "colab": {
          "base_uri": "https://localhost:8080/"
        },
        "id": "M3dmUHcprwRf",
        "outputId": "6d5825c3-6f66-4014-e6bc-b96a8f675e0e"
      },
      "source": [
        "svm_clf.predict([[5.5, 1.7]])"
      ],
      "execution_count": 5,
      "outputs": [
        {
          "output_type": "execute_result",
          "data": {
            "text/plain": [
              "array([1])"
            ]
          },
          "metadata": {
            "tags": []
          },
          "execution_count": 5
        }
      ]
    },
    {
      "cell_type": "markdown",
      "metadata": {
        "id": "AcA-cmv4vCUW"
      },
      "source": [
        "# Non-Linear SVM Classification"
      ]
    },
    {
      "cell_type": "code",
      "metadata": {
        "id": "NWgff4bgr6QT"
      },
      "source": [
        "X, y = make_moons(n_samples=100, noise=0.15)"
      ],
      "execution_count": 7,
      "outputs": []
    },
    {
      "cell_type": "code",
      "metadata": {
        "colab": {
          "base_uri": "https://localhost:8080/"
        },
        "id": "9UomsDTPvHPY",
        "outputId": "a1725894-519d-4425-b367-57a081c089fb"
      },
      "source": [
        "poly_svm_clf = Pipeline(\n",
        "    [\n",
        "     (\"poly_features\", PolynomialFeatures(degree=3)), \n",
        "     (\"scaler\", StandardScaler()), \n",
        "     (\"svm_clf\", LinearSVC(loss=\"hinge\", C=10.0, max_iter=2000))\n",
        "    ]\n",
        ")\n",
        "poly_svm_clf.fit(X, y)"
      ],
      "execution_count": 11,
      "outputs": [
        {
          "output_type": "execute_result",
          "data": {
            "text/plain": [
              "Pipeline(memory=None,\n",
              "         steps=[('poly_features',\n",
              "                 PolynomialFeatures(degree=3, include_bias=True,\n",
              "                                    interaction_only=False, order='C')),\n",
              "                ('scaler',\n",
              "                 StandardScaler(copy=True, with_mean=True, with_std=True)),\n",
              "                ('svm_clf',\n",
              "                 LinearSVC(C=10.0, class_weight=None, dual=True,\n",
              "                           fit_intercept=True, intercept_scaling=1,\n",
              "                           loss='hinge', max_iter=2000, multi_class='ovr',\n",
              "                           penalty='l2', random_state=None, tol=0.0001,\n",
              "                           verbose=0))],\n",
              "         verbose=False)"
            ]
          },
          "metadata": {
            "tags": []
          },
          "execution_count": 11
        }
      ]
    },
    {
      "cell_type": "markdown",
      "metadata": {
        "id": "CgjU28p_ycU7"
      },
      "source": [
        "# Polynomial Kernel"
      ]
    },
    {
      "cell_type": "code",
      "metadata": {
        "id": "ElgePR0OxTy4"
      },
      "source": [
        "X, y = make_moons(n_samples=100, noise=0.15)"
      ],
      "execution_count": 15,
      "outputs": []
    },
    {
      "cell_type": "code",
      "metadata": {
        "colab": {
          "base_uri": "https://localhost:8080/"
        },
        "id": "khkBQif7ytjj",
        "outputId": "603e9995-d210-403d-ffd3-25d67f0f1c2a"
      },
      "source": [
        "poly_kernel_svm_clf = Pipeline(\n",
        "    [ \n",
        "     (\"scaler\", StandardScaler()), \n",
        "     (\"svm_clf\", SVC(kernel=\"poly\",  degree=3, coef0=1, C=5))\n",
        "    ]\n",
        ")\n",
        "\n",
        "poly_kernel_svm_clf.fit(X, y)"
      ],
      "execution_count": 16,
      "outputs": [
        {
          "output_type": "execute_result",
          "data": {
            "text/plain": [
              "Pipeline(memory=None,\n",
              "         steps=[('scaler',\n",
              "                 StandardScaler(copy=True, with_mean=True, with_std=True)),\n",
              "                ('svm_clf',\n",
              "                 SVC(C=5, break_ties=False, cache_size=200, class_weight=None,\n",
              "                     coef0=1, decision_function_shape='ovr', degree=3,\n",
              "                     gamma='scale', kernel='poly', max_iter=-1,\n",
              "                     probability=False, random_state=None, shrinking=True,\n",
              "                     tol=0.001, verbose=False))],\n",
              "         verbose=False)"
            ]
          },
          "metadata": {
            "tags": []
          },
          "execution_count": 16
        }
      ]
    },
    {
      "cell_type": "markdown",
      "metadata": {
        "id": "sUoar-Is96Us"
      },
      "source": [
        "# Gaussing Radial Bias Kernel"
      ]
    },
    {
      "cell_type": "code",
      "metadata": {
        "colab": {
          "base_uri": "https://localhost:8080/"
        },
        "id": "ORmAaShU4Y16",
        "outputId": "fe13445b-4c13-457b-dffb-d53ec2c07b89"
      },
      "source": [
        "X, y = make_moons(n_samples=100, noise=0.15)\n",
        "\n",
        "rbf_kernel_svm_clf = Pipeline(\n",
        "    [ \n",
        "     (\"scaler\", StandardScaler()), \n",
        "     (\"svm_clf\", SVC(kernel=\"rbf\",  gamma=5, C=0.001))\n",
        "    ]\n",
        ")\n",
        "\n",
        "rbf_kernel_svm_clf.fit(X, y)"
      ],
      "execution_count": 17,
      "outputs": [
        {
          "output_type": "execute_result",
          "data": {
            "text/plain": [
              "Pipeline(memory=None,\n",
              "         steps=[('scaler',\n",
              "                 StandardScaler(copy=True, with_mean=True, with_std=True)),\n",
              "                ('svm_clf',\n",
              "                 SVC(C=0.001, break_ties=False, cache_size=200,\n",
              "                     class_weight=None, coef0=0.0,\n",
              "                     decision_function_shape='ovr', degree=3, gamma=5,\n",
              "                     kernel='rbf', max_iter=-1, probability=False,\n",
              "                     random_state=None, shrinking=True, tol=0.001,\n",
              "                     verbose=False))],\n",
              "         verbose=False)"
            ]
          },
          "metadata": {
            "tags": []
          },
          "execution_count": 17
        }
      ]
    },
    {
      "cell_type": "markdown",
      "metadata": {
        "id": "Vx4_l2IhCQJm"
      },
      "source": [
        "# SVM Regression"
      ]
    },
    {
      "cell_type": "markdown",
      "metadata": {
        "id": "bg_zSWgwCzLe"
      },
      "source": [
        "Linear SVM Regression"
      ]
    },
    {
      "cell_type": "code",
      "metadata": {
        "id": "-WMAD3k4CkQ-"
      },
      "source": [
        "np.random.seed(42)\n",
        "m = 50\n",
        "X = 2 * np.random.rand(m, 1)\n",
        "y = (4 + 3 * X + np.random.randn(m, 1)).ravel()"
      ],
      "execution_count": 20,
      "outputs": []
    },
    {
      "cell_type": "code",
      "metadata": {
        "colab": {
          "base_uri": "https://localhost:8080/"
        },
        "id": "W1dPB5lA-NtV",
        "outputId": "2bc8a894-7c9b-40c0-c185-60d60159d755"
      },
      "source": [
        "svm_reg = LinearSVR(epsilon=1.5)\n",
        "svm_reg.fit(X, y)"
      ],
      "execution_count": 21,
      "outputs": [
        {
          "output_type": "execute_result",
          "data": {
            "text/plain": [
              "LinearSVR(C=1.0, dual=True, epsilon=1.5, fit_intercept=True,\n",
              "          intercept_scaling=1.0, loss='epsilon_insensitive', max_iter=1000,\n",
              "          random_state=None, tol=0.0001, verbose=0)"
            ]
          },
          "metadata": {
            "tags": []
          },
          "execution_count": 21
        }
      ]
    },
    {
      "cell_type": "markdown",
      "metadata": {
        "id": "0GM1vJ_VC13v"
      },
      "source": [
        "Polynomial SVM Regression"
      ]
    },
    {
      "cell_type": "code",
      "metadata": {
        "id": "dH6JnudECyti"
      },
      "source": [
        "np.random.seed(42)\n",
        "m = 100\n",
        "X = 2 * np.random.rand(m, 1) - 1\n",
        "y = (0.2 + 0.1 * X + 0.5 * X**2 + np.random.randn(m, 1)/10).ravel()"
      ],
      "execution_count": 25,
      "outputs": []
    },
    {
      "cell_type": "code",
      "metadata": {
        "colab": {
          "base_uri": "https://localhost:8080/"
        },
        "id": "qL6n-rIzCrfl",
        "outputId": "da7f9558-aee5-406f-c5c0-caddac99e289"
      },
      "source": [
        "svm_poly_reg = SVR(kernel=\"poly\", degree=2, C=100, epsilon=0.1, gamma=\"scale\")\n",
        "svm_poly_reg.fit(X, y)"
      ],
      "execution_count": 26,
      "outputs": [
        {
          "output_type": "execute_result",
          "data": {
            "text/plain": [
              "SVR(C=100, cache_size=200, coef0=0.0, degree=2, epsilon=0.1, gamma='scale',\n",
              "    kernel='poly', max_iter=-1, shrinking=True, tol=0.001, verbose=False)"
            ]
          },
          "metadata": {
            "tags": []
          },
          "execution_count": 26
        }
      ]
    },
    {
      "cell_type": "markdown",
      "metadata": {
        "id": "GK1Ou_rXE0hS"
      },
      "source": [
        "# SVM for Anomaly Detection"
      ]
    },
    {
      "cell_type": "markdown",
      "metadata": {
        "id": "VqbZ2xYcGXmi"
      },
      "source": [
        "Data"
      ]
    },
    {
      "cell_type": "code",
      "metadata": {
        "id": "G13KvMuFC80a"
      },
      "source": [
        "iris = load_iris()\n",
        "X, y = iris.data[:, (0, 1)], iris.target"
      ],
      "execution_count": 32,
      "outputs": []
    },
    {
      "cell_type": "markdown",
      "metadata": {
        "id": "NcyATJWKGYZl"
      },
      "source": [
        "Model"
      ]
    },
    {
      "cell_type": "code",
      "metadata": {
        "colab": {
          "base_uri": "https://localhost:8080/"
        },
        "id": "w0cOHz1qFPed",
        "outputId": "8797eb0d-dca1-4334-855b-8193742d0c11"
      },
      "source": [
        "model = OneClassSVM(kernel=\"rbf\", gamma=0.001, nu=0.03)\n",
        "model.fit(X)"
      ],
      "execution_count": 33,
      "outputs": [
        {
          "output_type": "execute_result",
          "data": {
            "text/plain": [
              "OneClassSVM(cache_size=200, coef0=0.0, degree=3, gamma=0.001, kernel='rbf',\n",
              "            max_iter=-1, nu=0.03, shrinking=True, tol=0.001, verbose=False)"
            ]
          },
          "metadata": {
            "tags": []
          },
          "execution_count": 33
        }
      ]
    },
    {
      "cell_type": "markdown",
      "metadata": {
        "id": "7bNFKx-tGZHq"
      },
      "source": [
        "Predictions"
      ]
    },
    {
      "cell_type": "code",
      "metadata": {
        "colab": {
          "base_uri": "https://localhost:8080/"
        },
        "id": "Ey6bO-0IFaxl",
        "outputId": "e577f04a-56ef-44b4-e3c8-9532659fe0c9"
      },
      "source": [
        "preds = model.predict(X)\n",
        "preds"
      ],
      "execution_count": 35,
      "outputs": [
        {
          "output_type": "execute_result",
          "data": {
            "text/plain": [
              "array([ 1,  1,  1,  1,  1,  1,  1,  1,  1,  1,  1,  1,  1, -1,  1,  1,  1,\n",
              "        1,  1,  1,  1,  1,  1,  1,  1,  1,  1,  1,  1,  1,  1,  1,  1,  1,\n",
              "        1,  1,  1,  1,  1,  1,  1, -1,  1,  1,  1,  1,  1,  1,  1,  1,  1,\n",
              "        1,  1,  1,  1,  1,  1,  1,  1,  1,  1,  1,  1,  1,  1,  1,  1,  1,\n",
              "        1,  1,  1,  1,  1,  1,  1,  1,  1,  1,  1,  1,  1,  1,  1,  1,  1,\n",
              "        1,  1,  1,  1,  1,  1,  1,  1,  1,  1,  1,  1,  1,  1,  1,  1,  1,\n",
              "        1,  1,  1,  1,  1,  1,  1,  1,  1,  1,  1,  1,  1,  1,  1, -1, -1,\n",
              "        1,  1,  1,  1,  1,  1,  1,  1,  1,  1,  1,  1, -1,  1,  1,  1,  1,\n",
              "        1,  1,  1,  1,  1,  1,  1,  1,  1,  1,  1,  1,  1,  1])"
            ]
          },
          "metadata": {
            "tags": []
          },
          "execution_count": 35
        }
      ]
    },
    {
      "cell_type": "markdown",
      "metadata": {
        "id": "Vdw0sQl9GaQi"
      },
      "source": [
        "Outliers"
      ]
    },
    {
      "cell_type": "code",
      "metadata": {
        "colab": {
          "base_uri": "https://localhost:8080/"
        },
        "id": "x_lsyfVXFhMt",
        "outputId": "e6d84eb4-6bf8-4bec-c5af-4f6700d6988a"
      },
      "source": [
        "X[preds==-1]"
      ],
      "execution_count": 36,
      "outputs": [
        {
          "output_type": "execute_result",
          "data": {
            "text/plain": [
              "array([[4.3, 3. ],\n",
              "       [4.5, 2.3],\n",
              "       [7.7, 3.8],\n",
              "       [7.7, 2.6],\n",
              "       [7.9, 3.8]])"
            ]
          },
          "metadata": {
            "tags": []
          },
          "execution_count": 36
        }
      ]
    },
    {
      "cell_type": "markdown",
      "metadata": {
        "id": "wh7Ifm1eGcA5"
      },
      "source": [
        "Visualizing Outliers"
      ]
    },
    {
      "cell_type": "code",
      "metadata": {
        "colab": {
          "base_uri": "https://localhost:8080/",
          "height": 322
        },
        "id": "RVZmvLotFtOW",
        "outputId": "d0858fef-6e89-4658-fe7e-ae4907914a57"
      },
      "source": [
        "fig, ax = plt.subplots(figsize=(8, 5))\n",
        "\n",
        "ax.scatter(X[preds==1][:, 0], X[preds==1][:, 1], color=\"blue\", marker=\"o\", label=\"Data Points\")\n",
        "ax.scatter(X[preds==-1][:, 0], X[preds==-1][:, 1], color=\"red\", marker=\"x\", label=\"Outliers\")\n",
        "\n",
        "plt.legend()\n",
        "plt.show()"
      ],
      "execution_count": 39,
      "outputs": [
        {
          "output_type": "display_data",
          "data": {
            "image/png": "[encoded data removed]",
            "text/plain": [
              "<Figure size 576x360 with 1 Axes>"
            ]
          },
          "metadata": {
            "tags": [],
            "needs_background": "light"
          }
        }
      ]
    }
  ]
}